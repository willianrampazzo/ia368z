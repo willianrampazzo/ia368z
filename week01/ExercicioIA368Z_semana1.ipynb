{
 "cells": [
  {
   "cell_type": "markdown",
   "metadata": {},
   "source": [
    "# Deep Learning Course - Requisites Exercises"
   ]
  },
  {
   "cell_type": "markdown",
   "metadata": {},
   "source": [
    "This is a Jupyter Notebook containing exercises to test the requisites for the IA368Z course that will be offered in the second semester of 2017."
   ]
  },
  {
   "cell_type": "markdown",
   "metadata": {},
   "source": [
    "### Python"
   ]
  },
  {
   "cell_type": "markdown",
   "metadata": {},
   "source": [
    "Use Python 3.6 while solving the exercises. We recommend [Anaconda](https://www.continuum.io/downloads) - a Data Science focused python distribution."
   ]
  },
  {
   "cell_type": "markdown",
   "metadata": {},
   "source": [
    "### Tools"
   ]
  },
  {
   "cell_type": "markdown",
   "metadata": {},
   "source": [
    "This is a Jupyter Notebook. If you never used one, a Jupyter notebook is a mix of Markdown (like a Wiki) and a Python program. It is very popular among people working with Data Science and Machine Learning in Python. If you need some help on how to use Jupyter Notebooks, please take a look at this [beginner-guide](https://jupyter-notebook-beginner-guide.readthedocs.io/en/latest/)."
   ]
  },
  {
   "cell_type": "markdown",
   "metadata": {},
   "source": [
    "You are free to add as many cells as you want to this notebook in order to make your work readable and well organized."
   ]
  },
  {
   "cell_type": "markdown",
   "metadata": {},
   "source": [
    "# Basic Exercises\n",
    "Let's begin! Start by printing your name and e-mail here:"
   ]
  },
  {
   "cell_type": "code",
   "execution_count": 1,
   "metadata": {
    "ExecuteTime": {
     "end_time": "2017-07-11T20:27:46.310372",
     "start_time": "2017-07-11T20:27:46.304539"
    }
   },
   "outputs": [
    {
     "name": "stdout",
     "output_type": "stream",
     "text": [
      "My name is Willian Rampazzo\n",
      "My email is willianr@\n"
     ]
    }
   ],
   "source": [
    "# fill in your data\n",
    "print('My name is Willian Rampazzo')\n",
    "print('My email is willianr@')"
   ]
  },
  {
   "cell_type": "markdown",
   "metadata": {},
   "source": [
    "## Lists"
   ]
  },
  {
   "cell_type": "markdown",
   "metadata": {
    "ExecuteTime": {
     "end_time": "2017-07-11T19:32:04.310368",
     "start_time": "2017-07-11T19:32:04.302283"
    }
   },
   "source": [
    "The following are list exercises. For those that do not have experience with Python, we recommend\n",
    "using these exercises do learn more about the subject related to the exercise."
   ]
  },
  {
   "cell_type": "code",
   "execution_count": 2,
   "metadata": {
    "ExecuteTime": {
     "end_time": "2017-07-11T20:27:46.318030",
     "start_time": "2017-07-11T20:27:46.313234"
    },
    "collapsed": true
   },
   "outputs": [],
   "source": [
    "mylist = [5, 8, 'abc', 0, 8.3]"
   ]
  },
  {
   "cell_type": "markdown",
   "metadata": {
    "ExecuteTime": {
     "end_time": "2017-07-11T19:20:42.951254",
     "start_time": "2017-07-11T19:20:42.947609"
    }
   },
   "source": [
    "### Print the number of elementos of the list `mylist`"
   ]
  },
  {
   "cell_type": "code",
   "execution_count": 3,
   "metadata": {
    "ExecuteTime": {
     "end_time": "2017-07-11T20:27:46.325875",
     "start_time": "2017-07-11T20:27:46.320592"
    }
   },
   "outputs": [
    {
     "name": "stdout",
     "output_type": "stream",
     "text": [
      "5\n"
     ]
    }
   ],
   "source": [
    "print(len(mylist))"
   ]
  },
  {
   "cell_type": "markdown",
   "metadata": {},
   "source": [
    "### This is list a"
   ]
  },
  {
   "cell_type": "code",
   "execution_count": 4,
   "metadata": {
    "ExecuteTime": {
     "end_time": "2017-07-11T20:27:46.334185",
     "start_time": "2017-07-11T20:27:46.328232"
    }
   },
   "outputs": [
    {
     "name": "stdout",
     "output_type": "stream",
     "text": [
      "[0, 1, 2, 3, 4, 5, 6, 7, 8, 9]\n"
     ]
    }
   ],
   "source": [
    "a = [i for i in range(10)]\n",
    "print(a)"
   ]
  },
  {
   "cell_type": "code",
   "execution_count": 5,
   "metadata": {
    "ExecuteTime": {
     "end_time": "2017-07-11T20:27:46.341900",
     "start_time": "2017-07-11T20:27:46.336842"
    }
   },
   "outputs": [
    {
     "name": "stdout",
     "output_type": "stream",
     "text": [
      "[3, 4]\n"
     ]
    }
   ],
   "source": [
    "print(a[3:5])"
   ]
  },
  {
   "cell_type": "code",
   "execution_count": 6,
   "metadata": {
    "ExecuteTime": {
     "end_time": "2017-07-11T20:27:46.348661",
     "start_time": "2017-07-11T20:27:46.344634"
    }
   },
   "outputs": [
    {
     "name": "stdout",
     "output_type": "stream",
     "text": [
      "[1, 3, 5, 7, 9]\n",
      "[2, 4, 6, 8]\n",
      "[7, 8, 9]\n",
      "[0, 1, 2]\n"
     ]
    }
   ],
   "source": [
    "# print the odd elements of list a:\n",
    "print(a[1::2])\n",
    "# print the even elements of list a:\n",
    "print(a[2::2])\n",
    "# print the last 3 elements of the list a:\n",
    "print(a[-3:])\n",
    "# print the first 3 elements of the list a:\n",
    "print(a[:3])"
   ]
  },
  {
   "cell_type": "code",
   "execution_count": 7,
   "metadata": {
    "ExecuteTime": {
     "end_time": "2017-07-11T20:27:46.356116",
     "start_time": "2017-07-11T20:27:46.351341"
    }
   },
   "outputs": [
    {
     "name": "stdout",
     "output_type": "stream",
     "text": [
      "[9, 8, 7, 6, 5, 4, 3, 2, 1, 0]\n"
     ]
    }
   ],
   "source": [
    "print(a[::-1])"
   ]
  },
  {
   "cell_type": "code",
   "execution_count": 8,
   "metadata": {
    "ExecuteTime": {
     "end_time": "2017-07-11T20:27:46.361602",
     "start_time": "2017-07-11T20:27:46.358265"
    }
   },
   "outputs": [
    {
     "name": "stdout",
     "output_type": "stream",
     "text": [
      "[9, 7, 5, 3, 1]\n"
     ]
    }
   ],
   "source": [
    "# print the odd elements of list a, from the largest to the smallest\n",
    "print(a[::-2])"
   ]
  },
  {
   "cell_type": "markdown",
   "metadata": {},
   "source": [
    "## Tuples"
   ]
  },
  {
   "cell_type": "code",
   "execution_count": 9,
   "metadata": {
    "ExecuteTime": {
     "end_time": "2017-07-11T20:27:46.368862",
     "start_time": "2017-07-11T20:27:46.363700"
    }
   },
   "outputs": [
    {
     "name": "stdout",
     "output_type": "stream",
     "text": [
      "(0, 1, 2, 3, 4, 5, 6, 7, 8, 9)\n"
     ]
    }
   ],
   "source": [
    "b = tuple(a)\n",
    "print(b)"
   ]
  },
  {
   "cell_type": "markdown",
   "metadata": {},
   "source": [
    "The main difference between a list and a tuple is a tuple is immutable, you cannot add or remove individual items to a tuple."
   ]
  },
  {
   "cell_type": "markdown",
   "metadata": {},
   "source": [
    "# Exercises with NumPy"
   ]
  },
  {
   "cell_type": "markdown",
   "metadata": {},
   "source": [
    "The following exercises should use only NumPy operations.\n",
    "Avoid import other packages"
   ]
  },
  {
   "cell_type": "code",
   "execution_count": 10,
   "metadata": {
    "ExecuteTime": {
     "end_time": "2017-07-11T20:27:46.822611",
     "start_time": "2017-07-11T20:27:46.370956"
    },
    "collapsed": true
   },
   "outputs": [],
   "source": [
    "import numpy as np"
   ]
  },
  {
   "cell_type": "code",
   "execution_count": 11,
   "metadata": {
    "ExecuteTime": {
     "end_time": "2017-07-11T20:27:46.830557",
     "start_time": "2017-07-11T20:27:46.824913"
    }
   },
   "outputs": [
    {
     "name": "stdout",
     "output_type": "stream",
     "text": [
      "[[ 8  9 10 11 12 13]\n",
      " [14 15 16 17 18 19]\n",
      " [20 21 22 23 24 25]\n",
      " [26 27 28 29 30 31]]\n"
     ]
    }
   ],
   "source": [
    "A = np.arange(8,8+24).reshape(4,6)\n",
    "print(A)"
   ]
  },
  {
   "cell_type": "markdown",
   "metadata": {},
   "source": [
    "### rows, cols, dimensions, shape and datatype"
   ]
  },
  {
   "cell_type": "code",
   "execution_count": 12,
   "metadata": {
    "ExecuteTime": {
     "end_time": "2017-07-11T20:27:46.836952",
     "start_time": "2017-07-11T20:27:46.832762"
    }
   },
   "outputs": [
    {
     "name": "stdout",
     "output_type": "stream",
     "text": [
      "4\n",
      "4\n",
      "6\n",
      "6\n",
      "2\n",
      "(4, 6)\n",
      "int64\n"
     ]
    }
   ],
   "source": [
    "# print the number of rows of A:\n",
    "# both works\n",
    "print(A.shape[0])\n",
    "print(len(A))\n",
    "\n",
    "# print the number of cols of A:\n",
    "#both works\n",
    "print(A.shape[1])\n",
    "print(len(A[0]))\n",
    "\n",
    "# print the number of dimensions of A:\n",
    "print(A.ndim)\n",
    "\n",
    "# print the shape of A:\n",
    "print(A.shape)\n",
    "\n",
    "# print the datatype of the elements of A\n",
    "print(A.dtype)\n"
   ]
  },
  {
   "cell_type": "markdown",
   "metadata": {},
   "source": [
    "### Boolean array"
   ]
  },
  {
   "cell_type": "code",
   "execution_count": 13,
   "metadata": {
    "ExecuteTime": {
     "end_time": "2017-07-11T20:27:46.845069",
     "start_time": "2017-07-11T20:27:46.839113"
    }
   },
   "outputs": [
    {
     "name": "stdout",
     "output_type": "stream",
     "text": [
      "[[ True  True  True  True  True  True]\n",
      " [ True False False False False False]\n",
      " [False False False False False False]\n",
      " [False False False False False False]]\n"
     ]
    }
   ],
   "source": [
    "# create a boolean matrix B with True if the element of A é less than 15 (without using a loop)\n",
    "B = A<15 # <<modify your code here\n",
    "print(B)"
   ]
  },
  {
   "cell_type": "markdown",
   "metadata": {},
   "source": [
    "### Axis reduction: sum"
   ]
  },
  {
   "cell_type": "code",
   "execution_count": 14,
   "metadata": {
    "ExecuteTime": {
     "end_time": "2017-07-11T20:27:46.852969",
     "start_time": "2017-07-11T20:27:46.847086"
    }
   },
   "outputs": [
    {
     "name": "stdout",
     "output_type": "stream",
     "text": [
      "[68 72 76 80 84 88]\n"
     ]
    }
   ],
   "source": [
    "print(A.sum(axis=0))"
   ]
  },
  {
   "cell_type": "code",
   "execution_count": 15,
   "metadata": {
    "ExecuteTime": {
     "end_time": "2017-07-11T20:27:46.867577",
     "start_time": "2017-07-11T20:27:46.855210"
    }
   },
   "outputs": [
    {
     "name": "stdout",
     "output_type": "stream",
     "text": [
      "1\n",
      "19.5\n"
     ]
    }
   ],
   "source": [
    "# what is the number of dimensions of the array C = A.sum(axis=0)?\n",
    "C = A.sum(axis=0)\n",
    "print(C.ndim)\n",
    "\n",
    "# compute the mean value of the array A\n",
    "print(A.mean())\n"
   ]
  },
  {
   "cell_type": "code",
   "execution_count": 16,
   "metadata": {
    "ExecuteTime": {
     "end_time": "2017-07-11T20:27:46.872965",
     "start_time": "2017-07-11T20:27:46.869775"
    }
   },
   "outputs": [
    {
     "name": "stdout",
     "output_type": "stream",
     "text": [
      "[[ 0.25806452  0.29032258  0.32258065  0.35483871  0.38709677  0.41935484]\n",
      " [ 0.4516129   0.48387097  0.51612903  0.5483871   0.58064516  0.61290323]\n",
      " [ 0.64516129  0.67741935  0.70967742  0.74193548  0.77419355  0.80645161]\n",
      " [ 0.83870968  0.87096774  0.90322581  0.93548387  0.96774194  1.        ]]\n"
     ]
    }
   ],
   "source": [
    "# create a matrix C that is a normalization of A, so that its value are between 0.0 and 1.0\n",
    "C = A*(1/A.max())\n",
    "print(C)"
   ]
  },
  {
   "cell_type": "code",
   "execution_count": 17,
   "metadata": {
    "ExecuteTime": {
     "end_time": "2017-07-11T20:27:46.879063",
     "start_time": "2017-07-11T20:27:46.875173"
    }
   },
   "outputs": [
    {
     "name": "stdout",
     "output_type": "stream",
     "text": [
      "[[ 0.30769231  0.33333333  0.35714286  0.37931034  0.4         0.41935484]\n",
      " [ 0.53846154  0.55555556  0.57142857  0.5862069   0.6         0.61290323]\n",
      " [ 0.76923077  0.77777778  0.78571429  0.79310345  0.8         0.80645161]\n",
      " [ 1.          1.          1.          1.          1.          1.        ]]\n"
     ]
    }
   ],
   "source": [
    "# create a matrix D that is a nomalization of the columns of A, so that each column of D has values between 0. and 1.\n",
    "D = A*(1/A.max(axis=0))\n",
    "print(D)"
   ]
  },
  {
   "cell_type": "markdown",
   "metadata": {},
   "source": [
    "### Slicing"
   ]
  },
  {
   "cell_type": "code",
   "execution_count": 18,
   "metadata": {
    "ExecuteTime": {
     "end_time": "2017-07-11T20:27:46.887255",
     "start_time": "2017-07-11T20:27:46.881320"
    }
   },
   "outputs": [
    {
     "name": "stdout",
     "output_type": "stream",
     "text": [
      "[[ 9 11 13]\n",
      " [15 17 19]\n",
      " [21 23 25]\n",
      " [27 29 31]]\n"
     ]
    }
   ],
   "source": [
    "# this operation is called slicing:\n",
    "AA = A[:,1::2]\n",
    "print(AA)"
   ]
  },
  {
   "cell_type": "code",
   "execution_count": 19,
   "metadata": {
    "ExecuteTime": {
     "end_time": "2017-07-11T20:27:46.892883",
     "start_time": "2017-07-11T20:27:46.889724"
    }
   },
   "outputs": [
    {
     "name": "stdout",
     "output_type": "stream",
     "text": [
      "[[14 15 16 17 18 19]\n",
      " [26 27 28 29 30 31]]\n"
     ]
    }
   ],
   "source": [
    "# create matrix AB with the odd rows of matrix A, using the concept of slicing:\n",
    "AB = A[1::2,:]\n",
    "print(AB)"
   ]
  },
  {
   "cell_type": "markdown",
   "metadata": {},
   "source": [
    "### Matrix dot product"
   ]
  },
  {
   "cell_type": "code",
   "execution_count": 20,
   "metadata": {
    "ExecuteTime": {
     "end_time": "2017-07-11T20:27:46.897993",
     "start_time": "2017-07-11T20:27:46.894835"
    }
   },
   "outputs": [
    {
     "name": "stdout",
     "output_type": "stream",
     "text": [
      "[[13 19 25 31]\n",
      " [12 18 24 30]\n",
      " [11 17 23 29]\n",
      " [10 16 22 28]\n",
      " [ 9 15 21 27]\n",
      " [ 8 14 20 26]]\n"
     ]
    }
   ],
   "source": [
    "# create a matriz AC which is a rotation of 90 degrees anti-clockwise of the matrix A\n",
    "AC = np.rot90(A)\n",
    "print(AC)"
   ]
  },
  {
   "cell_type": "markdown",
   "metadata": {},
   "source": [
    "Compute $$ E = A A^T $$"
   ]
  },
  {
   "cell_type": "code",
   "execution_count": 21,
   "metadata": {
    "ExecuteTime": {
     "end_time": "2017-07-11T20:27:46.905448",
     "start_time": "2017-07-11T20:27:46.900046"
    }
   },
   "outputs": [
    {
     "name": "stdout",
     "output_type": "stream",
     "text": [
      "[[ 679 1057 1435 1813]\n",
      " [1057 1651 2245 2839]\n",
      " [1435 2245 3055 3865]\n",
      " [1813 2839 3865 4891]]\n"
     ]
    }
   ],
   "source": [
    "E = A.dot(A.transpose()) # modify your code here\n",
    "print(E)"
   ]
  },
  {
   "cell_type": "markdown",
   "metadata": {},
   "source": [
    "### 3-D array"
   ]
  },
  {
   "cell_type": "code",
   "execution_count": 22,
   "metadata": {
    "ExecuteTime": {
     "end_time": "2017-07-11T20:27:46.913052",
     "start_time": "2017-07-11T20:27:46.907443"
    }
   },
   "outputs": [
    {
     "name": "stdout",
     "output_type": "stream",
     "text": [
      "[[[ 8  9 10]\n",
      "  [11 12 13]\n",
      "  [14 15 16]\n",
      "  [17 18 19]]\n",
      "\n",
      " [[20 21 22]\n",
      "  [23 24 25]\n",
      "  [26 27 28]\n",
      "  [29 30 31]]]\n"
     ]
    }
   ],
   "source": [
    "F = A.reshape(2,4,3)\n",
    "print(F)"
   ]
  },
  {
   "cell_type": "code",
   "execution_count": 23,
   "metadata": {
    "ExecuteTime": {
     "end_time": "2017-07-11T20:27:46.918954",
     "start_time": "2017-07-11T20:27:46.915341"
    }
   },
   "outputs": [
    {
     "name": "stdout",
     "output_type": "stream",
     "text": [
      "3\n",
      "(2, 4, 3)\n",
      "[ 13.5  25.5]\n"
     ]
    }
   ],
   "source": [
    "# print the number of dimensions of F\n",
    "print(F.ndim)\n",
    "\n",
    "# print the shape of F\n",
    "print(F.shape)\n",
    "\n",
    "# compute the mean value of the two matrices F[0] and F[1], using a single command using F.mean(??)\n",
    "print(F.mean(axis=(1,2)))"
   ]
  },
  {
   "cell_type": "code",
   "execution_count": 24,
   "metadata": {
    "ExecuteTime": {
     "end_time": "2017-07-11T20:27:46.926981",
     "start_time": "2017-07-11T20:27:46.921065"
    }
   },
   "outputs": [
    {
     "name": "stdout",
     "output_type": "stream",
     "text": [
      "[1 2 3 4]\n"
     ]
    }
   ],
   "source": [
    "v = np.array([1,2,3,4])\n",
    "print(v)"
   ]
  },
  {
   "cell_type": "markdown",
   "metadata": {},
   "source": [
    "### Broadcasting"
   ]
  },
  {
   "cell_type": "markdown",
   "metadata": {},
   "source": [
    "- What is the concept of broadcasting in NumPy?\n",
    "- Answer: Broadcasting is a way to work with arrays of different shapes during arithmetic operation. It stretches the smaller array to make them have compatible shapes."
   ]
  },
  {
   "cell_type": "code",
   "execution_count": 25,
   "metadata": {
    "ExecuteTime": {
     "end_time": "2017-07-11T20:27:46.932430",
     "start_time": "2017-07-11T20:27:46.929293"
    }
   },
   "outputs": [
    {
     "name": "stdout",
     "output_type": "stream",
     "text": [
      "[[ 9 10 11 12 13 14]\n",
      " [16 17 18 19 20 21]\n",
      " [23 24 25 26 27 28]\n",
      " [30 31 32 33 34 35]]\n"
     ]
    }
   ],
   "source": [
    "# Using the concept of broadcasting, create matrix G with the sum of vector v to every column of A:\n",
    "G = A + v.reshape(4,1)\n",
    "print(G)"
   ]
  },
  {
   "cell_type": "markdown",
   "metadata": {},
   "source": [
    "### Function - one-hot encoding"
   ]
  },
  {
   "cell_type": "markdown",
   "metadata": {},
   "source": [
    "Define a function that receives as input an one-dimensional array and the output a one-hot encoding\n",
    "following the example:"
   ]
  },
  {
   "cell_type": "code",
   "execution_count": 26,
   "metadata": {
    "ExecuteTime": {
     "end_time": "2017-07-11T20:27:46.940819",
     "start_time": "2017-07-11T20:27:46.934708"
    }
   },
   "outputs": [
    {
     "name": "stdout",
     "output_type": "stream",
     "text": [
      "[2 0 3 2 1]\n"
     ]
    }
   ],
   "source": [
    "# input\n",
    "aa = np.array([2,0,3,2,1])\n",
    "print(aa)"
   ]
  },
  {
   "cell_type": "code",
   "execution_count": 27,
   "metadata": {
    "ExecuteTime": {
     "end_time": "2017-07-11T20:27:46.950002",
     "start_time": "2017-07-11T20:27:46.943093"
    }
   },
   "outputs": [
    {
     "name": "stdout",
     "output_type": "stream",
     "text": [
      "[[0 0 1 0]\n",
      " [1 0 0 0]\n",
      " [0 0 0 1]\n",
      " [0 0 1 0]\n",
      " [0 1 0 0]]\n"
     ]
    }
   ],
   "source": [
    "# output\n",
    "oo = np.array([[0,0,1,0],\n",
    "               [1,0,0,0],\n",
    "               [0,0,0,1],\n",
    "               [0,0,1,0],\n",
    "               [0,1,0,0]])\n",
    "print(oo)"
   ]
  },
  {
   "cell_type": "code",
   "execution_count": 28,
   "metadata": {
    "ExecuteTime": {
     "end_time": "2017-07-11T20:27:46.957910",
     "start_time": "2017-07-11T20:27:46.952230"
    }
   },
   "outputs": [
    {
     "name": "stdout",
     "output_type": "stream",
     "text": [
      "[[ 0.  0.  1.  0.]\n",
      " [ 1.  0.  0.  0.]\n",
      " [ 0.  0.  0.  1.]\n",
      " [ 0.  0.  1.  0.]\n",
      " [ 0.  1.  0.  0.]]\n",
      "[[ 1.  0.  0.  0.  0.  0.  0.  0.  0.  0.]\n",
      " [ 0.  1.  0.  0.  0.  0.  0.  0.  0.  0.]\n",
      " [ 0.  0.  1.  0.  0.  0.  0.  0.  0.  0.]\n",
      " [ 0.  0.  0.  1.  0.  0.  0.  0.  0.  0.]\n",
      " [ 0.  0.  0.  0.  1.  0.  0.  0.  0.  0.]\n",
      " [ 0.  0.  0.  0.  0.  1.  0.  0.  0.  0.]\n",
      " [ 0.  0.  0.  0.  0.  0.  1.  0.  0.  0.]\n",
      " [ 0.  0.  0.  0.  0.  0.  0.  1.  0.  0.]\n",
      " [ 0.  0.  0.  0.  0.  0.  0.  0.  1.  0.]\n",
      " [ 0.  0.  0.  0.  0.  0.  0.  0.  0.  1.]]\n",
      "[[ 1.  0.]\n",
      " [ 0.  1.]\n",
      " [ 1.  0.]\n",
      " [ 0.  1.]\n",
      " [ 1.  0.]\n",
      " [ 0.  1.]]\n"
     ]
    }
   ],
   "source": [
    "# Try to avoid explicit loop as much as possible\n",
    "# Use only NumPy operations, no other libraries\n",
    "def one_hot(i):\n",
    "    # insert your code here\n",
    "    t = np.zeros((i.size, i.max()+1))\n",
    "    t[np.arange(i.size), i] = 1\n",
    "    return t\n",
    "\n",
    "print(one_hot(aa))\n",
    "\n",
    "# test with other vectors\n",
    "\n",
    "bb = np.array([0,1,2,3,4,5,6,7,8,9])\n",
    "print(one_hot(bb))\n",
    "cc = np.array([0,1,0,1,0,1])\n",
    "print(one_hot(cc))"
   ]
  },
  {
   "cell_type": "markdown",
   "metadata": {
    "collapsed": true
   },
   "source": [
    "# The end"
   ]
  }
 ],
 "metadata": {
  "kernelspec": {
   "display_name": "Python 3",
   "language": "python",
   "name": "python3"
  },
  "language_info": {
   "codemirror_mode": {
    "name": "ipython",
    "version": 3
   },
   "file_extension": ".py",
   "mimetype": "text/x-python",
   "name": "python",
   "nbconvert_exporter": "python",
   "pygments_lexer": "ipython3",
   "version": "3.6.3"
  },
  "toc": {
   "colors": {
    "hover_highlight": "#DAA520",
    "running_highlight": "#FF0000",
    "selected_highlight": "#FFD700"
   },
   "moveMenuLeft": true,
   "nav_menu": {
    "height": "354px",
    "width": "252px"
   },
   "navigate_menu": true,
   "number_sections": true,
   "sideBar": true,
   "threshold": 4,
   "toc_cell": false,
   "toc_section_display": "block",
   "toc_window_display": false
  }
 },
 "nbformat": 4,
 "nbformat_minor": 2
}
