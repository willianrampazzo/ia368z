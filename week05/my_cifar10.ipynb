{
 "cells": [
  {
   "cell_type": "markdown",
   "metadata": {},
   "source": [
    "# Cifar10 - exercicio de classificar 3 classes"
   ]
  },
  {
   "cell_type": "markdown",
   "metadata": {},
   "source": [
    "Fazer classificação de 3 classes usando rede neural convolucional.\n",
    "Não utilizar o pacote sklearn. Apenas o Keras e o NumPy."
   ]
  },
  {
   "cell_type": "markdown",
   "metadata": {},
   "source": [
    "Não utilizar a função de acompanhamento de gráficos durante o treinamento.\n",
    "\n",
    "Gerar uma figura mosaic que contenha as 5 imagens de classificação correta de menor probabilidade de predição.\n",
    "\n",
    "Gerar esta figura com o nome: cifar_fig.png"
   ]
  },
  {
   "cell_type": "markdown",
   "metadata": {},
   "source": [
    "## Importação de bibliotecas"
   ]
  },
  {
   "cell_type": "code",
   "execution_count": 1,
   "metadata": {},
   "outputs": [
    {
     "name": "stderr",
     "output_type": "stream",
     "text": [
      "Using TensorFlow backend.\n"
     ]
    }
   ],
   "source": [
    "import numpy as np\n",
    "\n",
    "from keras.callbacks import ModelCheckpoint, EarlyStopping\n",
    "from keras.layers import Conv2D, MaxPooling2D\n",
    "from keras.layers import Dense, Dropout, Activation, Flatten\n",
    "from keras.models import Sequential, load_model\n",
    "from keras.optimizers import RMSprop, SGD\n",
    "import keras.regularizers as reg\n",
    "from keras.utils import np_utils\n",
    "\n",
    "import keras.backend as K\n",
    "K.set_image_data_format('channels_first')\n",
    "K.set_floatx('float32')"
   ]
  },
  {
   "cell_type": "markdown",
   "metadata": {},
   "source": [
    "## Carregamento do dataset"
   ]
  },
  {
   "cell_type": "code",
   "execution_count": 2,
   "metadata": {
    "collapsed": true
   },
   "outputs": [],
   "source": [
    "data = np.load('cifar10-redux.npz')"
   ]
  },
  {
   "cell_type": "code",
   "execution_count": 3,
   "metadata": {
    "collapsed": true
   },
   "outputs": [],
   "source": [
    "X = data['X_train']\n",
    "y = data['y_train']\n",
    "X_test = data['X_test']\n",
    "y_test = data['y_test']"
   ]
  },
  {
   "cell_type": "code",
   "execution_count": 4,
   "metadata": {},
   "outputs": [
    {
     "data": {
      "text/plain": [
       "((2000, 3, 32, 32), (2000,), (500, 3, 32, 32), (500,))"
      ]
     },
     "execution_count": 4,
     "metadata": {},
     "output_type": "execute_result"
    }
   ],
   "source": [
    "X.shape, y.shape, X_test.shape, y_test.shape"
   ]
  },
  {
   "cell_type": "code",
   "execution_count": 5,
   "metadata": {
    "scrolled": true
   },
   "outputs": [
    {
     "data": {
      "text/plain": [
       "(dtype('uint8'), dtype('uint8'), dtype('uint8'), dtype('int64'))"
      ]
     },
     "execution_count": 5,
     "metadata": {},
     "output_type": "execute_result"
    }
   ],
   "source": [
    "X.dtype, y.dtype, X_test.dtype, y_test.dtype"
   ]
  },
  {
   "cell_type": "markdown",
   "metadata": {},
   "source": [
    "## Normalização dos dados"
   ]
  },
  {
   "cell_type": "code",
   "execution_count": 6,
   "metadata": {
    "collapsed": true
   },
   "outputs": [],
   "source": [
    "X = X.astype('float32')\n",
    "X_test = X_test.astype('float32')\n",
    "X /= 255.\n",
    "X_test /= 255.\n",
    "\n",
    "# transforma labels em 0, 1 e 2, ao invés de 3, 4 e 5\n",
    "y = y - 3\n",
    "y_test = y_test - 3"
   ]
  },
  {
   "cell_type": "markdown",
   "metadata": {},
   "source": [
    "## Separação dos dados de treinamento em treinamento e validação"
   ]
  },
  {
   "cell_type": "code",
   "execution_count": 7,
   "metadata": {},
   "outputs": [
    {
     "name": "stdout",
     "output_type": "stream",
     "text": [
      "(1605, 3, 32, 32)\n",
      "(395, 3, 32, 32)\n",
      "(1605,)\n",
      "(395,)\n"
     ]
    }
   ],
   "source": [
    "# numero de passageiros\n",
    "nb_data = X.shape[0]\n",
    "\n",
    "# semente fixa para dar reproducibilidade\n",
    "seed = 13\n",
    "np.random.seed(seed)\n",
    "\n",
    "msk = np.random.rand(nb_data) < 0.80\n",
    "X_train = X[msk]\n",
    "X_validate = X[~msk]\n",
    "y_train = y[msk]\n",
    "y_validate = y[~msk]\n",
    "\n",
    "print(X_train.shape)\n",
    "print(X_validate.shape)\n",
    "print(y_train.shape)\n",
    "print(y_validate.shape)"
   ]
  },
  {
   "cell_type": "markdown",
   "metadata": {},
   "source": [
    "## Transforma o vetor de labels para o formato de one-hot encoding."
   ]
  },
  {
   "cell_type": "code",
   "execution_count": 8,
   "metadata": {
    "collapsed": true
   },
   "outputs": [],
   "source": [
    "nb_classes = 3\n",
    "\n",
    "y_oh = np_utils.to_categorical(y, nb_classes)\n",
    "y_train_oh = np_utils.to_categorical(y_train, nb_classes)\n",
    "y_validate_oh = np_utils.to_categorical(y_validate, nb_classes)\n",
    "y_test_oh = np_utils.to_categorical(y_test, nb_classes)"
   ]
  },
  {
   "cell_type": "markdown",
   "metadata": {},
   "source": [
    "## Construíndo a CNN com o Keras"
   ]
  },
  {
   "cell_type": "code",
   "execution_count": 55,
   "metadata": {},
   "outputs": [
    {
     "name": "stdout",
     "output_type": "stream",
     "text": [
      "_________________________________________________________________\n",
      "Layer (type)                 Output Shape              Param #   \n",
      "=================================================================\n",
      "conv2d_52 (Conv2D)           (None, 32, 30, 30)        896       \n",
      "_________________________________________________________________\n",
      "activation_59 (Activation)   (None, 32, 30, 30)        0         \n",
      "_________________________________________________________________\n",
      "conv2d_53 (Conv2D)           (None, 64, 28, 28)        18496     \n",
      "_________________________________________________________________\n",
      "activation_60 (Activation)   (None, 64, 28, 28)        0         \n",
      "_________________________________________________________________\n",
      "max_pooling2d_38 (MaxPooling (None, 64, 14, 14)        0         \n",
      "_________________________________________________________________\n",
      "dropout_47 (Dropout)         (None, 64, 14, 14)        0         \n",
      "_________________________________________________________________\n",
      "conv2d_54 (Conv2D)           (None, 48, 12, 12)        27696     \n",
      "_________________________________________________________________\n",
      "activation_61 (Activation)   (None, 48, 12, 12)        0         \n",
      "_________________________________________________________________\n",
      "max_pooling2d_39 (MaxPooling (None, 48, 6, 6)          0         \n",
      "_________________________________________________________________\n",
      "dropout_48 (Dropout)         (None, 48, 6, 6)          0         \n",
      "_________________________________________________________________\n",
      "flatten_8 (Flatten)          (None, 1728)              0         \n",
      "_________________________________________________________________\n",
      "dense_15 (Dense)             (None, 128)               221312    \n",
      "_________________________________________________________________\n",
      "activation_62 (Activation)   (None, 128)               0         \n",
      "_________________________________________________________________\n",
      "dropout_49 (Dropout)         (None, 128)               0         \n",
      "_________________________________________________________________\n",
      "dense_16 (Dense)             (None, 3)                 387       \n",
      "_________________________________________________________________\n",
      "activation_63 (Activation)   (None, 3)                 0         \n",
      "=================================================================\n",
      "Total params: 268,787\n",
      "Trainable params: 268,787\n",
      "Non-trainable params: 0\n",
      "_________________________________________________________________\n"
     ]
    }
   ],
   "source": [
    "img_rows, img_cols = 32, 32 # Dimensões das imagens\n",
    "input_shape = (3, img_rows, img_cols)\n",
    "\n",
    "# Definindo a rede\n",
    "model = Sequential()\n",
    "model.add(Conv2D(32, (3, 3), input_shape=input_shape))\n",
    "model.add(Activation('relu'))\n",
    "\n",
    "model.add(Conv2D(64,(3,3)))\n",
    "model.add(Activation('relu'))\n",
    "\n",
    "model.add(MaxPooling2D(pool_size=(2,2)))\n",
    "model.add(Dropout(0.25))\n",
    "\n",
    "model.add(Conv2D(48,(3,3)))\n",
    "model.add(Activation('relu'))\n",
    "\n",
    "model.add(MaxPooling2D(pool_size=(2,2)))\n",
    "model.add(Dropout(0.25))\n",
    "\n",
    "# Aqui os features deixam de ser imagens\n",
    "model.add(Flatten())\n",
    "model.add(Dense(128))\n",
    "model.add(Activation('relu'))\n",
    "model.add(Dropout(0.75))\n",
    "model.add(Dense(nb_classes, kernel_regularizer=reg.l2(0.025)))\n",
    "model.add(Activation('softmax'))\n",
    "\n",
    "model.summary()"
   ]
  },
  {
   "cell_type": "markdown",
   "metadata": {},
   "source": [
    "## Compilando a rede"
   ]
  },
  {
   "cell_type": "code",
   "execution_count": 56,
   "metadata": {
    "collapsed": true
   },
   "outputs": [],
   "source": [
    "loss = 'categorical_crossentropy'\n",
    "opt = RMSprop()\n",
    "\n",
    "model.compile(loss=loss, optimizer=opt, metrics=[\"accuracy\"]) "
   ]
  },
  {
   "cell_type": "markdown",
   "metadata": {},
   "source": [
    "## Callbacks"
   ]
  },
  {
   "cell_type": "code",
   "execution_count": 57,
   "metadata": {
    "collapsed": true
   },
   "outputs": [],
   "source": [
    "checkpointer = ModelCheckpoint(filepath='cifar10.hdf5', monitor='val_acc', verbose=1, save_best_only=True)\n",
    "earlystopper = EarlyStopping(monitor='val_acc', min_delta=0, patience=10, verbose=1, mode='auto')"
   ]
  },
  {
   "cell_type": "markdown",
   "metadata": {},
   "source": [
    "## Treinamento da rede"
   ]
  },
  {
   "cell_type": "code",
   "execution_count": 58,
   "metadata": {},
   "outputs": [
    {
     "name": "stdout",
     "output_type": "stream",
     "text": [
      "Train on 1605 samples, validate on 395 samples\n",
      "Epoch 1/50\n",
      "1530/1605 [===========================>..] - ETA: 0s - loss: 1.1898 - acc: 0.3392Epoch 00000: val_acc improved from -inf to 0.47595, saving model to cifar10.hdf5\n",
      "1605/1605 [==============================] - 2s - loss: 1.1869 - acc: 0.3396 - val_loss: 1.1131 - val_acc: 0.4759\n",
      "Epoch 2/50\n",
      "1540/1605 [===========================>..] - ETA: 0s - loss: 1.0722 - acc: 0.4461Epoch 00001: val_acc improved from 0.47595 to 0.54430, saving model to cifar10.hdf5\n",
      "1605/1605 [==============================] - 1s - loss: 1.0681 - acc: 0.4505 - val_loss: 1.0096 - val_acc: 0.5443\n",
      "Epoch 3/50\n",
      "1540/1605 [===========================>..] - ETA: 0s - loss: 0.9927 - acc: 0.5247Epoch 00002: val_acc improved from 0.54430 to 0.54684, saving model to cifar10.hdf5\n",
      "1605/1605 [==============================] - 1s - loss: 0.9860 - acc: 0.5283 - val_loss: 1.0090 - val_acc: 0.5468\n",
      "Epoch 4/50\n",
      "1540/1605 [===========================>..] - ETA: 0s - loss: 0.9629 - acc: 0.5442Epoch 00003: val_acc did not improve\n",
      "1605/1605 [==============================] - 1s - loss: 0.9583 - acc: 0.5458 - val_loss: 1.0247 - val_acc: 0.5241\n",
      "Epoch 5/50\n",
      "1540/1605 [===========================>..] - ETA: 0s - loss: 0.9269 - acc: 0.5584Epoch 00004: val_acc improved from 0.54684 to 0.56456, saving model to cifar10.hdf5\n",
      "1605/1605 [==============================] - 1s - loss: 0.9255 - acc: 0.5614 - val_loss: 0.9356 - val_acc: 0.5646\n",
      "Epoch 6/50\n",
      "1540/1605 [===========================>..] - ETA: 0s - loss: 0.9042 - acc: 0.5708Epoch 00005: val_acc improved from 0.56456 to 0.58734, saving model to cifar10.hdf5\n",
      "1605/1605 [==============================] - 1s - loss: 0.9055 - acc: 0.5713 - val_loss: 0.9397 - val_acc: 0.5873\n",
      "Epoch 7/50\n",
      "1540/1605 [===========================>..] - ETA: 0s - loss: 0.8969 - acc: 0.5825Epoch 00006: val_acc improved from 0.58734 to 0.60253, saving model to cifar10.hdf5\n",
      "1605/1605 [==============================] - 1s - loss: 0.8926 - acc: 0.5819 - val_loss: 0.9435 - val_acc: 0.6025\n",
      "Epoch 8/50\n",
      "1540/1605 [===========================>..] - ETA: 0s - loss: 0.8859 - acc: 0.6026Epoch 00007: val_acc did not improve\n",
      "1605/1605 [==============================] - 0s - loss: 0.8821 - acc: 0.6031 - val_loss: 0.8946 - val_acc: 0.5823\n",
      "Epoch 9/50\n",
      "1540/1605 [===========================>..] - ETA: 0s - loss: 0.8490 - acc: 0.6175Epoch 00008: val_acc did not improve\n",
      "1605/1605 [==============================] - 0s - loss: 0.8566 - acc: 0.6112 - val_loss: 0.9117 - val_acc: 0.6000\n",
      "Epoch 10/50\n",
      "1540/1605 [===========================>..] - ETA: 0s - loss: 0.8487 - acc: 0.6091Epoch 00009: val_acc improved from 0.60253 to 0.62278, saving model to cifar10.hdf5\n",
      "1605/1605 [==============================] - 1s - loss: 0.8471 - acc: 0.6081 - val_loss: 0.8885 - val_acc: 0.6228\n",
      "Epoch 11/50\n",
      "1540/1605 [===========================>..] - ETA: 0s - loss: 0.8199 - acc: 0.6435Epoch 00010: val_acc did not improve\n",
      "1605/1605 [==============================] - 1s - loss: 0.8182 - acc: 0.6436 - val_loss: 1.0005 - val_acc: 0.5772\n",
      "Epoch 12/50\n",
      "1540/1605 [===========================>..] - ETA: 0s - loss: 0.8218 - acc: 0.6506Epoch 00011: val_acc improved from 0.62278 to 0.63038, saving model to cifar10.hdf5\n",
      "1605/1605 [==============================] - 1s - loss: 0.8117 - acc: 0.6561 - val_loss: 0.9544 - val_acc: 0.6304\n",
      "Epoch 13/50\n",
      "1540/1605 [===========================>..] - ETA: 0s - loss: 0.8037 - acc: 0.6539Epoch 00012: val_acc improved from 0.63038 to 0.64304, saving model to cifar10.hdf5\n",
      "1605/1605 [==============================] - 1s - loss: 0.8046 - acc: 0.6530 - val_loss: 0.8761 - val_acc: 0.6430\n",
      "Epoch 14/50\n",
      "1540/1605 [===========================>..] - ETA: 0s - loss: 0.7547 - acc: 0.6675Epoch 00013: val_acc did not improve\n",
      "1605/1605 [==============================] - 1s - loss: 0.7612 - acc: 0.6629 - val_loss: 0.9137 - val_acc: 0.5899\n",
      "Epoch 15/50\n",
      "1540/1605 [===========================>..] - ETA: 0s - loss: 0.7747 - acc: 0.6721Epoch 00014: val_acc did not improve\n",
      "1605/1605 [==============================] - 1s - loss: 0.7733 - acc: 0.6741 - val_loss: 0.8613 - val_acc: 0.6380\n",
      "Epoch 16/50\n",
      "1540/1605 [===========================>..] - ETA: 0s - loss: 0.7567 - acc: 0.6662Epoch 00015: val_acc improved from 0.64304 to 0.64557, saving model to cifar10.hdf5\n",
      "1605/1605 [==============================] - 1s - loss: 0.7551 - acc: 0.6698 - val_loss: 0.8790 - val_acc: 0.6456\n",
      "Epoch 17/50\n",
      "1540/1605 [===========================>..] - ETA: 0s - loss: 0.7642 - acc: 0.6727Epoch 00016: val_acc did not improve\n",
      "1605/1605 [==============================] - 1s - loss: 0.7651 - acc: 0.6729 - val_loss: 0.8713 - val_acc: 0.6354\n",
      "Epoch 18/50\n",
      "1540/1605 [===========================>..] - ETA: 0s - loss: 0.7573 - acc: 0.6779Epoch 00017: val_acc did not improve\n",
      "1605/1605 [==============================] - 1s - loss: 0.7505 - acc: 0.6804 - val_loss: 0.8989 - val_acc: 0.6253\n",
      "Epoch 19/50\n",
      "1540/1605 [===========================>..] - ETA: 0s - loss: 0.7469 - acc: 0.6916Epoch 00018: val_acc did not improve\n",
      "1605/1605 [==============================] - 1s - loss: 0.7448 - acc: 0.6922 - val_loss: 0.8594 - val_acc: 0.6354\n",
      "Epoch 20/50\n",
      "1540/1605 [===========================>..] - ETA: 0s - loss: 0.7056 - acc: 0.7019Epoch 00019: val_acc improved from 0.64557 to 0.65316, saving model to cifar10.hdf5\n",
      "1605/1605 [==============================] - 1s - loss: 0.7054 - acc: 0.7040 - val_loss: 0.8247 - val_acc: 0.6532\n",
      "Epoch 21/50\n",
      "1540/1605 [===========================>..] - ETA: 0s - loss: 0.7009 - acc: 0.7149Epoch 00020: val_acc did not improve\n",
      "1605/1605 [==============================] - 1s - loss: 0.7042 - acc: 0.7134 - val_loss: 0.8567 - val_acc: 0.6228\n",
      "Epoch 22/50\n",
      "1530/1605 [===========================>..] - ETA: 0s - loss: 0.7030 - acc: 0.7137Epoch 00021: val_acc did not improve\n",
      "1605/1605 [==============================] - 1s - loss: 0.7001 - acc: 0.7159 - val_loss: 0.8596 - val_acc: 0.6177\n",
      "Epoch 23/50\n",
      "1540/1605 [===========================>..] - ETA: 0s - loss: 0.6924 - acc: 0.7286Epoch 00022: val_acc improved from 0.65316 to 0.65316, saving model to cifar10.hdf5\n",
      "1605/1605 [==============================] - 1s - loss: 0.6855 - acc: 0.7302 - val_loss: 0.9204 - val_acc: 0.6532\n",
      "Epoch 24/50\n",
      "1540/1605 [===========================>..] - ETA: 0s - loss: 0.6647 - acc: 0.7305Epoch 00023: val_acc did not improve\n",
      "1605/1605 [==============================] - 1s - loss: 0.6591 - acc: 0.7333 - val_loss: 0.9741 - val_acc: 0.5696\n",
      "Epoch 25/50\n",
      "1540/1605 [===========================>..] - ETA: 0s - loss: 0.6440 - acc: 0.7429Epoch 00024: val_acc did not improve\n",
      "1605/1605 [==============================] - 1s - loss: 0.6389 - acc: 0.7427 - val_loss: 1.1869 - val_acc: 0.5468\n",
      "Epoch 26/50\n",
      "1600/1605 [============================>.] - ETA: 0s - loss: 0.6426 - acc: 0.7450Epoch 00025: val_acc did not improve\n",
      "1605/1605 [==============================] - 1s - loss: 0.6420 - acc: 0.7452 - val_loss: 0.8826 - val_acc: 0.6101\n",
      "Epoch 27/50\n",
      "1540/1605 [===========================>..] - ETA: 0s - loss: 0.6485 - acc: 0.7487Epoch 00026: val_acc did not improve\n",
      "1605/1605 [==============================] - 0s - loss: 0.6468 - acc: 0.7458 - val_loss: 0.8674 - val_acc: 0.6228\n",
      "Epoch 28/50\n",
      "1540/1605 [===========================>..] - ETA: 0s - loss: 0.6257 - acc: 0.7461Epoch 00027: val_acc did not improve\n",
      "1605/1605 [==============================] - 1s - loss: 0.6246 - acc: 0.7458 - val_loss: 0.8705 - val_acc: 0.6405\n",
      "Epoch 29/50\n",
      "1530/1605 [===========================>..] - ETA: 0s - loss: 0.6077 - acc: 0.7562Epoch 00028: val_acc did not improve\n",
      "1605/1605 [==============================] - 1s - loss: 0.6140 - acc: 0.7508 - val_loss: 0.8549 - val_acc: 0.6532\n",
      "Epoch 30/50\n",
      "1540/1605 [===========================>..] - ETA: 0s - loss: 0.6112 - acc: 0.7597Epoch 00029: val_acc did not improve\n",
      "1605/1605 [==============================] - 1s - loss: 0.6189 - acc: 0.7570 - val_loss: 0.9146 - val_acc: 0.6127\n",
      "Epoch 31/50\n",
      "1540/1605 [===========================>..] - ETA: 0s - loss: 0.5980 - acc: 0.7584Epoch 00030: val_acc did not improve\n",
      "1605/1605 [==============================] - 1s - loss: 0.5989 - acc: 0.7601 - val_loss: 0.8647 - val_acc: 0.6456\n",
      "Epoch 32/50\n",
      "1540/1605 [===========================>..] - ETA: 0s - loss: 0.5845 - acc: 0.7896Epoch 00031: val_acc improved from 0.65316 to 0.69620, saving model to cifar10.hdf5\n",
      "1605/1605 [==============================] - 1s - loss: 0.5850 - acc: 0.7913 - val_loss: 0.8470 - val_acc: 0.6962\n",
      "Epoch 33/50\n",
      "1540/1605 [===========================>..] - ETA: 0s - loss: 0.5905 - acc: 0.7721Epoch 00032: val_acc did not improve\n",
      "1605/1605 [==============================] - 1s - loss: 0.5856 - acc: 0.7751 - val_loss: 1.0638 - val_acc: 0.6051\n",
      "Epoch 34/50\n",
      "1540/1605 [===========================>..] - ETA: 0s - loss: 0.5777 - acc: 0.7773Epoch 00033: val_acc did not improve\n",
      "1605/1605 [==============================] - 0s - loss: 0.5760 - acc: 0.7794 - val_loss: 1.1134 - val_acc: 0.6101\n",
      "Epoch 35/50\n",
      "1540/1605 [===========================>..] - ETA: 0s - loss: 0.5527 - acc: 0.7909Epoch 00034: val_acc did not improve\n",
      "1605/1605 [==============================] - 0s - loss: 0.5559 - acc: 0.7913 - val_loss: 1.0794 - val_acc: 0.6380\n",
      "Epoch 36/50\n",
      "1540/1605 [===========================>..] - ETA: 0s - loss: 0.5279 - acc: 0.7935Epoch 00035: val_acc did not improve\n",
      "1605/1605 [==============================] - 0s - loss: 0.5311 - acc: 0.7913 - val_loss: 0.9078 - val_acc: 0.6658\n",
      "Epoch 37/50\n",
      "1540/1605 [===========================>..] - ETA: 0s - loss: 0.5563 - acc: 0.7896Epoch 00036: val_acc did not improve\n",
      "1605/1605 [==============================] - 1s - loss: 0.5531 - acc: 0.7907 - val_loss: 0.8549 - val_acc: 0.6582\n",
      "Epoch 38/50\n",
      "1540/1605 [===========================>..] - ETA: 0s - loss: 0.5224 - acc: 0.8130Epoch 00037: val_acc did not improve\n",
      "1605/1605 [==============================] - 1s - loss: 0.5307 - acc: 0.8106 - val_loss: 0.8667 - val_acc: 0.6684\n",
      "Epoch 39/50\n",
      "1540/1605 [===========================>..] - ETA: 0s - loss: 0.5262 - acc: 0.8032Epoch 00038: val_acc improved from 0.69620 to 0.70380, saving model to cifar10.hdf5\n",
      "1605/1605 [==============================] - 1s - loss: 0.5220 - acc: 0.8081 - val_loss: 0.9079 - val_acc: 0.7038\n",
      "Epoch 40/50\n",
      "1540/1605 [===========================>..] - ETA: 0s - loss: 0.5339 - acc: 0.8065Epoch 00039: val_acc did not improve\n",
      "1605/1605 [==============================] - 1s - loss: 0.5289 - acc: 0.8087 - val_loss: 0.9912 - val_acc: 0.6532\n",
      "Epoch 41/50\n",
      "1540/1605 [===========================>..] - ETA: 0s - loss: 0.5213 - acc: 0.8013Epoch 00040: val_acc did not improve\n",
      "1605/1605 [==============================] - 1s - loss: 0.5262 - acc: 0.8006 - val_loss: 0.9698 - val_acc: 0.6608\n",
      "Epoch 42/50\n",
      "1540/1605 [===========================>..] - ETA: 0s - loss: 0.5071 - acc: 0.8123Epoch 00041: val_acc did not improve\n",
      "1605/1605 [==============================] - 1s - loss: 0.5156 - acc: 0.8125 - val_loss: 0.8871 - val_acc: 0.6810\n",
      "Epoch 43/50\n",
      "1530/1605 [===========================>..] - ETA: 0s - loss: 0.4821 - acc: 0.8281Epoch 00042: val_acc did not improve\n",
      "1605/1605 [==============================] - 1s - loss: 0.4831 - acc: 0.8274 - val_loss: 0.9250 - val_acc: 0.6684\n",
      "Epoch 44/50\n",
      "1530/1605 [===========================>..] - ETA: 0s - loss: 0.4667 - acc: 0.8222Epoch 00043: val_acc did not improve\n",
      "1605/1605 [==============================] - 1s - loss: 0.4722 - acc: 0.8218 - val_loss: 1.1432 - val_acc: 0.6506\n",
      "Epoch 45/50\n",
      "1540/1605 [===========================>..] - ETA: 0s - loss: 0.4649 - acc: 0.8266Epoch 00044: val_acc did not improve\n",
      "1605/1605 [==============================] - 0s - loss: 0.4710 - acc: 0.8268 - val_loss: 0.8832 - val_acc: 0.6684\n",
      "Epoch 46/50\n",
      "1540/1605 [===========================>..] - ETA: 0s - loss: 0.4757 - acc: 0.8299Epoch 00045: val_acc did not improve\n",
      "1605/1605 [==============================] - 1s - loss: 0.4781 - acc: 0.8287 - val_loss: 0.9968 - val_acc: 0.6557\n",
      "Epoch 47/50\n",
      "1540/1605 [===========================>..] - ETA: 0s - loss: 0.4731 - acc: 0.8403Epoch 00046: val_acc did not improve\n",
      "1605/1605 [==============================] - 1s - loss: 0.4735 - acc: 0.8399 - val_loss: 0.9845 - val_acc: 0.6405\n",
      "Epoch 48/50\n",
      "1540/1605 [===========================>..] - ETA: 0s - loss: 0.4900 - acc: 0.8273Epoch 00047: val_acc did not improve\n",
      "1605/1605 [==============================] - 1s - loss: 0.4950 - acc: 0.8249 - val_loss: 0.9036 - val_acc: 0.6810\n",
      "Epoch 49/50\n",
      "1540/1605 [===========================>..] - ETA: 0s - loss: 0.4642 - acc: 0.8390Epoch 00048: val_acc did not improve\n",
      "1605/1605 [==============================] - 1s - loss: 0.4616 - acc: 0.8399 - val_loss: 0.8685 - val_acc: 0.6835\n",
      "Epoch 50/50\n",
      "1540/1605 [===========================>..] - ETA: 0s - loss: 0.4237 - acc: 0.8422Epoch 00049: val_acc did not improve\n",
      "1605/1605 [==============================] - 1s - loss: 0.4311 - acc: 0.8424 - val_loss: 0.9800 - val_acc: 0.6405\n",
      "Epoch 00049: early stopping\n"
     ]
    }
   ],
   "source": [
    "batch_size = 10\n",
    "tr_epochs = 50\n",
    "\n",
    "history = model.fit(\n",
    "        X_train, \n",
    "        y_train_oh, \n",
    "        batch_size=batch_size, \n",
    "        epochs=tr_epochs,\n",
    "        validation_data=(X_validate, y_validate_oh),\n",
    "        callbacks=[earlystopper, checkpointer]\n",
    "         )"
   ]
  },
  {
   "cell_type": "markdown",
   "metadata": {},
   "source": [
    "## Apaga modelo atual"
   ]
  },
  {
   "cell_type": "code",
   "execution_count": 59,
   "metadata": {
    "collapsed": true
   },
   "outputs": [],
   "source": [
    "del model"
   ]
  },
  {
   "cell_type": "markdown",
   "metadata": {},
   "source": [
    "## Carrega modelo salvo em disco"
   ]
  },
  {
   "cell_type": "code",
   "execution_count": 60,
   "metadata": {
    "collapsed": true
   },
   "outputs": [],
   "source": [
    "model = load_model('cifar10.hdf5')"
   ]
  },
  {
   "cell_type": "markdown",
   "metadata": {},
   "source": [
    "## Avaliação do treinamento no conjunto de testes com o melhor modelo"
   ]
  },
  {
   "cell_type": "code",
   "execution_count": 61,
   "metadata": {
    "scrolled": true
   },
   "outputs": [
    {
     "name": "stdout",
     "output_type": "stream",
     "text": [
      "230/500 [============>.................] - ETA: 0s \n",
      "[INFO] accuracy on the test data set: 65.40% [0.99932]\n"
     ]
    }
   ],
   "source": [
    "loss, accuracy = model.evaluate(X_test, y_test_oh, batch_size=10)\n",
    "print(\"\\n[INFO] accuracy on the test data set: {:.2f}% [{:.5f}]\".format(accuracy * 100, loss))"
   ]
  },
  {
   "cell_type": "markdown",
   "metadata": {},
   "source": [
    "## Novo treinamento da rede com os dados de validação até a época 39"
   ]
  },
  {
   "cell_type": "code",
   "execution_count": 62,
   "metadata": {},
   "outputs": [
    {
     "name": "stdout",
     "output_type": "stream",
     "text": [
      "Epoch 1/39\n",
      "2000/2000 [==============================] - 1s - loss: 0.6616 - acc: 0.7580     \n",
      "Epoch 2/39\n",
      "2000/2000 [==============================] - 1s - loss: 0.6321 - acc: 0.7645     \n",
      "Epoch 3/39\n",
      "2000/2000 [==============================] - 1s - loss: 0.6181 - acc: 0.7765     \n",
      "Epoch 4/39\n",
      "2000/2000 [==============================] - 1s - loss: 0.6171 - acc: 0.7730     \n",
      "Epoch 5/39\n",
      "2000/2000 [==============================] - 1s - loss: 0.5925 - acc: 0.7800     \n",
      "Epoch 6/39\n",
      "2000/2000 [==============================] - 1s - loss: 0.5964 - acc: 0.7805     \n",
      "Epoch 7/39\n",
      "2000/2000 [==============================] - 1s - loss: 0.5724 - acc: 0.7810     \n",
      "Epoch 8/39\n",
      "2000/2000 [==============================] - 1s - loss: 0.5852 - acc: 0.7930     \n",
      "Epoch 9/39\n",
      "2000/2000 [==============================] - 1s - loss: 0.5479 - acc: 0.7995     \n",
      "Epoch 10/39\n",
      "2000/2000 [==============================] - 1s - loss: 0.5747 - acc: 0.7980     \n",
      "Epoch 11/39\n",
      "2000/2000 [==============================] - 1s - loss: 0.5448 - acc: 0.7970     \n",
      "Epoch 12/39\n",
      "2000/2000 [==============================] - 1s - loss: 0.5452 - acc: 0.7965     \n",
      "Epoch 13/39\n",
      "2000/2000 [==============================] - 1s - loss: 0.5390 - acc: 0.8050     \n",
      "Epoch 14/39\n",
      "2000/2000 [==============================] - 1s - loss: 0.4997 - acc: 0.8195     \n",
      "Epoch 15/39\n",
      "2000/2000 [==============================] - 1s - loss: 0.5230 - acc: 0.8005     \n",
      "Epoch 16/39\n",
      "2000/2000 [==============================] - 1s - loss: 0.5347 - acc: 0.8105     \n",
      "Epoch 17/39\n",
      "2000/2000 [==============================] - 1s - loss: 0.5354 - acc: 0.8140     \n",
      "Epoch 18/39\n",
      "2000/2000 [==============================] - 1s - loss: 0.5051 - acc: 0.8115     \n",
      "Epoch 19/39\n",
      "2000/2000 [==============================] - 1s - loss: 0.4666 - acc: 0.8325     \n",
      "Epoch 20/39\n",
      "2000/2000 [==============================] - 1s - loss: 0.4885 - acc: 0.8275     \n",
      "Epoch 21/39\n",
      "2000/2000 [==============================] - 1s - loss: 0.4944 - acc: 0.8250     \n",
      "Epoch 22/39\n",
      "2000/2000 [==============================] - 1s - loss: 0.4848 - acc: 0.8235     \n",
      "Epoch 23/39\n",
      "2000/2000 [==============================] - 1s - loss: 0.5024 - acc: 0.8290     \n",
      "Epoch 24/39\n",
      "2000/2000 [==============================] - 1s - loss: 0.4699 - acc: 0.8315     \n",
      "Epoch 25/39\n",
      "2000/2000 [==============================] - 1s - loss: 0.4825 - acc: 0.8240     \n",
      "Epoch 26/39\n",
      "2000/2000 [==============================] - 1s - loss: 0.4949 - acc: 0.8290     \n",
      "Epoch 27/39\n",
      "2000/2000 [==============================] - 1s - loss: 0.4980 - acc: 0.8235     \n",
      "Epoch 28/39\n",
      "2000/2000 [==============================] - 1s - loss: 0.5144 - acc: 0.8145     \n",
      "Epoch 29/39\n",
      "2000/2000 [==============================] - 1s - loss: 0.4933 - acc: 0.8320     \n",
      "Epoch 30/39\n",
      "2000/2000 [==============================] - 1s - loss: 0.4588 - acc: 0.8350     \n",
      "Epoch 31/39\n",
      "2000/2000 [==============================] - 1s - loss: 0.4917 - acc: 0.8200     \n",
      "Epoch 32/39\n",
      "2000/2000 [==============================] - 1s - loss: 0.4951 - acc: 0.8260     \n",
      "Epoch 33/39\n",
      "2000/2000 [==============================] - 1s - loss: 0.4945 - acc: 0.8250     \n",
      "Epoch 34/39\n",
      "2000/2000 [==============================] - 1s - loss: 0.4905 - acc: 0.8270     \n",
      "Epoch 35/39\n",
      "2000/2000 [==============================] - 1s - loss: 0.4860 - acc: 0.8340     \n",
      "Epoch 36/39\n",
      "2000/2000 [==============================] - 1s - loss: 0.4830 - acc: 0.8365     \n",
      "Epoch 37/39\n",
      "2000/2000 [==============================] - 1s - loss: 0.4874 - acc: 0.8355     \n",
      "Epoch 38/39\n",
      "2000/2000 [==============================] - 1s - loss: 0.4566 - acc: 0.8420     \n",
      "Epoch 39/39\n",
      "2000/2000 [==============================] - 1s - loss: 0.4540 - acc: 0.8510     \n"
     ]
    }
   ],
   "source": [
    "batch_size = 10\n",
    "tr_epochs = 39\n",
    "\n",
    "history = model.fit(\n",
    "        X, \n",
    "        y_oh, \n",
    "        batch_size=batch_size, \n",
    "        epochs=tr_epochs,\n",
    "         )"
   ]
  },
  {
   "cell_type": "markdown",
   "metadata": {},
   "source": [
    "## Salva modelo treinado em disco"
   ]
  },
  {
   "cell_type": "code",
   "execution_count": 63,
   "metadata": {
    "collapsed": true
   },
   "outputs": [],
   "source": [
    "model.save('cifar10-best.hdf5')"
   ]
  },
  {
   "cell_type": "markdown",
   "metadata": {},
   "source": [
    "## Avaliação do treinamento no conjunto de testes com o novo modelo"
   ]
  },
  {
   "cell_type": "code",
   "execution_count": 65,
   "metadata": {},
   "outputs": [
    {
     "name": "stdout",
     "output_type": "stream",
     "text": [
      "330/500 [==================>...........] - ETA: 0s\n",
      "[INFO] accuracy on the test data set: 64.40% [0.87991]\n"
     ]
    }
   ],
   "source": [
    "loss, accuracy = model.evaluate(X_test, y_test_oh, batch_size=10)\n",
    "print(\"\\n[INFO] accuracy on the test data set: {:.2f}% [{:.5f}]\".format(accuracy * 100, loss))"
   ]
  },
  {
   "cell_type": "markdown",
   "metadata": {
    "collapsed": true
   },
   "source": [
    "## Exercício opcional - Nota de bonus - adicional na nota"
   ]
  },
  {
   "cell_type": "markdown",
   "metadata": {},
   "source": [
    "## Cria a figura do tamanho adequado para a correção automática"
   ]
  },
  {
   "cell_type": "code",
   "execution_count": 5,
   "metadata": {},
   "outputs": [
    {
     "data": {
      "image/png": "[encoded data removed]",
      "text/plain": [
       "<matplotlib.figure.Figure at 0x7fc3e6c1ac50>"
      ]
     },
     "metadata": {},
     "output_type": "display_data"
    }
   ],
   "source": [
    "model = load_model('cifar10-best.hdf5')\n",
    "\n",
    "%matplotlib inline\n",
    "import matplotlib.pyplot as plt\n",
    "\n",
    "fig = plt.figure(figsize=(8,5))\n",
    "\n",
    "plt.title('Visualizacão dos kernels da primeira camada convolucional')\n",
    "weights = model.layers[0].get_weights()[0][0,:,:,:]\n",
    "for i in range(0,weights.shape[2]):\n",
    "    plt.subplot(4,8,i+1)\n",
    "    plt.imshow(weights[:,:,i], interpolation='gaussian')\n",
    "    plt.axis('off')\n",
    "\n",
    "plt.show()\n",
    "fig.savefig('my_kernels.png')"
   ]
  },
  {
   "cell_type": "code",
   "execution_count": null,
   "metadata": {
    "collapsed": true
   },
   "outputs": [],
   "source": []
  }
 ],
 "metadata": {
  "kernelspec": {
   "display_name": "Python 3",
   "language": "python",
   "name": "python3"
  },
  "language_info": {
   "codemirror_mode": {
    "name": "ipython",
    "version": 3
   },
   "file_extension": ".py",
   "mimetype": "text/x-python",
   "name": "python",
   "nbconvert_exporter": "python",
   "pygments_lexer": "ipython3",
   "version": "3.6.0"
  }
 },
 "nbformat": 4,
 "nbformat_minor": 2
}
