{
 "cells": [
  {
   "cell_type": "markdown",
   "metadata": {},
   "source": [
    "# Autocodificadores"
   ]
  },
  {
   "cell_type": "markdown",
   "metadata": {},
   "source": [
    "Fazer um jupyter notebook com autocodificador, a exemplo do exemplo mostrado em aula usando o Keras:\n",
    "\n",
    "- https://t-adessowiki.fee.unicamp.br/user/aluno/notebooks/ia368z_2s2017/ia368z/deliver-keras/DenseAutoencoder.ipynb\n",
    "\n",
    "Com as seguintes modificações:\n",
    "\n",
    "- Utilizar o PyTorch\n",
    "- Se possível, utilizar um autocodificador convolucional, porém não é imperativo\n",
    "- Uma vez que o autocodificador seja treinado e o espaço bidimensional seja mostrado dos códigos dos dígitos da base de dados NMIST, gerar novas imagens:\n",
    "  - mostrar algumas imagens em pontos quaisquer neste espaço bidimensional\n",
    "  - dados dois pontos neste espaço, mostrar várias imagens, começando no ponto 1 e caminhando numa reta que une os dois pontos, gerar imagens associadas a pontos igualmente espaçados nessa reta, até chegar ao segundo ponto. É se esperar que os números gerados sejam interpolados entre eles."
   ]
  },
  {
   "cell_type": "code",
   "execution_count": 1,
   "metadata": {
    "collapsed": true
   },
   "outputs": [],
   "source": [
    "import torch\n",
    "import torchvision\n",
    "import numpy as np\n",
    "from torch.autograd import Variable\n",
    "\n",
    "from PIL import Image\n",
    "from IPython import display\n",
    "from time import time\n"
   ]
  },
  {
   "cell_type": "markdown",
   "metadata": {},
   "source": [
    "## Carregamento do MNIST dataset (já está no disco)"
   ]
  },
  {
   "cell_type": "markdown",
   "metadata": {},
   "source": [
    "A base de dados MNIST está disponível em: http://yann.lecun.com/exdb/mnist/\n",
    "Consiste de 60 mil amostras de treinamento e 10 mil amostras de teste. Cada amostra é uma pequena imagem em níveis de cinza de tamanho 28x28 pixels com valores entre 0 e 255.\n",
    "\n",
    "A base já está carregada e disponível em /data/datasets:"
   ]
  },
  {
   "cell_type": "code",
   "execution_count": 2,
   "metadata": {
    "collapsed": true
   },
   "outputs": [],
   "source": [
    "#data_train = torchvision.datasets.MNIST('mnist/', train=True)\n",
    "#data_test  = torchvision.datasets.MNIST('mnist/', train=False)\n",
    "\n",
    "data_train = torchvision.datasets.MNIST('./data', train=True, download=True, transform=torchvision.transforms.Compose([\n",
    "    torchvision.transforms.ToTensor(), torchvision.transforms.Normalize((0.5, 0.5, 0.5), (0.5, 0.5, 0.5)),\n",
    "]), )\n",
    "\n",
    "data_test = torchvision.datasets.MNIST('./data', train=False, download=True, transform=torchvision.transforms.Compose([\n",
    "    torchvision.transforms.ToTensor(), torchvision.transforms.Normalize((0.5, 0.5, 0.5), (0.5, 0.5, 0.5)),\n",
    "]), )"
   ]
  },
  {
   "cell_type": "code",
   "execution_count": 3,
   "metadata": {},
   "outputs": [
    {
     "data": {
      "text/plain": [
       "(60000, 10000)"
      ]
     },
     "execution_count": 3,
     "metadata": {},
     "output_type": "execute_result"
    }
   ],
   "source": [
    "len(data_train), len(data_test)"
   ]
  },
  {
   "cell_type": "code",
   "execution_count": 4,
   "metadata": {},
   "outputs": [
    {
     "data": {
      "text/plain": [
       "(torch.Size([60000, 28, 28]), torch.Size([10000, 28, 28]))"
      ]
     },
     "execution_count": 4,
     "metadata": {},
     "output_type": "execute_result"
    }
   ],
   "source": [
    "data_train.train_data.size(), data_test.test_data.size()"
   ]
  },
  {
   "cell_type": "markdown",
   "metadata": {},
   "source": [
    "## Treinando com pouquíssimos dados"
   ]
  },
  {
   "cell_type": "code",
   "execution_count": 5,
   "metadata": {
    "collapsed": true
   },
   "outputs": [],
   "source": [
    "if False:\n",
    "    n_train_samples = 1000\n",
    "    n_test_samples = 500\n",
    "    data_train.train_data = data_train.train_data[:n_train_samples]\n",
    "    data_test.test_data   = data_test.test_data[:n_test_samples]"
   ]
  },
  {
   "cell_type": "code",
   "execution_count": 6,
   "metadata": {},
   "outputs": [
    {
     "data": {
      "text/plain": [
       "(torch.Size([60000, 28, 28]), torch.Size([10000, 28, 28]))"
      ]
     },
     "execution_count": 6,
     "metadata": {},
     "output_type": "execute_result"
    }
   ],
   "source": [
    "data_train.train_data.size(), data_test.test_data.size()"
   ]
  },
  {
   "cell_type": "markdown",
   "metadata": {},
   "source": [
    "## Cria DataLoader"
   ]
  },
  {
   "cell_type": "code",
   "execution_count": 7,
   "metadata": {
    "collapsed": true
   },
   "outputs": [],
   "source": [
    "train_loader = torch.utils.data.DataLoader(data_train,\n",
    "                                          batch_size=64,\n",
    "                                          shuffle=True,\n",
    "                                          num_workers=1)\n",
    "\n",
    "test_loader = torch.utils.data.DataLoader(data_test,\n",
    "                                         batch_size=10000,\n",
    "                                         shuffle=False,\n",
    "                                         num_workers=2)"
   ]
  },
  {
   "cell_type": "markdown",
   "metadata": {},
   "source": [
    "## Visualizando algumas amostras"
   ]
  },
  {
   "cell_type": "code",
   "execution_count": 8,
   "metadata": {},
   "outputs": [
    {
     "data": {
      "image/png": "[encoded data removed]",
      "text/plain": [
       "<PIL.Image.Image image mode=L size=28x28 at 0x7FCC79245EB8>"
      ]
     },
     "metadata": {},
     "output_type": "display_data"
    },
    {
     "name": "stdout",
     "output_type": "stream",
     "text": [
      "label= 7\n"
     ]
    },
    {
     "data": {
      "image/png": "[encoded data removed]",
      "text/plain": [
       "<PIL.Image.Image image mode=L size=28x28 at 0x7FCCC73CA860>"
      ]
     },
     "metadata": {},
     "output_type": "display_data"
    },
    {
     "name": "stdout",
     "output_type": "stream",
     "text": [
      "label= 2\n"
     ]
    },
    {
     "data": {
      "image/png": "[encoded data removed]",
      "text/plain": [
       "<PIL.Image.Image image mode=L size=28x28 at 0x7FCC9A49E320>"
      ]
     },
     "metadata": {},
     "output_type": "display_data"
    },
    {
     "name": "stdout",
     "output_type": "stream",
     "text": [
      "label= 1\n"
     ]
    },
    {
     "data": {
      "image/png": "[encoded data removed]",
      "text/plain": [
       "<PIL.Image.Image image mode=L size=28x28 at 0x7FCC79245EB8>"
      ]
     },
     "metadata": {},
     "output_type": "display_data"
    },
    {
     "name": "stdout",
     "output_type": "stream",
     "text": [
      "label= 0\n"
     ]
    },
    {
     "data": {
      "image/png": "[encoded data removed]",
      "text/plain": [
       "<PIL.Image.Image image mode=L size=28x28 at 0x7FCC7586C908>"
      ]
     },
     "metadata": {},
     "output_type": "display_data"
    },
    {
     "name": "stdout",
     "output_type": "stream",
     "text": [
      "label= 4\n"
     ]
    }
   ],
   "source": [
    "to_pil = torchvision.transforms.ToPILImage()\n",
    "\n",
    "for k in range(5):\n",
    "    x, y = data_test[k]\n",
    "    display.display(to_pil(x))\n",
    "    print('label=',y)"
   ]
  },
  {
   "cell_type": "markdown",
   "metadata": {},
   "source": [
    "## Definição das classes que representam as redes"
   ]
  },
  {
   "cell_type": "code",
   "execution_count": 9,
   "metadata": {
    "collapsed": true
   },
   "outputs": [],
   "source": [
    "import torch.nn.functional as F\n",
    "\n",
    "# classe do AutoEncoder (Encoder + Decoder)\n",
    "class AutoEncoder(torch.nn.Module):\n",
    "    def __init__(self, encoder, decoder):\n",
    "        super(AutoEncoder, self).__init__()\n",
    "        \n",
    "        self.encoder = encoder\n",
    "        self.decoder = decoder\n",
    "        \n",
    "    def forward(self, x):\n",
    "        x = self.encoder(x)\n",
    "        x = self.decoder(x)\n",
    "        return x\n",
    "\n",
    "# classe do Encoder\n",
    "class Encoder(torch.nn.Module):\n",
    "    def __init__(self):\n",
    "        super(Encoder, self).__init__()\n",
    "        \n",
    "        self.encode_conv1 = torch.nn.Conv2d(1, 16, 3, stride=3, padding=1)\n",
    "        self.encode_pool1 = torch.nn.MaxPool2d(2, stride=2)\n",
    "        self.encode_conv2 = torch.nn.Conv2d(16, 8, 3, stride=2, padding=1)\n",
    "        self.encode_pool2 = torch.nn.MaxPool2d(2, stride=1)\n",
    "\n",
    "    def forward(self, x):\n",
    "        x = F.relu(self.encode_conv1(x))\n",
    "        x = self.encode_pool1(x)\n",
    "        x = F.relu(self.encode_conv2(x))\n",
    "        x = self.encode_pool2(x)\n",
    "        return x\n",
    "\n",
    "# classe do Decoder\n",
    "class Decoder(torch.nn.Module):\n",
    "    def __init__(self):\n",
    "        super(Decoder, self).__init__()\n",
    "        \n",
    "        self.decode_conv1 = torch.nn.ConvTranspose2d(8, 16, 3, stride=2)\n",
    "        self.decode_conv2 = torch.nn.ConvTranspose2d(16, 8, 5, stride=3, padding=1)\n",
    "        self.decode_conv3 = torch.nn.ConvTranspose2d(8, 1, 2, stride=2, padding=1)\n",
    "        \n",
    "    def forward(self, x):\n",
    "        x = F.relu(self.decode_conv1(x))\n",
    "        x = F.relu(self.decode_conv2(x))\n",
    "        x = F.tanh(self.decode_conv3(x))\n",
    "        return x"
   ]
  },
  {
   "cell_type": "code",
   "execution_count": 10,
   "metadata": {
    "scrolled": false
   },
   "outputs": [
    {
     "name": "stdout",
     "output_type": "stream",
     "text": [
      "AutoEncoder (\n",
      "  (encoder): Encoder (\n",
      "    (encode_conv1): Conv2d(1, 16, kernel_size=(3, 3), stride=(3, 3), padding=(1, 1))\n",
      "    (encode_pool1): MaxPool2d (size=(2, 2), stride=(2, 2), dilation=(1, 1))\n",
      "    (encode_conv2): Conv2d(16, 8, kernel_size=(3, 3), stride=(2, 2), padding=(1, 1))\n",
      "    (encode_pool2): MaxPool2d (size=(2, 2), stride=(1, 1), dilation=(1, 1))\n",
      "  )\n",
      "  (decoder): Decoder (\n",
      "    (decode_conv1): ConvTranspose2d(8, 16, kernel_size=(3, 3), stride=(2, 2))\n",
      "    (decode_conv2): ConvTranspose2d(16, 8, kernel_size=(5, 5), stride=(3, 3), padding=(1, 1))\n",
      "    (decode_conv3): ConvTranspose2d(8, 1, kernel_size=(2, 2), stride=(2, 2), padding=(1, 1))\n",
      "  )\n",
      ")\n"
     ]
    }
   ],
   "source": [
    "autoencoder = AutoEncoder(Encoder(), Decoder())\n",
    "print(autoencoder)"
   ]
  },
  {
   "cell_type": "markdown",
   "metadata": {},
   "source": [
    "## Definição da função de predição"
   ]
  },
  {
   "cell_type": "code",
   "execution_count": 11,
   "metadata": {
    "collapsed": true
   },
   "outputs": [],
   "source": [
    "def prediction(loader, model, loss_fn):\n",
    "    for data in loader:\n",
    "        images, labels = data\n",
    "        \n",
    "        # forward pass\n",
    "        outputs = model(Variable(images))\n",
    "\n",
    "        # loss\n",
    "        loss = loss_fn(outputs, Variable(images))\n",
    "    return (loss.data[0])"
   ]
  },
  {
   "cell_type": "markdown",
   "metadata": {},
   "source": [
    "## Treinamento da rede"
   ]
  },
  {
   "cell_type": "code",
   "execution_count": 16,
   "metadata": {},
   "outputs": [
    {
     "name": "stdout",
     "output_type": "stream",
     "text": [
      "Epoch: 0 - 26.0 s \t train loss: 0.12166 \t val loss: 0.11604\n",
      "Loss improved, saving model from epoch 0\n",
      "Epoch: 1 - 26.0 s \t train loss: 0.13215 \t val loss: 0.11358\n",
      "Loss improved, saving model from epoch 1\n",
      "Epoch: 2 - 26.0 s \t train loss: 0.12005 \t val loss: 0.11272\n",
      "Loss improved, saving model from epoch 2\n",
      "Epoch: 3 - 24.0 s \t train loss: 0.09656 \t val loss: 0.11131\n",
      "Loss improved, saving model from epoch 3\n",
      "Epoch: 4 - 26.0 s \t train loss: 0.11243 \t val loss: 0.11027\n",
      "Loss improved, saving model from epoch 4\n",
      "Epoch: 5 - 27.0 s \t train loss: 0.11034 \t val loss: 0.10936\n",
      "Loss improved, saving model from epoch 5\n",
      "Epoch: 6 - 27.0 s \t train loss: 0.10932 \t val loss: 0.10843\n",
      "Loss improved, saving model from epoch 6\n",
      "Epoch: 7 - 25.0 s \t train loss: 0.13548 \t val loss: 0.10775\n",
      "Loss improved, saving model from epoch 7\n",
      "Epoch: 8 - 24.0 s \t train loss: 0.11484 \t val loss: 0.10707\n",
      "Loss improved, saving model from epoch 8\n",
      "Epoch: 9 - 26.0 s \t train loss: 0.11206 \t val loss: 0.10745\n",
      "Epoch: 10 - 24.0 s \t train loss: 0.11239 \t val loss: 0.10592\n",
      "Loss improved, saving model from epoch 10\n",
      "Epoch: 11 - 26.0 s \t train loss: 0.09307 \t val loss: 0.10548\n",
      "Loss improved, saving model from epoch 11\n",
      "Epoch: 12 - 25.0 s \t train loss: 0.09797 \t val loss: 0.10514\n",
      "Loss improved, saving model from epoch 12\n",
      "Epoch: 13 - 26.0 s \t train loss: 0.10722 \t val loss: 0.10509\n",
      "Loss improved, saving model from epoch 13\n",
      "Epoch: 14 - 24.0 s \t train loss: 0.10389 \t val loss: 0.10458\n",
      "Loss improved, saving model from epoch 14\n",
      "Epoch: 15 - 25.0 s \t train loss: 0.10061 \t val loss: 0.10363\n",
      "Loss improved, saving model from epoch 15\n",
      "Epoch: 16 - 27.0 s \t train loss: 0.11846 \t val loss: 0.10394\n",
      "Epoch: 17 - 26.0 s \t train loss: 0.11593 \t val loss: 0.10453\n",
      "Epoch: 18 - 24.0 s \t train loss: 0.11678 \t val loss: 0.103\n",
      "Loss improved, saving model from epoch 18\n",
      "Epoch: 19 - 25.0 s \t train loss: 0.10365 \t val loss: 0.10273\n",
      "Loss improved, saving model from epoch 19\n",
      "Epoch: 20 - 27.0 s \t train loss: 0.1054 \t val loss: 0.10234\n",
      "Loss improved, saving model from epoch 20\n",
      "Epoch: 21 - 25.0 s \t train loss: 0.09852 \t val loss: 0.10281\n",
      "Epoch: 22 - 25.0 s \t train loss: 0.10662 \t val loss: 0.10122\n",
      "Loss improved, saving model from epoch 22\n",
      "Epoch: 23 - 25.0 s \t train loss: 0.08802 \t val loss: 0.10184\n",
      "Epoch: 24 - 26.0 s \t train loss: 0.10224 \t val loss: 0.10063\n",
      "Loss improved, saving model from epoch 24\n",
      "Epoch: 25 - 25.0 s \t train loss: 0.11352 \t val loss: 0.10036\n",
      "Loss improved, saving model from epoch 25\n",
      "Epoch: 26 - 25.0 s \t train loss: 0.09371 \t val loss: 0.10012\n",
      "Loss improved, saving model from epoch 26\n",
      "Epoch: 27 - 26.0 s \t train loss: 0.09783 \t val loss: 0.09878\n",
      "Loss improved, saving model from epoch 27\n",
      "Epoch: 28 - 26.0 s \t train loss: 0.10595 \t val loss: 0.10025\n",
      "Epoch: 29 - 30.0 s \t train loss: 0.09654 \t val loss: 0.09837\n",
      "Loss improved, saving model from epoch 29\n",
      "Epoch: 30 - 25.0 s \t train loss: 0.10968 \t val loss: 0.0979\n",
      "Loss improved, saving model from epoch 30\n",
      "Epoch: 31 - 24.0 s \t train loss: 0.09625 \t val loss: 0.09827\n",
      "Epoch: 32 - 25.0 s \t train loss: 0.10519 \t val loss: 0.09781\n",
      "Loss improved, saving model from epoch 32\n",
      "Epoch: 33 - 27.0 s \t train loss: 0.09614 \t val loss: 0.0967\n",
      "Loss improved, saving model from epoch 33\n",
      "Epoch: 34 - 25.0 s \t train loss: 0.10346 \t val loss: 0.09686\n",
      "Epoch: 35 - 26.0 s \t train loss: 0.10177 \t val loss: 0.09593\n",
      "Loss improved, saving model from epoch 35\n",
      "Epoch: 36 - 26.0 s \t train loss: 0.09392 \t val loss: 0.09579\n",
      "Loss improved, saving model from epoch 36\n",
      "Epoch: 37 - 26.0 s \t train loss: 0.0916 \t val loss: 0.09612\n",
      "Epoch: 38 - 26.0 s \t train loss: 0.10134 \t val loss: 0.09568\n",
      "Loss improved, saving model from epoch 38\n",
      "Epoch: 39 - 27.0 s \t train loss: 0.08924 \t val loss: 0.09498\n",
      "Loss improved, saving model from epoch 39\n",
      "Epoch: 40 - 26.0 s \t train loss: 0.10104 \t val loss: 0.09483\n",
      "Loss improved, saving model from epoch 40\n",
      "Epoch: 41 - 25.0 s \t train loss: 0.09292 \t val loss: 0.09434\n",
      "Loss improved, saving model from epoch 41\n",
      "Epoch: 42 - 26.0 s \t train loss: 0.09834 \t val loss: 0.09452\n",
      "Epoch: 43 - 25.0 s \t train loss: 0.08607 \t val loss: 0.09461\n",
      "Epoch: 44 - 23.0 s \t train loss: 0.10066 \t val loss: 0.09463\n",
      "Epoch: 45 - 26.0 s \t train loss: 0.10568 \t val loss: 0.09441\n",
      "Epoch: 46 - 26.0 s \t train loss: 0.08788 \t val loss: 0.09385\n",
      "Loss improved, saving model from epoch 46\n",
      "Epoch: 47 - 25.0 s \t train loss: 0.09778 \t val loss: 0.09395\n",
      "Epoch: 48 - 26.0 s \t train loss: 0.11689 \t val loss: 0.09479\n",
      "Epoch: 49 - 24.0 s \t train loss: 0.09076 \t val loss: 0.09428\n",
      "Epoch: 50 - 24.0 s \t train loss: 0.10521 \t val loss: 0.09392\n",
      "Epoch: 51 - 24.0 s \t train loss: 0.10209 \t val loss: 0.09418\n",
      "Epoch: 52 - 25.0 s \t train loss: 0.09036 \t val loss: 0.09316\n",
      "Loss improved, saving model from epoch 52\n",
      "Epoch: 53 - 24.0 s \t train loss: 0.08024 \t val loss: 0.09326\n",
      "Epoch: 54 - 25.0 s \t train loss: 0.09864 \t val loss: 0.09322\n",
      "Epoch: 55 - 26.0 s \t train loss: 0.09695 \t val loss: 0.093\n",
      "Loss improved, saving model from epoch 55\n",
      "Epoch: 56 - 24.0 s \t train loss: 0.09223 \t val loss: 0.09341\n",
      "Epoch: 57 - 26.0 s \t train loss: 0.09329 \t val loss: 0.0932\n",
      "Epoch: 58 - 24.0 s \t train loss: 0.09626 \t val loss: 0.09259\n",
      "Loss improved, saving model from epoch 58\n",
      "Epoch: 59 - 26.0 s \t train loss: 0.09493 \t val loss: 0.09361\n",
      "Epoch: 60 - 25.0 s \t train loss: 0.09673 \t val loss: 0.09336\n",
      "Epoch: 61 - 25.0 s \t train loss: 0.10404 \t val loss: 0.09222\n",
      "Loss improved, saving model from epoch 61\n",
      "Epoch: 62 - 25.0 s \t train loss: 0.07917 \t val loss: 0.09227\n",
      "Epoch: 63 - 25.0 s \t train loss: 0.09076 \t val loss: 0.09219\n",
      "Loss improved, saving model from epoch 63\n",
      "Epoch: 64 - 26.0 s \t train loss: 0.10043 \t val loss: 0.09234\n",
      "Epoch: 65 - 26.0 s \t train loss: 0.08519 \t val loss: 0.09208\n",
      "Loss improved, saving model from epoch 65\n",
      "Epoch: 66 - 26.0 s \t train loss: 0.09222 \t val loss: 0.0917\n",
      "Loss improved, saving model from epoch 66\n",
      "Epoch: 67 - 27.0 s \t train loss: 0.08995 \t val loss: 0.09166\n",
      "Loss improved, saving model from epoch 67\n",
      "Epoch: 68 - 24.0 s \t train loss: 0.10428 \t val loss: 0.09195\n",
      "Epoch: 69 - 27.0 s \t train loss: 0.09149 \t val loss: 0.09237\n",
      "Epoch: 70 - 24.0 s \t train loss: 0.10075 \t val loss: 0.09234\n",
      "Epoch: 71 - 25.0 s \t train loss: 0.09757 \t val loss: 0.09233\n",
      "Epoch: 72 - 27.0 s \t train loss: 0.09988 \t val loss: 0.09112\n",
      "Loss improved, saving model from epoch 72\n",
      "Epoch: 73 - 24.0 s \t train loss: 0.10151 \t val loss: 0.0917\n",
      "Epoch: 74 - 27.0 s \t train loss: 0.09901 \t val loss: 0.09169\n",
      "Epoch: 75 - 25.0 s \t train loss: 0.10274 \t val loss: 0.09207\n",
      "Epoch: 76 - 27.0 s \t train loss: 0.10314 \t val loss: 0.09225\n",
      "Epoch: 77 - 24.0 s \t train loss: 0.09351 \t val loss: 0.09151\n",
      "Epoch: 78 - 26.0 s \t train loss: 0.09121 \t val loss: 0.09153\n",
      "Epoch: 79 - 26.0 s \t train loss: 0.0968 \t val loss: 0.09104\n",
      "Loss improved, saving model from epoch 79\n",
      "Epoch: 80 - 25.0 s \t train loss: 0.08852 \t val loss: 0.09155\n",
      "Epoch: 81 - 27.0 s \t train loss: 0.0937 \t val loss: 0.09043\n",
      "Loss improved, saving model from epoch 81\n",
      "Epoch: 82 - 25.0 s \t train loss: 0.08839 \t val loss: 0.09132\n",
      "Epoch: 83 - 26.0 s \t train loss: 0.08593 \t val loss: 0.09164\n",
      "Epoch: 84 - 27.0 s \t train loss: 0.09816 \t val loss: 0.09088\n",
      "Epoch: 85 - 25.0 s \t train loss: 0.0897 \t val loss: 0.09161\n",
      "Epoch: 86 - 24.0 s \t train loss: 0.08168 \t val loss: 0.09092\n",
      "Epoch: 87 - 27.0 s \t train loss: 0.12695 \t val loss: 0.09075\n",
      "Epoch: 88 - 25.0 s \t train loss: 0.08423 \t val loss: 0.09086\n",
      "Epoch: 89 - 25.0 s \t train loss: 0.07172 \t val loss: 0.09131\n",
      "Epoch: 90 - 25.0 s \t train loss: 0.08794 \t val loss: 0.09101\n",
      "Epoch: 91 - 24.0 s \t train loss: 0.08967 \t val loss: 0.0903\n",
      "Loss improved, saving model from epoch 91\n",
      "Epoch: 92 - 25.0 s \t train loss: 0.08997 \t val loss: 0.09088\n",
      "Epoch: 93 - 26.0 s \t train loss: 0.09166 \t val loss: 0.09085\n",
      "Epoch: 94 - 25.0 s \t train loss: 0.0942 \t val loss: 0.09089\n",
      "Epoch: 95 - 24.0 s \t train loss: 0.08854 \t val loss: 0.09017\n",
      "Loss improved, saving model from epoch 95\n",
      "Epoch: 96 - 26.0 s \t train loss: 0.08931 \t val loss: 0.09071\n",
      "Epoch: 97 - 26.0 s \t train loss: 0.09927 \t val loss: 0.09044\n",
      "Epoch: 98 - 25.0 s \t train loss: 0.09025 \t val loss: 0.09095\n",
      "Epoch: 99 - 24.0 s \t train loss: 0.08995 \t val loss: 0.09127\n",
      "Trainning completed!\n"
     ]
    }
   ],
   "source": [
    "import copy\n",
    "\n",
    "epochs = 100\n",
    "last_epoch = epochs - 1\n",
    "patience = 10\n",
    "patience_count = 0\n",
    "best_model = []\n",
    "best_val_loss = 999\n",
    "loss_fn = torch.nn.MSELoss()\n",
    "optimizer = torch.optim.Adam(autoencoder.parameters(),\n",
    "                             lr=1e-3,\n",
    "                             weight_decay=1e-5)\n",
    "\n",
    "# histórico de acurácia e perda\n",
    "train_loss = np.empty(epochs)\n",
    "val_loss = np.empty(epochs)\n",
    "    \n",
    "for t in range(epochs):\n",
    "    start_time = time()\n",
    "    for i, data in enumerate(train_loader):\n",
    "        # pega entradas\n",
    "        inputs, labels = data\n",
    "        inputs, labels = Variable(inputs), Variable(labels.type(torch.LongTensor))\n",
    "\n",
    "        # forward pass\n",
    "        predict = autoencoder(inputs)\n",
    "\n",
    "        # loss\n",
    "        loss = loss_fn(predict, inputs)\n",
    "\n",
    "        # zera gradiente\n",
    "        optimizer.zero_grad()\n",
    "            \n",
    "        # calcula novos gradientes\n",
    "        loss.backward()\n",
    "\n",
    "        # atualiza pesos\n",
    "        optimizer.step()\n",
    "\n",
    "    elapsed_time = time() - start_time\n",
    "    # perda no conjunto de treinamento\n",
    "    train_loss[t] = prediction(train_loader, autoencoder, loss_fn)\n",
    "    # perda no conjunto de teste\n",
    "    val_loss[t] = prediction(test_loader, autoencoder, loss_fn)\n",
    "    # imprime dados do treinamento\n",
    "    print('Epoch:', t, '-',round(elapsed_time,0),'s',\n",
    "          '\\t train loss:', round(train_loss[t],5), \n",
    "          '\\t val loss:', round(val_loss[t],5))\n",
    "\n",
    "    # verifica melhora do modelo\n",
    "    if(best_val_loss > val_loss[t]):\n",
    "        patience_count = 0\n",
    "        best_val_loss = val_loss[t]\n",
    "        best_model = copy.deepcopy(autoencoder)\n",
    "        print('Loss improved, saving model from epoch', t)\n",
    "\n",
    "    # early stop\n",
    "    if(patience_count > patience):\n",
    "        print('\\nEarly stopping as accuracy did not improve on last', patience, 'epochs!')\n",
    "        last_epoch = t\n",
    "        break;\n",
    "\n",
    "    patience_count += 1\n",
    "\n",
    "# recupera melhor modelo\n",
    "autoencoder = best_model\n",
    "print('Trainning completed!')"
   ]
  },
  {
   "cell_type": "markdown",
   "metadata": {},
   "source": [
    "## Plot da evolução dos erros na função de avaliação"
   ]
  },
  {
   "cell_type": "code",
   "execution_count": 18,
   "metadata": {},
   "outputs": [
    {
     "data": {
      "text/plain": [
       "<matplotlib.legend.Legend at 0x7fcc5c2fb908>"
      ]
     },
     "execution_count": 18,
     "metadata": {},
     "output_type": "execute_result"
    },
    {
     "data": {
      "image/png": "[encoded data removed]",
      "text/plain": [
       "<matplotlib.figure.Figure at 0x7fccb9d92dd8>"
      ]
     },
     "metadata": {},
     "output_type": "display_data"
    }
   ],
   "source": [
    "%matplotlib inline\n",
    "import matplotlib.pyplot as plot\n",
    "\n",
    "fig = plot.figure(figsize=(15,6))\n",
    "plot.ylim(0.0, 0.2)\n",
    "plot.xlim(0, last_epoch)\n",
    "plot.grid(True)\n",
    "plot.plot(val_loss, label='validation loss')\n",
    "plot.plot(train_loss, label='training loss')\n",
    "plot.legend()"
   ]
  },
  {
   "cell_type": "markdown",
   "metadata": {},
   "source": [
    "## Mostrando decoding das imagens"
   ]
  },
  {
   "cell_type": "code",
   "execution_count": 19,
   "metadata": {
    "collapsed": true
   },
   "outputs": [],
   "source": [
    "for data in test_loader:\n",
    "    images, labels = data\n",
    "        \n",
    "    # forward pass\n",
    "    data_test_encoded = autoencoder(Variable(images))"
   ]
  },
  {
   "cell_type": "code",
   "execution_count": 20,
   "metadata": {},
   "outputs": [
    {
     "data": {
      "image/png": "[encoded data removed]",
      "text/plain": [
       "<PIL.Image.Image image mode=L size=28x28 at 0x7FCC5E290F98>"
      ]
     },
     "metadata": {},
     "output_type": "display_data"
    },
    {
     "data": {
      "image/png": "[encoded data removed]",
      "text/plain": [
       "<PIL.Image.Image image mode=L size=28x28 at 0x7FCC5E290F98>"
      ]
     },
     "metadata": {},
     "output_type": "display_data"
    },
    {
     "name": "stdout",
     "output_type": "stream",
     "text": [
      "label= 2\n"
     ]
    },
    {
     "data": {
      "image/png": "[encoded data removed]",
      "text/plain": [
       "<PIL.Image.Image image mode=L size=28x28 at 0x7FCC5E290F98>"
      ]
     },
     "metadata": {},
     "output_type": "display_data"
    },
    {
     "data": {
      "image/png": "[encoded data removed]",
      "text/plain": [
       "<PIL.Image.Image image mode=L size=28x28 at 0x7FCC5E290F98>"
      ]
     },
     "metadata": {},
     "output_type": "display_data"
    },
    {
     "name": "stdout",
     "output_type": "stream",
     "text": [
      "label= 1\n"
     ]
    },
    {
     "data": {
      "image/png": "[encoded data removed]",
      "text/plain": [
       "<PIL.Image.Image image mode=L size=28x28 at 0x7FCC5E290F98>"
      ]
     },
     "metadata": {},
     "output_type": "display_data"
    },
    {
     "data": {
      "image/png": "[encoded data removed]",
      "text/plain": [
       "<PIL.Image.Image image mode=L size=28x28 at 0x7FCC5E290F98>"
      ]
     },
     "metadata": {},
     "output_type": "display_data"
    },
    {
     "name": "stdout",
     "output_type": "stream",
     "text": [
      "label= 0\n"
     ]
    },
    {
     "data": {
      "image/png": "[encoded data removed]",
      "text/plain": [
       "<PIL.Image.Image image mode=L size=28x28 at 0x7FCC5E290F98>"
      ]
     },
     "metadata": {},
     "output_type": "display_data"
    },
    {
     "data": {
      "image/png": "[encoded data removed]",
      "text/plain": [
       "<PIL.Image.Image image mode=L size=28x28 at 0x7FCC5E290F98>"
      ]
     },
     "metadata": {},
     "output_type": "display_data"
    },
    {
     "name": "stdout",
     "output_type": "stream",
     "text": [
      "label= 4\n"
     ]
    },
    {
     "data": {
      "image/png": "[encoded data removed]",
      "text/plain": [
       "<PIL.Image.Image image mode=L size=28x28 at 0x7FCC5E290F98>"
      ]
     },
     "metadata": {},
     "output_type": "display_data"
    },
    {
     "data": {
      "image/png": "[encoded data removed]",
      "text/plain": [
       "<PIL.Image.Image image mode=L size=28x28 at 0x7FCC5C3F5DA0>"
      ]
     },
     "metadata": {},
     "output_type": "display_data"
    },
    {
     "name": "stdout",
     "output_type": "stream",
     "text": [
      "label= 1\n"
     ]
    },
    {
     "data": {
      "image/png": "[encoded data removed]",
      "text/plain": [
       "<PIL.Image.Image image mode=L size=28x28 at 0x7FCC5E290B00>"
      ]
     },
     "metadata": {},
     "output_type": "display_data"
    },
    {
     "data": {
      "image/png": "[encoded data removed]",
      "text/plain": [
       "<PIL.Image.Image image mode=L size=28x28 at 0x7FCC5E290C18>"
      ]
     },
     "metadata": {},
     "output_type": "display_data"
    },
    {
     "name": "stdout",
     "output_type": "stream",
     "text": [
      "label= 4\n"
     ]
    },
    {
     "data": {
      "image/png": "[encoded data removed]",
      "text/plain": [
       "<PIL.Image.Image image mode=L size=28x28 at 0x7FCC5E290F98>"
      ]
     },
     "metadata": {},
     "output_type": "display_data"
    },
    {
     "data": {
      "image/png": "[encoded data removed]",
      "text/plain": [
       "<PIL.Image.Image image mode=L size=28x28 at 0x7FCC5E290B00>"
      ]
     },
     "metadata": {},
     "output_type": "display_data"
    },
    {
     "name": "stdout",
     "output_type": "stream",
     "text": [
      "label= 9\n"
     ]
    },
    {
     "data": {
      "image/png": "[encoded data removed]",
      "text/plain": [
       "<PIL.Image.Image image mode=L size=28x28 at 0x7FCC5E290B00>"
      ]
     },
     "metadata": {},
     "output_type": "display_data"
    },
    {
     "data": {
      "image/png": "[encoded data removed]",
      "text/plain": [
       "<PIL.Image.Image image mode=L size=28x28 at 0x7FCC5E290B00>"
      ]
     },
     "metadata": {},
     "output_type": "display_data"
    },
    {
     "name": "stdout",
     "output_type": "stream",
     "text": [
      "label= 5\n"
     ]
    },
    {
     "data": {
      "image/png": "[encoded data removed]",
      "text/plain": [
       "<PIL.Image.Image image mode=L size=28x28 at 0x7FCC5C3F5A20>"
      ]
     },
     "metadata": {},
     "output_type": "display_data"
    },
    {
     "data": {
      "image/png": "[encoded data removed]",
      "text/plain": [
       "<PIL.Image.Image image mode=L size=28x28 at 0x7FCC5C3F5A20>"
      ]
     },
     "metadata": {},
     "output_type": "display_data"
    },
    {
     "name": "stdout",
     "output_type": "stream",
     "text": [
      "label= 9\n"
     ]
    },
    {
     "data": {
      "image/png": "[encoded data removed]",
      "text/plain": [
       "<PIL.Image.Image image mode=L size=28x28 at 0x7FCC5C3F5A20>"
      ]
     },
     "metadata": {},
     "output_type": "display_data"
    },
    {
     "data": {
      "image/png": "[encoded data removed]",
      "text/plain": [
       "<PIL.Image.Image image mode=L size=28x28 at 0x7FCC5C3F5A20>"
      ]
     },
     "metadata": {},
     "output_type": "display_data"
    },
    {
     "name": "stdout",
     "output_type": "stream",
     "text": [
      "label= 0\n"
     ]
    }
   ],
   "source": [
    "n = 10\n",
    "for i in range(1, n+1):\n",
    "    x, y = data_test[i]\n",
    "    display.display(to_pil(x))\n",
    "    display.display(to_pil(data_test_encoded[i].data))\n",
    "    print('label=',y)"
   ]
  },
  {
   "cell_type": "code",
   "execution_count": null,
   "metadata": {
    "collapsed": true
   },
   "outputs": [],
   "source": []
  }
 ],
 "metadata": {
  "kernelspec": {
   "display_name": "Python 3",
   "language": "python",
   "name": "python3"
  },
  "language_info": {
   "codemirror_mode": {
    "name": "ipython",
    "version": 3
   },
   "file_extension": ".py",
   "mimetype": "text/x-python",
   "name": "python",
   "nbconvert_exporter": "python",
   "pygments_lexer": "ipython3",
   "version": "3.6.0"
  }
 },
 "nbformat": 4,
 "nbformat_minor": 2
}
