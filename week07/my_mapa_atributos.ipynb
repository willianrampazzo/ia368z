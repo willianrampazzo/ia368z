{
 "cells": [
  {
   "cell_type": "markdown",
   "metadata": {},
   "source": [
    "# Mapa de atributos, 3 classes Iris, caso 2D - PyTorch"
   ]
  },
  {
   "cell_type": "markdown",
   "metadata": {},
   "source": [
    "## Visualização do mapa de atributos\n",
    "\n",
    "<a id='figura'></a>\n"
   ]
  },
  {
   "cell_type": "code",
   "execution_count": 1,
   "metadata": {
    "collapsed": true
   },
   "outputs": [],
   "source": [
    "%matplotlib inline\n",
    "import matplotlib.pyplot as plt\n",
    "import numpy as np\n",
    "import torch\n",
    "from sklearn.datasets import load_iris"
   ]
  },
  {
   "cell_type": "code",
   "execution_count": 2,
   "metadata": {
    "collapsed": true
   },
   "outputs": [],
   "source": [
    "def oneHotIt(Y, n_classes):\n",
    "    ones = torch.sparse.torch.eye(n_classes)\n",
    "    return ones.index_select(0,Y)\n",
    "\n",
    "def softmax(Z):\n",
    "    # computes softmax for all samples, normalize among classes (columns)\n",
    "    # input Z: scores; shape: samples rows x classes columns\n",
    "    # output S: same shape of input\n",
    "    EZ = torch.exp(Z)\n",
    "    S = EZ / torch.sum(EZ, 1, keepdim=True) # normaliza nas classes - colunas\n",
    "    return S\n",
    "\n",
    "def predict(X,WT):\n",
    "    Y_hat_oh = softmax(X.mm(WT))\n",
    "    # escolhe a maior probabilidade entre as classes\n",
    "    values, Y_hat = torch.max(Y_hat_oh, 1)\n",
    "    return Y_hat"
   ]
  },
  {
   "cell_type": "code",
   "execution_count": 3,
   "metadata": {
    "collapsed": true
   },
   "outputs": [],
   "source": [
    "# carrega os dados\n",
    "iris = load_iris()\n",
    "X = torch.Tensor(iris.data[:,::2])  # comprimento das sépalas e pétalas, indices 0 e 2\n",
    "Y = torch.from_numpy(iris.target)\n",
    "\n",
    "# normalização dos dados\n",
    "X_c = X - torch.min(X, 0, keepdim=True)[0]\n",
    "X_c /= torch.max(X_c, 0, keepdim=True)[0]\n",
    "\n",
    "Y_oh = oneHotIt(Y,3)\n",
    "\n",
    "ones = torch.ones(150,1)\n",
    "ones = ones.type(torch.FloatTensor)\n",
    "X_bias = torch.cat((ones, X_c), 1)\n",
    "\n",
    "n_samples = X_bias.shape[0] # number of training examples\n",
    "n_features = X_bias.shape[1] # number of attributes (features + 1(bias))\n",
    "n_classes = 3          # number of classes\n",
    "WT = torch.zeros(n_features,n_classes) # n. de linhas é igual a número de atributos (features, pixels)\n",
    "iterations = 10000\n",
    "learningRate = 0.15\n",
    "\n",
    "losses = []\n",
    "for i in range(iterations):\n",
    "    scores = X_bias.mm(WT)\n",
    "    Y_hat_oh = softmax(scores)\n",
    "    loss = (-1. / n_samples) * torch.sum(Y_oh * torch.log(Y_hat_oh))\n",
    "    Grad = (-1. / n_samples) * (X_bias.t()).mm(Y_oh - Y_hat_oh) \n",
    "    WT = WT - (learningRate * Grad)\n",
    "    losses.append(loss)\n",
    "    \n",
    "Y_hat = predict(X_bias,WT)"
   ]
  },
  {
   "cell_type": "code",
   "execution_count": 4,
   "metadata": {
    "collapsed": true
   },
   "outputs": [],
   "source": [
    "def FSView(X_bias, Y, WT):\n",
    "    \n",
    "    # parâmetros da função\n",
    "    # número de elementos\n",
    "    all = 500\n",
    "    # menor valor de X\n",
    "    minX = X_bias[1].min()-0.1\n",
    "    # menor valor de Y\n",
    "    minY = X_bias[2].min()-0.1\n",
    "    # maior valor de X\n",
    "    maxX = X_bias[1].max()+0.1\n",
    "    # maior valor de Y\n",
    "    maxY = X_bias[2].max()+0.1\n",
    "    \n",
    "    # Cálculo da matriz bidimensional de atributos\n",
    "    SL, PL = np.meshgrid(np.linspace(minX, maxX, all), \n",
    "                         np.linspace(minY, maxY, all))\n",
    "    X_guessed = np.c_[SL.ravel(), PL.ravel()]\n",
    "    \n",
    "    # adição do bias\n",
    "    X_bias_guessed = np.hstack([np.ones((X_guessed.shape[0],1)),X_guessed])\n",
    "    \n",
    "    # predição dos dados\n",
    "    X_bias_guessed = torch.from_numpy(X_bias_guessed)\n",
    "    Y_hat = predict(X_bias_guessed.type(torch.DoubleTensor),WT.type(torch.DoubleTensor))\n",
    "    Y_hat = Y_hat.numpy()\n",
    "    \n",
    "    # cria a figura do tamanho adequado para a correção automática\n",
    "    fig = plt.figure(figsize=(8,5))\n",
    "    \n",
    "    # plota regiões de predição\n",
    "    plt.pcolormesh(SL, PL, Y_hat.reshape(all,all), cmap=plt.cm.PuBu)\n",
    "    \n",
    "    # plota dados originais\n",
    "    nX_bias = X_bias.numpy()\n",
    "    nY = Y.numpy()\n",
    "    colors = np.array(['r','y','b'])\n",
    "    plt.scatter(nX_bias[:,1], nX_bias[:,2], c=colors[nY])\n",
    "    plt.title('Visualizacão do mapa de atributos')\n",
    "    plt.xlabel('Comprimento sepalas')\n",
    "    plt.ylabel('Comprimento petalas')\n",
    "    plt.savefig('my_mapa_atributos.png')\n",
    "    plt.show()"
   ]
  },
  {
   "cell_type": "code",
   "execution_count": 5,
   "metadata": {},
   "outputs": [
    {
     "data": {
      "image/png": "[encoded data removed]",
      "text/plain": [
       "<matplotlib.figure.Figure at 0x7f3b72ea52e8>"
      ]
     },
     "metadata": {},
     "output_type": "display_data"
    }
   ],
   "source": [
    "FSView(X_bias,Y,WT)"
   ]
  },
  {
   "cell_type": "code",
   "execution_count": null,
   "metadata": {
    "collapsed": true
   },
   "outputs": [],
   "source": []
  }
 ],
 "metadata": {
  "kernelspec": {
   "display_name": "Python 3",
   "language": "python",
   "name": "python3"
  },
  "language_info": {
   "codemirror_mode": {
    "name": "ipython",
    "version": 3
   },
   "file_extension": ".py",
   "mimetype": "text/x-python",
   "name": "python",
   "nbconvert_exporter": "python",
   "pygments_lexer": "ipython3",
   "version": "3.6.2"
  }
 },
 "nbformat": 4,
 "nbformat_minor": 2
}
