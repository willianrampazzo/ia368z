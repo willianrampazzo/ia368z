{
 "cells": [
  {
   "cell_type": "markdown",
   "metadata": {},
   "source": [
    "# Regressão Logística usando Softmax no Iris dataset - PyTorch"
   ]
  },
  {
   "cell_type": "code",
   "execution_count": 1,
   "metadata": {
    "ExecuteTime": {
     "end_time": "2017-05-01T20:05:30.280080",
     "start_time": "2017-05-01T20:05:25.078354"
    }
   },
   "outputs": [],
   "source": [
    "%matplotlib inline\n",
    "import matplotlib.pyplot as plt\n",
    "import numpy as np\n",
    "import torch\n",
    "from sklearn.datasets import load_iris"
   ]
  },
  {
   "cell_type": "markdown",
   "metadata": {},
   "source": [
    "## Leitura, normalização e visualização dos dados"
   ]
  },
  {
   "cell_type": "code",
   "execution_count": 2,
   "metadata": {
    "ExecuteTime": {
     "end_time": "2017-05-01T20:05:30.567138",
     "start_time": "2017-05-01T20:05:30.282652"
    }
   },
   "outputs": [
    {
     "data": {
      "image/png": "[encoded data removed]",
      "text/plain": [
       "<matplotlib.figure.Figure at 0x7f08bec63f60>"
      ]
     },
     "metadata": {},
     "output_type": "display_data"
    }
   ],
   "source": [
    "iris = load_iris()\n",
    "X = torch.Tensor(iris.data[:,::2])  # comprimento das sépalas e pétalas, indices 0 e 2\n",
    "\n",
    "# normalização dos dados\n",
    "Xc = X - torch.min(X, 0, keepdim=True)[0]\n",
    "Xc /= torch.max(Xc, 0, keepdim=True)[0]\n",
    "\n",
    "Y = torch.from_numpy(iris.target)\n",
    "\n",
    "colors = np.array(['r','y','b'])\n",
    "plt.scatter(Xc[:, 0].numpy(), Xc[:, 1].numpy(), c=colors[Y.numpy()])\n",
    "plt.xlabel('Sepal length')\n",
    "plt.ylabel('Sepal width')\n",
    "plt.show()"
   ]
  },
  {
   "cell_type": "markdown",
   "metadata": {},
   "source": [
    "## Convertendo rótulos na codificação 'one-hot' - categórico"
   ]
  },
  {
   "cell_type": "code",
   "execution_count": 3,
   "metadata": {
    "collapsed": true
   },
   "outputs": [],
   "source": [
    "def oneHotIt(Y, n_classes):\n",
    "    ones = torch.sparse.torch.eye(n_classes)\n",
    "    return ones.index_select(0,Y)"
   ]
  },
  {
   "cell_type": "code",
   "execution_count": 4,
   "metadata": {
    "ExecuteTime": {
     "end_time": "2017-05-01T20:05:30.576187",
     "start_time": "2017-05-01T20:05:30.569248"
    }
   },
   "outputs": [
    {
     "name": "stdout",
     "output_type": "stream",
     "text": [
      "\n",
      " 0\n",
      " 0\n",
      " 0\n",
      " 0\n",
      " 0\n",
      "[torch.LongTensor of size 5]\n",
      "\n",
      "\n",
      " 1  0  0\n",
      " 1  0  0\n",
      " 1  0  0\n",
      " 1  0  0\n",
      " 1  0  0\n",
      "[torch.FloatTensor of size 5x3]\n",
      "\n"
     ]
    }
   ],
   "source": [
    "Y_oh = oneHotIt(Y, 3) \n",
    "print(Y[0:5])\n",
    "print(Y_oh[0:5])"
   ]
  },
  {
   "cell_type": "markdown",
   "metadata": {},
   "source": [
    "## Construindo o modelo da rede"
   ]
  },
  {
   "cell_type": "code",
   "execution_count": 5,
   "metadata": {
    "ExecuteTime": {
     "end_time": "2017-05-01T20:05:30.603923",
     "start_time": "2017-05-01T20:05:30.579439"
    }
   },
   "outputs": [
    {
     "name": "stdout",
     "output_type": "stream",
     "text": [
      "_classifier (\n",
      "  (main): Sequential (\n",
      "    (0): Linear (2 -> 64)\n",
      "    (1): ReLU ()\n",
      "    (2): Linear (64 -> 3)\n",
      "  )\n",
      ")\n"
     ]
    }
   ],
   "source": [
    "n_classes = 3 \n",
    "\n",
    "from torch.autograd import Variable\n",
    "import torch.nn as nn\n",
    "import torch.nn.functional as F\n",
    "\n",
    "class _classifier(nn.Module):\n",
    "    def __init__(self, nlabel):\n",
    "        super(_classifier, self).__init__()\n",
    "        self.main = nn.Sequential(\n",
    "            nn.Linear(2, 64),\n",
    "            nn.ReLU(),\n",
    "            nn.Linear(64, nlabel),\n",
    "        )\n",
    " \n",
    "    def forward(self, input):\n",
    "        return self.main(input)\n",
    "\n",
    "model = _classifier(n_classes)\n",
    "print(model)"
   ]
  },
  {
   "cell_type": "markdown",
   "metadata": {},
   "source": [
    "## Compilação do modelo"
   ]
  },
  {
   "cell_type": "code",
   "execution_count": 6,
   "metadata": {
    "ExecuteTime": {
     "end_time": "2017-05-01T20:05:30.690563",
     "start_time": "2017-05-01T20:05:30.606309"
    }
   },
   "outputs": [],
   "source": [
    "import torch.optim as optim\n",
    "\n",
    "criterion = nn.MultiLabelSoftMarginLoss()\n",
    "optimizer = optim.Adam(model.parameters())"
   ]
  },
  {
   "cell_type": "markdown",
   "metadata": {},
   "source": [
    "## Laço principal de treinamento da Regressão Logística por Softmax"
   ]
  },
  {
   "cell_type": "code",
   "execution_count": 7,
   "metadata": {},
   "outputs": [
    {
     "name": "stdout",
     "output_type": "stream",
     "text": [
      "[1/300] Loss: 0.675\n",
      "[2/300] Loss: 0.603\n",
      "[3/300] Loss: 0.557\n",
      "[4/300] Loss: 0.502\n",
      "[5/300] Loss: 0.452\n",
      "[6/300] Loss: 0.415\n",
      "[7/300] Loss: 0.389\n",
      "[8/300] Loss: 0.370\n",
      "[9/300] Loss: 0.355\n",
      "[10/300] Loss: 0.344\n",
      "[11/300] Loss: 0.335\n",
      "[12/300] Loss: 0.327\n",
      "[13/300] Loss: 0.320\n",
      "[14/300] Loss: 0.314\n",
      "[15/300] Loss: 0.309\n",
      "[16/300] Loss: 0.303\n",
      "[17/300] Loss: 0.299\n",
      "[18/300] Loss: 0.294\n",
      "[19/300] Loss: 0.290\n",
      "[20/300] Loss: 0.286\n",
      "[21/300] Loss: 0.282\n",
      "[22/300] Loss: 0.278\n",
      "[23/300] Loss: 0.274\n",
      "[24/300] Loss: 0.270\n",
      "[25/300] Loss: 0.267\n",
      "[26/300] Loss: 0.263\n",
      "[27/300] Loss: 0.260\n",
      "[28/300] Loss: 0.256\n",
      "[29/300] Loss: 0.253\n",
      "[30/300] Loss: 0.250\n",
      "[31/300] Loss: 0.246\n",
      "[32/300] Loss: 0.243\n",
      "[33/300] Loss: 0.240\n",
      "[34/300] Loss: 0.236\n",
      "[35/300] Loss: 0.233\n",
      "[36/300] Loss: 0.230\n",
      "[37/300] Loss: 0.227\n",
      "[38/300] Loss: 0.224\n",
      "[39/300] Loss: 0.221\n",
      "[40/300] Loss: 0.218\n",
      "[41/300] Loss: 0.215\n",
      "[42/300] Loss: 0.211\n",
      "[43/300] Loss: 0.209\n",
      "[44/300] Loss: 0.206\n",
      "[45/300] Loss: 0.203\n",
      "[46/300] Loss: 0.200\n",
      "[47/300] Loss: 0.197\n",
      "[48/300] Loss: 0.194\n",
      "[49/300] Loss: 0.191\n",
      "[50/300] Loss: 0.189\n",
      "[51/300] Loss: 0.186\n",
      "[52/300] Loss: 0.183\n",
      "[53/300] Loss: 0.181\n",
      "[54/300] Loss: 0.178\n",
      "[55/300] Loss: 0.176\n",
      "[56/300] Loss: 0.173\n",
      "[57/300] Loss: 0.171\n",
      "[58/300] Loss: 0.168\n",
      "[59/300] Loss: 0.166\n",
      "[60/300] Loss: 0.164\n",
      "[61/300] Loss: 0.162\n",
      "[62/300] Loss: 0.159\n",
      "[63/300] Loss: 0.157\n",
      "[64/300] Loss: 0.155\n",
      "[65/300] Loss: 0.153\n",
      "[66/300] Loss: 0.151\n",
      "[67/300] Loss: 0.149\n",
      "[68/300] Loss: 0.147\n",
      "[69/300] Loss: 0.145\n",
      "[70/300] Loss: 0.143\n",
      "[71/300] Loss: 0.141\n",
      "[72/300] Loss: 0.140\n",
      "[73/300] Loss: 0.138\n",
      "[74/300] Loss: 0.136\n",
      "[75/300] Loss: 0.134\n",
      "[76/300] Loss: 0.133\n",
      "[77/300] Loss: 0.131\n",
      "[78/300] Loss: 0.130\n",
      "[79/300] Loss: 0.128\n",
      "[80/300] Loss: 0.127\n",
      "[81/300] Loss: 0.125\n",
      "[82/300] Loss: 0.124\n",
      "[83/300] Loss: 0.122\n",
      "[84/300] Loss: 0.121\n",
      "[85/300] Loss: 0.120\n",
      "[86/300] Loss: 0.118\n",
      "[87/300] Loss: 0.117\n",
      "[88/300] Loss: 0.116\n",
      "[89/300] Loss: 0.115\n",
      "[90/300] Loss: 0.114\n",
      "[91/300] Loss: 0.113\n",
      "[92/300] Loss: 0.111\n",
      "[93/300] Loss: 0.110\n",
      "[94/300] Loss: 0.109\n",
      "[95/300] Loss: 0.108\n",
      "[96/300] Loss: 0.107\n",
      "[97/300] Loss: 0.106\n",
      "[98/300] Loss: 0.105\n",
      "[99/300] Loss: 0.105\n",
      "[100/300] Loss: 0.104\n",
      "[101/300] Loss: 0.103\n",
      "[102/300] Loss: 0.102\n",
      "[103/300] Loss: 0.101\n",
      "[104/300] Loss: 0.100\n",
      "[105/300] Loss: 0.100\n",
      "[106/300] Loss: 0.099\n",
      "[107/300] Loss: 0.098\n",
      "[108/300] Loss: 0.097\n",
      "[109/300] Loss: 0.097\n",
      "[110/300] Loss: 0.096\n",
      "[111/300] Loss: 0.095\n",
      "[112/300] Loss: 0.095\n",
      "[113/300] Loss: 0.094\n",
      "[114/300] Loss: 0.094\n",
      "[115/300] Loss: 0.093\n",
      "[116/300] Loss: 0.093\n",
      "[117/300] Loss: 0.092\n",
      "[118/300] Loss: 0.092\n",
      "[119/300] Loss: 0.091\n",
      "[120/300] Loss: 0.090\n",
      "[121/300] Loss: 0.090\n",
      "[122/300] Loss: 0.090\n",
      "[123/300] Loss: 0.089\n",
      "[124/300] Loss: 0.089\n",
      "[125/300] Loss: 0.088\n",
      "[126/300] Loss: 0.088\n",
      "[127/300] Loss: 0.087\n",
      "[128/300] Loss: 0.087\n",
      "[129/300] Loss: 0.087\n",
      "[130/300] Loss: 0.086\n",
      "[131/300] Loss: 0.086\n",
      "[132/300] Loss: 0.086\n",
      "[133/300] Loss: 0.085\n",
      "[134/300] Loss: 0.085\n",
      "[135/300] Loss: 0.085\n",
      "[136/300] Loss: 0.084\n",
      "[137/300] Loss: 0.084\n",
      "[138/300] Loss: 0.084\n",
      "[139/300] Loss: 0.083\n",
      "[140/300] Loss: 0.083\n",
      "[141/300] Loss: 0.083\n",
      "[142/300] Loss: 0.083\n",
      "[143/300] Loss: 0.082\n",
      "[144/300] Loss: 0.082\n",
      "[145/300] Loss: 0.082\n",
      "[146/300] Loss: 0.082\n",
      "[147/300] Loss: 0.081\n",
      "[148/300] Loss: 0.081\n",
      "[149/300] Loss: 0.081\n",
      "[150/300] Loss: 0.081\n",
      "[151/300] Loss: 0.080\n",
      "[152/300] Loss: 0.080\n",
      "[153/300] Loss: 0.080\n",
      "[154/300] Loss: 0.080\n",
      "[155/300] Loss: 0.080\n",
      "[156/300] Loss: 0.079\n",
      "[157/300] Loss: 0.079\n",
      "[158/300] Loss: 0.079\n",
      "[159/300] Loss: 0.079\n",
      "[160/300] Loss: 0.079\n",
      "[161/300] Loss: 0.079\n",
      "[162/300] Loss: 0.078\n",
      "[163/300] Loss: 0.078\n",
      "[164/300] Loss: 0.078\n",
      "[165/300] Loss: 0.078\n",
      "[166/300] Loss: 0.078\n",
      "[167/300] Loss: 0.078\n",
      "[168/300] Loss: 0.077\n",
      "[169/300] Loss: 0.077\n",
      "[170/300] Loss: 0.077\n",
      "[171/300] Loss: 0.077\n",
      "[172/300] Loss: 0.077\n",
      "[173/300] Loss: 0.077\n",
      "[174/300] Loss: 0.077\n",
      "[175/300] Loss: 0.077\n",
      "[176/300] Loss: 0.076\n",
      "[177/300] Loss: 0.076\n",
      "[178/300] Loss: 0.076\n",
      "[179/300] Loss: 0.076\n",
      "[180/300] Loss: 0.076\n",
      "[181/300] Loss: 0.076\n",
      "[182/300] Loss: 0.076\n",
      "[183/300] Loss: 0.076\n",
      "[184/300] Loss: 0.076\n",
      "[185/300] Loss: 0.075\n",
      "[186/300] Loss: 0.075\n",
      "[187/300] Loss: 0.075\n",
      "[188/300] Loss: 0.075\n",
      "[189/300] Loss: 0.075\n",
      "[190/300] Loss: 0.075\n",
      "[191/300] Loss: 0.075\n",
      "[192/300] Loss: 0.075\n",
      "[193/300] Loss: 0.075\n",
      "[194/300] Loss: 0.075\n",
      "[195/300] Loss: 0.075\n",
      "[196/300] Loss: 0.074\n",
      "[197/300] Loss: 0.074\n",
      "[198/300] Loss: 0.074\n",
      "[199/300] Loss: 0.074\n",
      "[200/300] Loss: 0.074\n",
      "[201/300] Loss: 0.074\n",
      "[202/300] Loss: 0.074\n",
      "[203/300] Loss: 0.074\n",
      "[204/300] Loss: 0.074\n",
      "[205/300] Loss: 0.074\n",
      "[206/300] Loss: 0.074\n",
      "[207/300] Loss: 0.074\n",
      "[208/300] Loss: 0.074\n",
      "[209/300] Loss: 0.073\n",
      "[210/300] Loss: 0.073\n",
      "[211/300] Loss: 0.073\n",
      "[212/300] Loss: 0.073\n",
      "[213/300] Loss: 0.073\n",
      "[214/300] Loss: 0.073\n",
      "[215/300] Loss: 0.073\n",
      "[216/300] Loss: 0.073\n",
      "[217/300] Loss: 0.073\n",
      "[218/300] Loss: 0.073\n",
      "[219/300] Loss: 0.073\n",
      "[220/300] Loss: 0.073\n",
      "[221/300] Loss: 0.073\n",
      "[222/300] Loss: 0.073\n",
      "[223/300] Loss: 0.073\n",
      "[224/300] Loss: 0.073\n",
      "[225/300] Loss: 0.073\n",
      "[226/300] Loss: 0.072\n",
      "[227/300] Loss: 0.072\n",
      "[228/300] Loss: 0.072\n",
      "[229/300] Loss: 0.072\n",
      "[230/300] Loss: 0.072\n",
      "[231/300] Loss: 0.072\n",
      "[232/300] Loss: 0.072\n",
      "[233/300] Loss: 0.072\n",
      "[234/300] Loss: 0.072\n",
      "[235/300] Loss: 0.072\n",
      "[236/300] Loss: 0.072\n",
      "[237/300] Loss: 0.072\n",
      "[238/300] Loss: 0.072\n",
      "[239/300] Loss: 0.072\n",
      "[240/300] Loss: 0.072\n",
      "[241/300] Loss: 0.072\n",
      "[242/300] Loss: 0.072\n",
      "[243/300] Loss: 0.072\n",
      "[244/300] Loss: 0.072\n",
      "[245/300] Loss: 0.072\n",
      "[246/300] Loss: 0.071\n",
      "[247/300] Loss: 0.071\n",
      "[248/300] Loss: 0.071\n",
      "[249/300] Loss: 0.071\n",
      "[250/300] Loss: 0.071\n",
      "[251/300] Loss: 0.071\n",
      "[252/300] Loss: 0.071\n",
      "[253/300] Loss: 0.071\n",
      "[254/300] Loss: 0.071\n",
      "[255/300] Loss: 0.071\n",
      "[256/300] Loss: 0.071\n",
      "[257/300] Loss: 0.071\n",
      "[258/300] Loss: 0.071\n",
      "[259/300] Loss: 0.071\n",
      "[260/300] Loss: 0.071\n",
      "[261/300] Loss: 0.071\n",
      "[262/300] Loss: 0.071\n",
      "[263/300] Loss: 0.071\n",
      "[264/300] Loss: 0.071\n",
      "[265/300] Loss: 0.071\n",
      "[266/300] Loss: 0.071\n",
      "[267/300] Loss: 0.071\n",
      "[268/300] Loss: 0.071\n",
      "[269/300] Loss: 0.071\n",
      "[270/300] Loss: 0.071\n",
      "[271/300] Loss: 0.071\n",
      "[272/300] Loss: 0.071\n",
      "[273/300] Loss: 0.070\n",
      "[274/300] Loss: 0.071\n",
      "[275/300] Loss: 0.070\n",
      "[276/300] Loss: 0.070\n",
      "[277/300] Loss: 0.070\n",
      "[278/300] Loss: 0.070\n",
      "[279/300] Loss: 0.070\n",
      "[280/300] Loss: 0.070\n",
      "[281/300] Loss: 0.070\n",
      "[282/300] Loss: 0.070\n",
      "[283/300] Loss: 0.070\n",
      "[284/300] Loss: 0.070\n",
      "[285/300] Loss: 0.070\n",
      "[286/300] Loss: 0.070\n",
      "[287/300] Loss: 0.070\n",
      "[288/300] Loss: 0.070\n",
      "[289/300] Loss: 0.070\n",
      "[290/300] Loss: 0.070\n",
      "[291/300] Loss: 0.070\n",
      "[292/300] Loss: 0.070\n",
      "[293/300] Loss: 0.070\n",
      "[294/300] Loss: 0.070\n",
      "[295/300] Loss: 0.070\n",
      "[296/300] Loss: 0.070\n",
      "[297/300] Loss: 0.070\n",
      "[298/300] Loss: 0.070\n",
      "[299/300] Loss: 0.070\n",
      "[300/300] Loss: 0.070\n"
     ]
    }
   ],
   "source": [
    "epochs = 300\n",
    "loss_history = []\n",
    "for epoch in range(epochs):\n",
    "    losses = []\n",
    "    for i, sample in enumerate(Xc):\n",
    "        inputv = Variable(torch.FloatTensor(sample)).view(1, -1)\n",
    "        labelsv = Variable(torch.FloatTensor(Y_oh[i])).view(1, -1)\n",
    "         \n",
    "        output = model(inputv)\n",
    "        loss = criterion(output, labelsv)\n",
    " \n",
    "        optimizer.zero_grad()\n",
    "        loss.backward()\n",
    "        optimizer.step()\n",
    "        losses.append(loss.data.mean())\n",
    "        \n",
    "    print('[%d/%d] Loss: %.3f' % (epoch+1, epochs, np.mean(losses)))\n",
    "    loss_history.append(np.mean(losses))"
   ]
  },
  {
   "cell_type": "markdown",
   "metadata": {},
   "source": [
    "## Visualizando a minimização da Perda durante o treinamento\n"
   ]
  },
  {
   "cell_type": "code",
   "execution_count": 8,
   "metadata": {
    "ExecuteTime": {
     "end_time": "2017-05-01T20:05:47.014483",
     "start_time": "2017-05-01T20:05:46.790577"
    }
   },
   "outputs": [
    {
     "data": {
      "text/plain": [
       "[<matplotlib.lines.Line2D at 0x7f08bab0f080>]"
      ]
     },
     "execution_count": 8,
     "metadata": {},
     "output_type": "execute_result"
    },
    {
     "data": {
      "image/png": "[encoded data removed]",
      "text/plain": [
       "<matplotlib.figure.Figure at 0x7f08be7f0a20>"
      ]
     },
     "metadata": {},
     "output_type": "display_data"
    }
   ],
   "source": [
    "plt.plot(loss_history)"
   ]
  },
  {
   "cell_type": "markdown",
   "metadata": {},
   "source": [
    "## Cálculo do desempenho do resultado\n"
   ]
  },
  {
   "cell_type": "code",
   "execution_count": 9,
   "metadata": {
    "ExecuteTime": {
     "end_time": "2017-05-01T20:05:47.037063",
     "start_time": "2017-05-01T20:05:47.016596"
    }
   },
   "outputs": [
    {
     "name": "stdout",
     "output_type": "stream",
     "text": [
      "Accuracy: 146, 97%\n"
     ]
    }
   ],
   "source": [
    "correct = 0\n",
    "total = Y.size(0)\n",
    "for i, sample in enumerate(Xc):\n",
    "    inputv = Variable(torch.FloatTensor(sample)).view(1, -1)\n",
    "    labelsv = Variable(torch.FloatTensor(Y_oh[i])).view(1, -1)\n",
    "    outputs = model(inputv)\n",
    "    _, predicted = torch.max(outputs.data, 1)\n",
    "    correct += int((int(predicted.numpy()) == Y[i]))\n",
    "\n",
    "print('Accuracy: %d, %d%%' % (correct, \n",
    "    100 * correct / total))"
   ]
  },
  {
   "cell_type": "code",
   "execution_count": null,
   "metadata": {
    "collapsed": true
   },
   "outputs": [],
   "source": []
  }
 ],
 "metadata": {
  "kernelspec": {
   "display_name": "Python 3",
   "language": "python",
   "name": "python3"
  },
  "language_info": {
   "codemirror_mode": {
    "name": "ipython",
    "version": 3
   },
   "file_extension": ".py",
   "mimetype": "text/x-python",
   "name": "python",
   "nbconvert_exporter": "python",
   "pygments_lexer": "ipython3",
   "version": "3.6.2"
  },
  "toc": {
   "colors": {
    "hover_highlight": "#DAA520",
    "running_highlight": "#FF0000",
    "selected_highlight": "#FFD700"
   },
   "moveMenuLeft": true,
   "nav_menu": {
    "height": "212px",
    "width": "252px"
   },
   "navigate_menu": true,
   "number_sections": true,
   "sideBar": true,
   "threshold": 4,
   "toc_cell": true,
   "toc_section_display": "block",
   "toc_window_display": false
  }
 },
 "nbformat": 4,
 "nbformat_minor": 1
}
