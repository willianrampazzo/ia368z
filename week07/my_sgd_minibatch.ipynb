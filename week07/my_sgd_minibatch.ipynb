{
 "cells": [
  {
   "cell_type": "markdown",
   "metadata": {},
   "source": [
    "# Implementar o batch gradient descent - PyTorch"
   ]
  },
  {
   "cell_type": "code",
   "execution_count": 11,
   "metadata": {
    "collapsed": true
   },
   "outputs": [],
   "source": [
    "%matplotlib inline\n",
    "import matplotlib.pyplot as plt\n",
    "import numpy as np\n",
    "import torch\n",
    "from sklearn.datasets import load_iris"
   ]
  },
  {
   "cell_type": "markdown",
   "metadata": {},
   "source": [
    "### Carregando dados e normalizando"
   ]
  },
  {
   "cell_type": "code",
   "execution_count": 12,
   "metadata": {
    "collapsed": true
   },
   "outputs": [],
   "source": [
    "iris = load_iris()\n",
    "\n",
    "ndata = iris.data[iris.target==1,::2]  # comprimento das sépalas e pétalas, indices 0 e 2\n",
    "tdata = torch.from_numpy(ndata)\n",
    "\n",
    "x = tdata[:,0:1]\n",
    "y = tdata[:,1:2]\n",
    "\n",
    "a = [x.min(), y.min()]\n",
    "a = min(a)\n",
    "b = [x.max(), y.max()]\n",
    "b = max(b)\n",
    "x -= a\n",
    "x /= b    # normalização\n",
    "y -= a\n",
    "y /= b"
   ]
  },
  {
   "cell_type": "markdown",
   "metadata": {},
   "source": [
    "### Gradiente Descendente por Mini Lote (mini-batch)"
   ]
  },
  {
   "cell_type": "code",
   "execution_count": 13,
   "metadata": {
    "collapsed": true
   },
   "outputs": [],
   "source": [
    "def mini_batch_gradient_descent(X, y, w_init, b, lr, n_epochs):\n",
    "    # quantidade de blocos\n",
    "    M = int(y.size()[0]/b)\n",
    "    # amostras restantes\n",
    "    tail = y.size()[0]%b\n",
    "    # hostórico de pesos\n",
    "    w_history = torch.zeros((2,(M*n_epochs)+1))\n",
    "    # peso inicial\n",
    "    wT = w_init.t()\n",
    "    # salva peso inicial no histórico\n",
    "    w_history[:,0] = wT[:,0]\n",
    "    \n",
    "    for i in range(n_epochs):\n",
    "        # pega o estado atual que será usado na \n",
    "        # próxima chamado do shuffle\n",
    "        #rng_state = np.random.get_state()\n",
    "        # embaralha X\n",
    "        #np.random.shuffle(X)\n",
    "        # seta o estado atual para o mesmo\n",
    "        # usado no shuffle de X\n",
    "        #np.random.set_state(rng_state)\n",
    "        # embaralha y\n",
    "        #np.random.shuffle(y)\n",
    "        \n",
    "        # inicial épocas\n",
    "        for j in range(M):\n",
    "            # elemento inicial do mini lote\n",
    "            elemento_i = (j*b)\n",
    "            # elemento final +1 do mini lote\n",
    "            elemento_f = (j*b)+b\n",
    "            # view do mini lote em X\n",
    "            X_ = X[elemento_i:elemento_f]\n",
    "            # view do mini lote em Y\n",
    "            y_ = y[elemento_i:elemento_f]\n",
    "            \n",
    "            wT = wT - lr * (2.0 / b) * (X_.t()).mm(X_.mm(wT) - y_)\n",
    "            w_history[:,j+(i*M)+1] = wT[:,0]\n",
    "\n",
    "        # caso o número de blocos não seja exato,\n",
    "        # tratamos o último lote separadamente\n",
    "        if (tail > 0):\n",
    "            # view do último mini lote em X\n",
    "            X_ = X[-tail:]\n",
    "            # view do último mini lote em Y\n",
    "            y_ = y[-tail:]\n",
    "\n",
    "            wT = wT - lr * (2.0 / tail) * (X_.t()).mm(X_.mm(wT) - y_)\n",
    "            w_history[:,j+(i*M)+1] = wT[:,0]\n",
    "            \n",
    "    return w_history.t()"
   ]
  },
  {
   "cell_type": "markdown",
   "metadata": {},
   "source": [
    "### Minimização via gradiente descendente por mini lote"
   ]
  },
  {
   "cell_type": "code",
   "execution_count": 14,
   "metadata": {},
   "outputs": [],
   "source": [
    "# Parâmetros do gradiente descendente: número de iterações e taxa de aprendizagem\n",
    "iterations = 100\n",
    "lr = 0.1\n",
    "\n",
    "n_samples = y.shape[0]\n",
    "\n",
    "#Montagem da matriz X agora com os elementos 1 na primeira coluna\n",
    "ones = torch.ones(n_samples,1)\n",
    "ones = ones.type(torch.DoubleTensor)\n",
    "X_bias = torch.cat((ones, x), 1)\n",
    "w_init = torch.zeros(1,2).type(torch.DoubleTensor)\n",
    "\n",
    "tam_lote = 1\n",
    "w_history_1 = mini_batch_gradient_descent(X_bias, y, w_init, tam_lote, lr, iterations)\n",
    "\n",
    "tam_lote = 9\n",
    "w_history_T = mini_batch_gradient_descent(X_bias, y, w_init, tam_lote, lr, iterations)\n",
    "\n",
    "tam_lote = 50\n",
    "w_history_M = mini_batch_gradient_descent(X_bias, y, w_init, tam_lote, lr, iterations)"
   ]
  },
  {
   "cell_type": "code",
   "execution_count": 18,
   "metadata": {
    "collapsed": true
   },
   "outputs": [],
   "source": [
    "def xy_grid(h, w, s):\n",
    "    x = torch.linspace(h, w, s)\n",
    "    y = torch.linspace(h, w, s)\n",
    "    grid = torch.stack([x.repeat(s), y.repeat(s,1).t().contiguous().view(-1)],1)\n",
    "    return grid.t().type(torch.DoubleTensor)"
   ]
  },
  {
   "cell_type": "code",
   "execution_count": 21,
   "metadata": {
    "collapsed": true
   },
   "outputs": [],
   "source": [
    "def Jview(X_bias, y, w_history, w_opt, plt, ax):\n",
    "\n",
    "    # parâmetros da função\n",
    "    # quantos pesos gerar\n",
    "    all = 1000\n",
    "    # valor mínimo do grid\n",
    "    min = -0.4\n",
    "    # valor máximo do grid\n",
    "    max = 1.0\n",
    "    \n",
    "    # Cálculo da matriz bidimensional de parâmetros\n",
    "    X, Y = np.meshgrid(np.linspace(min, max, all), \n",
    "                         np.linspace(min, max, all))\n",
    "    \n",
    "    # Cálculo da matriz bidimensional de parâmetros\n",
    "    wT = xy_grid(min, max, all)\n",
    "        \n",
    "    # calculo do custo\n",
    "    J = compute_cost(X_bias, y, wT).view(all,all)\n",
    "    J = J.numpy()\n",
    "    \n",
    "    # plotagem do espaço de parâmetros\n",
    "    CS = plt.contourf(X, Y, J, 30, cmap=plt.cm.Blues_r)\n",
    "\n",
    "    # plotagem do histórico dos pesos durante o treinamento\n",
    "    w0 = w_history[0:,0].numpy()\n",
    "    w1 = w_history[0:,1].numpy()\n",
    "    plt.scatter(w0, w1, marker='o', c='r')\n",
    "\n",
    "    w_opt = w_opt.numpy()\n",
    "    \n",
    "    # plotagem do da solução analítica\n",
    "    plt.plot(w_opt[0], w_opt[1], 'wx')\n",
    "    \n",
    "    #plt.title('Visualização do treinamento de w na função de Custo J')\n",
    "    \n",
    "    # salva imagem\n",
    "    #plt.savefig('fig_custo.png')\n",
    "\n",
    "    #plt.show()"
   ]
  },
  {
   "cell_type": "code",
   "execution_count": 16,
   "metadata": {},
   "outputs": [],
   "source": [
    "def compute_cost(X_b, y, wT):\n",
    "    e = X_b.mm(wT) - y\n",
    "    J = (e * e)\n",
    "    J = torch.mean(J, 0)\n",
    "    return J\n",
    "\n",
    "w_opt = (torch.inverse((X_bias.t()).mm(X_bias)).mm(X_bias.t())).mm(y)"
   ]
  },
  {
   "cell_type": "markdown",
   "metadata": {},
   "source": [
    "### Gerando a figura para correção automática\n",
    "\n",
    "<a id='figura'></a>"
   ]
  },
  {
   "cell_type": "code",
   "execution_count": 22,
   "metadata": {},
   "outputs": [
    {
     "data": {
      "image/png": "[encoded data removed]",
      "text/plain": [
       "<matplotlib.figure.Figure at 0x7f30f7865a20>"
      ]
     },
     "metadata": {},
     "output_type": "display_data"
    }
   ],
   "source": [
    "fig = plt.figure(figsize=(20,5))\n",
    "plt.suptitle('Visualizacão do erro')\n",
    "\n",
    "ax = fig.add_subplot(131)\n",
    "plt.title(\"Batch size 1\")\n",
    "Jview(X_bias, y, w_history_1, w_opt, plt, ax)\n",
    "#ax.plot(J_history_stochastic)\n",
    "\n",
    "ay = fig.add_subplot(132)\n",
    "plt.title(\"Batch size T\")\n",
    "Jview(X_bias, y, w_history_T, w_opt, plt, ay)\n",
    "#ay.plot(J_history)\n",
    "\n",
    "az = fig.add_subplot(133)\n",
    "plt.title(\"Batch size num_amostras\")\n",
    "Jview(X_bias, y, w_history_M, w_opt, plt, az)\n",
    "#az.plot(J_history)\n",
    "\n",
    "plt.savefig('my_sgd_minibatch.png')"
   ]
  },
  {
   "cell_type": "code",
   "execution_count": null,
   "metadata": {
    "collapsed": true
   },
   "outputs": [],
   "source": []
  }
 ],
 "metadata": {
  "kernelspec": {
   "display_name": "Python 3",
   "language": "python",
   "name": "python3"
  },
  "language_info": {
   "codemirror_mode": {
    "name": "ipython",
    "version": 3
   },
   "file_extension": ".py",
   "mimetype": "text/x-python",
   "name": "python",
   "nbconvert_exporter": "python",
   "pygments_lexer": "ipython3",
   "version": "3.6.2"
  }
 },
 "nbformat": 4,
 "nbformat_minor": 2
}
