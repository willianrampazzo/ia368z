{
 "cells": [
  {
   "cell_type": "markdown",
   "metadata": {},
   "source": [
    "# Cifar10 - exercicio de classificar 3 classes no PyTorch"
   ]
  },
  {
   "cell_type": "markdown",
   "metadata": {},
   "source": [
    "Refazer o exercício da week05, porém agora utilizando o PyTorch\n",
    "\n",
    "Para quem estiver já habituado no uso do PyTorch este exercício pode ser trocado pelo:\n",
    "\n",
    "1. Fazer o transfer learning do Cifar (exercício da week06\n",
    "2. Fazer otimização para calcular uma imagem sintética com pixels otimizados para que a probabilidade de uma classe (à sua escolha) seja maximizada."
   ]
  },
  {
   "cell_type": "markdown",
   "metadata": {},
   "source": [
    "Tenho um exemplo ainda em desenvolvimento em https://t-adessowiki.fee.unicamp.br/user/lotufo/notebooks/lotufo/ia368z/deliver-pytorch/transfer_learning_tutorial.ipynb\n",
    "\n",
    "que pode ser utilizado como inspiração. Estou procurando outros também."
   ]
  },
  {
   "cell_type": "code",
   "execution_count": 1,
   "metadata": {
    "collapsed": true
   },
   "outputs": [],
   "source": [
    "%matplotlib inline\n",
    "import matplotlib.pylab as plt\n",
    "\n",
    "import numpy as np\n",
    "import torch\n",
    "import torch.utils.data\n",
    "import torchvision\n",
    "import torchvision.transforms as transforms\n",
    "\n",
    "from time import time\n",
    "from torch.autograd import Variable"
   ]
  },
  {
   "cell_type": "markdown",
   "metadata": {},
   "source": [
    "## Carregando dados"
   ]
  },
  {
   "cell_type": "code",
   "execution_count": 2,
   "metadata": {
    "collapsed": true
   },
   "outputs": [],
   "source": [
    "data = np.load('/etc/jupyterhub/ia368z_2s2017/datasets/cifar10-redux.npz')"
   ]
  },
  {
   "cell_type": "markdown",
   "metadata": {},
   "source": [
    "Para maior rapidez na depuração do programa, reduza o número de amostras para bem pouco, digamos 100 para treino e 50 para validação. Depois que estiver tudo testado, coloque few_samples como False para utilizar as 2000 amostras e deixe o treinamento completo ocorrer."
   ]
  },
  {
   "cell_type": "code",
   "execution_count": 3,
   "metadata": {
    "collapsed": true
   },
   "outputs": [],
   "source": [
    "few_samples = False\n",
    "if few_samples:\n",
    "    n_samples = 100\n",
    "else:\n",
    "    n_samples = 2000"
   ]
  },
  {
   "cell_type": "code",
   "execution_count": 4,
   "metadata": {
    "collapsed": true
   },
   "outputs": [],
   "source": [
    "X = data['X_train'][:n_samples]\n",
    "y = data['y_train'][:n_samples]\n",
    "X_test = data['X_test'][:n_samples]\n",
    "y_test = data['y_test'][:n_samples]"
   ]
  },
  {
   "cell_type": "code",
   "execution_count": 5,
   "metadata": {},
   "outputs": [
    {
     "data": {
      "text/plain": [
       "((2000, 3, 32, 32), (2000,), (500, 3, 32, 32), (500,))"
      ]
     },
     "execution_count": 5,
     "metadata": {},
     "output_type": "execute_result"
    }
   ],
   "source": [
    "X.shape, y.shape, X_test.shape, y_test.shape"
   ]
  },
  {
   "cell_type": "markdown",
   "metadata": {},
   "source": [
    "## Normalização dos dados"
   ]
  },
  {
   "cell_type": "code",
   "execution_count": 6,
   "metadata": {
    "collapsed": true
   },
   "outputs": [],
   "source": [
    "X = X.astype('float32')\n",
    "X /= 255.\n",
    "X_test = X_test.astype('float32')\n",
    "X_test /= 255.\n",
    "\n",
    "y -= y.min()\n",
    "y_test -= y_test.min()"
   ]
  },
  {
   "cell_type": "markdown",
   "metadata": {},
   "source": [
    "## Divisão dos dados em treino e validação"
   ]
  },
  {
   "cell_type": "code",
   "execution_count": 7,
   "metadata": {},
   "outputs": [
    {
     "name": "stdout",
     "output_type": "stream",
     "text": [
      "(1605, 3, 32, 32)\n",
      "(395, 3, 32, 32)\n",
      "(1605,)\n",
      "(395,)\n"
     ]
    }
   ],
   "source": [
    "# numero de amostras\n",
    "nb_data = X.shape[0]\n",
    "\n",
    "# semente fixa para dar reproducibilidade\n",
    "seed = 13\n",
    "np.random.seed(seed)\n",
    "\n",
    "msk = np.random.rand(nb_data) < 0.80\n",
    "X_train = X[msk]\n",
    "X_validate = X[~msk]\n",
    "y_train = y[msk]\n",
    "y_validate = y[~msk]\n",
    "\n",
    "print(X_train.shape)\n",
    "print(X_validate.shape)\n",
    "print(y_train.shape)\n",
    "print(y_validate.shape)"
   ]
  },
  {
   "cell_type": "markdown",
   "metadata": {},
   "source": [
    "## Cria DataLoader"
   ]
  },
  {
   "cell_type": "code",
   "execution_count": 8,
   "metadata": {
    "collapsed": true
   },
   "outputs": [],
   "source": [
    "X_train = torch.from_numpy(X_train).type(torch.FloatTensor)\n",
    "y_train = torch.from_numpy(y_train).type(torch.LongTensor)\n",
    "\n",
    "X_validate = torch.from_numpy(X_validate).type(torch.FloatTensor)\n",
    "y_validate = torch.from_numpy(y_validate).type(torch.LongTensor)\n",
    "\n",
    "X_test = torch.from_numpy(X_test).type(torch.FloatTensor)\n",
    "y_test = torch.from_numpy(y_test).type(torch.LongTensor)\n",
    "\n",
    "train = torch.utils.data.TensorDataset(X_train, y_train)\n",
    "\n",
    "train_loader = torch.utils.data.DataLoader(train,\n",
    "                                          batch_size=50,\n",
    "                                          shuffle=True,\n",
    "                                          num_workers=2)\n",
    "\n",
    "validate = torch.utils.data.TensorDataset(X_validate, y_validate)\n",
    "\n",
    "validate_loader = torch.utils.data.DataLoader(validate,\n",
    "                                          batch_size=50,\n",
    "                                          shuffle=True,\n",
    "                                          num_workers=2)\n",
    "\n",
    "test = torch.utils.data.TensorDataset(X_test, y_test)\n",
    "\n",
    "test_loader = torch.utils.data.DataLoader(test,\n",
    "                                         batch_size=500,\n",
    "                                         shuffle=False,\n",
    "                                         num_workers=2)"
   ]
  },
  {
   "cell_type": "markdown",
   "metadata": {},
   "source": [
    "## Define a classe da rede"
   ]
  },
  {
   "cell_type": "code",
   "execution_count": 9,
   "metadata": {
    "collapsed": true
   },
   "outputs": [],
   "source": [
    "import torch.nn.functional as F\n",
    "\n",
    "class Net1(torch.nn.Module):\n",
    "    def __init__(self):\n",
    "        super(Net1, self).__init__()\n",
    "        self.conv1 = torch.nn.Conv2d(3, 32, 3)\n",
    "        self.conv2 = torch.nn.Conv2d(32, 64, 3)\n",
    "        self.pool1 = torch.nn.MaxPool2d(2, 2)\n",
    "        self.drop1 = torch.nn.Dropout(0.25)\n",
    "        \n",
    "        self.conv3 = torch.nn.Conv2d(64, 48, 3)\n",
    "        self.pool2 = torch.nn.MaxPool2d(2, 2)\n",
    "        self.drop2 = torch.nn.Dropout(0.25)\n",
    "        \n",
    "        self.dense1 = torch.nn.Linear(48 * 6 * 6, 128)\n",
    "        self.drop3 = torch.nn.Dropout(0.75)\n",
    "        self.dense2 = torch.nn.Linear(128, 3)\n",
    "\n",
    "    def forward(self, x):\n",
    "        x = F.relu(self.conv1(x))\n",
    "        x = F.relu(self.conv2(x))\n",
    "        x = self.pool1(x)\n",
    "        x = self.drop1(x)\n",
    "        \n",
    "        x = F.relu(self.conv3(x))\n",
    "        x = self.pool2(x)\n",
    "        x = self.drop2(x)\n",
    "        \n",
    "        x = x.view(-1, 48 * 6 * 6)\n",
    "        x = F.relu(self.dense1(x))\n",
    "        x = self.drop3(x)\n",
    "        x = self.dense2(x)\n",
    "        return x"
   ]
  },
  {
   "cell_type": "code",
   "execution_count": 10,
   "metadata": {
    "collapsed": true
   },
   "outputs": [],
   "source": [
    "class Net2(torch.nn.Module):\n",
    "    def __init__(self):\n",
    "        super(Net2, self).__init__()\n",
    "        self.conv1 = torch.nn.Conv2d(3, 6, 5)\n",
    "        self.pool = torch.nn.MaxPool2d(2, 2)\n",
    "        self.conv2 = torch.nn.Conv2d(6, 16, 5)\n",
    "        self.fc1 = torch.nn.Linear(16 * 5 * 5, 120)\n",
    "        self.fc2 = torch.nn.Linear(120, 84)\n",
    "        self.fc3 = torch.nn.Linear(84, 3)\n",
    "\n",
    "    def forward(self, x):\n",
    "        x = self.pool(F.relu(self.conv1(x)))\n",
    "        x = self.pool(F.relu(self.conv2(x)))\n",
    "        x = x.view(-1, 16 * 5 * 5)\n",
    "        x = F.relu(self.fc1(x))\n",
    "        x = F.relu(self.fc2(x))\n",
    "        x = self.fc3(x)\n",
    "        return x"
   ]
  },
  {
   "cell_type": "markdown",
   "metadata": {},
   "source": [
    "## Cria a rede"
   ]
  },
  {
   "cell_type": "code",
   "execution_count": 11,
   "metadata": {
    "scrolled": true
   },
   "outputs": [
    {
     "name": "stdout",
     "output_type": "stream",
     "text": [
      "Net1 (\n",
      "  (conv1): Conv2d(3, 32, kernel_size=(3, 3), stride=(1, 1))\n",
      "  (conv2): Conv2d(32, 64, kernel_size=(3, 3), stride=(1, 1))\n",
      "  (pool1): MaxPool2d (size=(2, 2), stride=(2, 2), dilation=(1, 1))\n",
      "  (drop1): Dropout (p = 0.25)\n",
      "  (conv3): Conv2d(64, 48, kernel_size=(3, 3), stride=(1, 1))\n",
      "  (pool2): MaxPool2d (size=(2, 2), stride=(2, 2), dilation=(1, 1))\n",
      "  (drop2): Dropout (p = 0.25)\n",
      "  (dense1): Linear (1728 -> 128)\n",
      "  (drop3): Dropout (p = 0.75)\n",
      "  (dense2): Linear (128 -> 3)\n",
      ")\n"
     ]
    }
   ],
   "source": [
    "net = Net1()\n",
    "print(net)"
   ]
  },
  {
   "cell_type": "code",
   "execution_count": 12,
   "metadata": {
    "collapsed": true
   },
   "outputs": [],
   "source": [
    "def prediction(loader, model, loss_fn):\n",
    "    correct = 0\n",
    "    total = 0\n",
    "    for data in loader:\n",
    "        images, labels = data\n",
    "        \n",
    "        # forward pass\n",
    "        outputs = model(Variable(images))\n",
    "        \n",
    "        # cálculo da acurácia\n",
    "        _, predicted = torch.max(outputs.data, 1)\n",
    "        total += labels.size(0)\n",
    "        correct += (predicted == labels).sum()\n",
    "        \n",
    "        # loss\n",
    "        loss = loss_fn(outputs, Variable(labels))\n",
    "        \n",
    "    return ((100 * correct / total), loss.data[0])"
   ]
  },
  {
   "cell_type": "markdown",
   "metadata": {},
   "source": [
    "## Treina a rede"
   ]
  },
  {
   "cell_type": "code",
   "execution_count": 13,
   "metadata": {},
   "outputs": [
    {
     "name": "stdout",
     "output_type": "stream",
     "text": [
      "Epoch:  0 - 9.0 s \t train loss:  1.08408 \t val loss:  1.1035 \t train acc:  35.2648 \t val acc:  34.93671\n",
      "Epoch:  1 - 9.0 s \t train loss:  0.95012 \t val loss:  1.05664 \t train acc:  43.05296 \t val acc:  36.4557\n",
      "Epoch:  2 - 8.0 s \t train loss:  1.16871 \t val loss:  1.06954 \t train acc:  39.00312 \t val acc:  46.32911\n",
      "Epoch:  3 - 10.0 s \t train loss:  0.43964 \t val loss:  1.0826 \t train acc:  51.40187 \t val acc:  48.10127\n",
      "Epoch:  4 - 10.0 s \t train loss:  1.09081 \t val loss:  1.04202 \t train acc:  52.33645 \t val acc:  50.37975\n",
      "Epoch:  5 - 11.0 s \t train loss:  0.76278 \t val loss:  1.09794 \t train acc:  54.51713 \t val acc:  55.94937\n",
      "Epoch:  6 - 9.0 s \t train loss:  0.46091 \t val loss:  0.96845 \t train acc:  57.6324 \t val acc:  52.40506\n",
      "Epoch:  7 - 11.0 s \t train loss:  0.97858 \t val loss:  0.90614 \t train acc:  59.75078 \t val acc:  56.20253\n",
      "Epoch:  8 - 10.0 s \t train loss:  0.52505 \t val loss:  1.0351 \t train acc:  60.37383 \t val acc:  52.91139\n",
      "Epoch:  9 - 10.0 s \t train loss:  1.007 \t val loss:  0.92206 \t train acc:  59.12773 \t val acc:  54.17722\n",
      "Epoch:  10 - 10.0 s \t train loss:  0.89881 \t val loss:  0.8772 \t train acc:  57.81931 \t val acc:  56.70886\n",
      "Epoch:  11 - 11.0 s \t train loss:  0.73847 \t val loss:  0.99114 \t train acc:  60.56075 \t val acc:  55.94937\n",
      "Epoch:  12 - 10.0 s \t train loss:  0.59417 \t val loss:  0.98998 \t train acc:  62.3676 \t val acc:  56.70886\n",
      "Epoch:  13 - 9.0 s \t train loss:  1.08108 \t val loss:  0.9568 \t train acc:  63.42679 \t val acc:  55.44304\n",
      "Epoch:  14 - 12.0 s \t train loss:  0.72083 \t val loss:  0.88818 \t train acc:  63.92523 \t val acc:  58.22785\n",
      "Epoch:  15 - 11.0 s \t train loss:  0.67826 \t val loss:  0.83397 \t train acc:  65.23364 \t val acc:  60.25316\n",
      "Epoch:  16 - 9.0 s \t train loss:  0.47144 \t val loss:  0.86208 \t train acc:  67.91277 \t val acc:  62.27848\n",
      "Epoch:  17 - 9.0 s \t train loss:  0.7405 \t val loss:  0.83221 \t train acc:  69.34579 \t val acc:  60.75949\n",
      "Epoch:  18 - 9.0 s \t train loss:  0.86004 \t val loss:  1.08566 \t train acc:  70.28037 \t val acc:  61.51899\n",
      "Epoch:  19 - 10.0 s \t train loss:  0.64397 \t val loss:  0.69235 \t train acc:  69.03427 \t val acc:  60.75949\n",
      "Epoch:  20 - 10.0 s \t train loss:  0.36746 \t val loss:  0.92334 \t train acc:  69.59502 \t val acc:  60.25316\n",
      "Epoch:  21 - 9.0 s \t train loss:  0.66891 \t val loss:  0.93639 \t train acc:  71.15265 \t val acc:  60.75949\n",
      "Epoch:  22 - 12.0 s \t train loss:  0.97341 \t val loss:  0.96655 \t train acc:  73.33333 \t val acc:  60.50633\n",
      "Epoch:  23 - 10.0 s \t train loss:  0.86791 \t val loss:  0.87681 \t train acc:  72.39875 \t val acc:  61.26582\n",
      "Epoch:  24 - 10.0 s \t train loss:  0.28871 \t val loss:  1.14425 \t train acc:  72.77259 \t val acc:  60.25316\n",
      "Epoch:  25 - 10.0 s \t train loss:  0.49594 \t val loss:  0.90051 \t train acc:  76.07477 \t val acc:  61.26582\n",
      "Epoch:  26 - 10.0 s \t train loss:  0.72075 \t val loss:  1.14858 \t train acc:  73.64486 \t val acc:  58.48101\n",
      "Epoch:  27 - 9.0 s \t train loss:  1.58868 \t val loss:  1.05662 \t train acc:  75.45171 \t val acc:  61.51899\n",
      "Early stopping as accuracy did not improve on last 10 epochs!\n",
      "Trainning completed!\n"
     ]
    }
   ],
   "source": [
    "import copy\n",
    "\n",
    "epochs = 100 \n",
    "last_epoch = epochs - 1\n",
    "patience = 10\n",
    "patience_count = 0\n",
    "best_model = []\n",
    "best_val_acc = 0\n",
    "loss_fn = torch.nn.CrossEntropyLoss()\n",
    "optimizer = torch.optim.Adam(net.parameters())\n",
    "\n",
    "# histórico de acurácia e perda\n",
    "train_loss = np.empty(epochs)\n",
    "val_loss = np.empty(epochs)\n",
    "train_acc = np.empty(epochs)\n",
    "val_acc = np.empty(epochs)\n",
    "    \n",
    "for t in range(epochs):\n",
    "    start_time = time()\n",
    "    for i, data in enumerate(train_loader, 0):\n",
    "        # pega entradas\n",
    "        inputs, labels = data\n",
    "        inputs, labels = Variable(inputs), Variable(labels)\n",
    "\n",
    "        # forward pass\n",
    "        predict = net(inputs)\n",
    "\n",
    "        # loss\n",
    "        loss = loss_fn(predict, labels)\n",
    "\n",
    "        # zera gradiente\n",
    "        optimizer.zero_grad()\n",
    "            \n",
    "        # calcula novos gradientes\n",
    "        loss.backward()\n",
    "\n",
    "        # atualiza pesos\n",
    "        optimizer.step()\n",
    "\n",
    "    elapsed_time = time() - start_time\n",
    "    # acurácia e perda o conjunto de treinamento\n",
    "    train_acc[t], train_loss[t] = prediction(train_loader, net, loss_fn)\n",
    "    # acurácia e perda no conjunto de validação\n",
    "    val_acc[t], val_loss[t] = prediction(validate_loader, net, loss_fn)\n",
    "    # imprime dados do treinamento\n",
    "    print('Epoch:', t, '-',round(elapsed_time,0),'s',\n",
    "          '\\t train loss:', round(train_loss[t],5), \n",
    "          '\\t val loss:', round(val_loss[t],5),\n",
    "          '\\t train acc:', round(train_acc[t], 5),  \n",
    "          '\\t val acc:', round(val_acc[t], 5))\n",
    "\n",
    "    # verifica melhora do modelo\n",
    "    if(best_val_acc < val_acc[t]):\n",
    "        patience_count = 0\n",
    "        best_val_acc = val_acc[t]\n",
    "        best_model = copy.deepcopy(net)\n",
    "\n",
    "    # early stop\n",
    "    if(patience_count > patience):\n",
    "        print('Early stopping as accuracy did not improve on last', patience, 'epochs!')\n",
    "        last_epoch = t\n",
    "        break;\n",
    "\n",
    "    patience_count += 1\n",
    "\n",
    "# recupera melhor modelo\n",
    "net = best_model\n",
    "print('Trainning completed!')"
   ]
  },
  {
   "cell_type": "markdown",
   "metadata": {},
   "source": [
    "## Avaliação do erro"
   ]
  },
  {
   "cell_type": "code",
   "execution_count": 14,
   "metadata": {},
   "outputs": [
    {
     "data": {
      "image/png": "[encoded data removed]",
      "text/plain": [
       "<matplotlib.figure.Figure at 0x7f9cb94352b0>"
      ]
     },
     "metadata": {},
     "output_type": "display_data"
    }
   ],
   "source": [
    "plt.title('Train - Loss')\n",
    "plt.xlabel('epochs')\n",
    "plt.ylabel('loss')\n",
    "plt.plot(train_loss[:last_epoch], label='Train')\n",
    "plt.plot(val_loss[:last_epoch], label='Validation')\n",
    "plt.legend()\n",
    "plt.show()"
   ]
  },
  {
   "cell_type": "markdown",
   "metadata": {},
   "source": [
    "## Avaliação da acurácia"
   ]
  },
  {
   "cell_type": "code",
   "execution_count": 15,
   "metadata": {},
   "outputs": [
    {
     "data": {
      "image/png": "[encoded data removed]",
      "text/plain": [
       "<matplotlib.figure.Figure at 0x7f9cb8e2c3c8>"
      ]
     },
     "metadata": {},
     "output_type": "display_data"
    }
   ],
   "source": [
    "plt.title('Accuracy')\n",
    "plt.xlabel('epochs')\n",
    "plt.ylabel('acc')\n",
    "plt.plot(train_acc[:last_epoch], label='Train')\n",
    "plt.plot(val_acc[:last_epoch], label='Validation')\n",
    "plt.legend()\n",
    "plt.show()"
   ]
  },
  {
   "cell_type": "markdown",
   "metadata": {
    "collapsed": true
   },
   "source": [
    "## Acurácia da rede"
   ]
  },
  {
   "cell_type": "code",
   "execution_count": 33,
   "metadata": {},
   "outputs": [
    {
     "name": "stdout",
     "output_type": "stream",
     "text": [
      "Accuracy: 60.4 \t Loss: 0.8831\n"
     ]
    }
   ],
   "source": [
    "test_acc, test_loss = prediction(test_loader, net, loss_fn)\n",
    "print('Accuracy:', round(test_acc, 5), \n",
    "      '\\t Loss:', round(test_loss, 5))"
   ]
  },
  {
   "cell_type": "code",
   "execution_count": null,
   "metadata": {
    "collapsed": true
   },
   "outputs": [],
   "source": []
  }
 ],
 "metadata": {
  "kernelspec": {
   "display_name": "Python 3",
   "language": "python",
   "name": "python3"
  },
  "language_info": {
   "codemirror_mode": {
    "name": "ipython",
    "version": 3
   },
   "file_extension": ".py",
   "mimetype": "text/x-python",
   "name": "python",
   "nbconvert_exporter": "python",
   "pygments_lexer": "ipython3",
   "version": "3.6.0"
  }
 },
 "nbformat": 4,
 "nbformat_minor": 2
}
