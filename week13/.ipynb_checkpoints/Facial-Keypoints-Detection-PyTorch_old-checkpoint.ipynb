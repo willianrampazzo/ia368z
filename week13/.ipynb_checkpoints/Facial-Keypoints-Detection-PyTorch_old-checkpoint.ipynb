{
 "cells": [
  {
   "cell_type": "markdown",
   "metadata": {},
   "source": [
    "# Facial Keyponts Detection\n",
    "\n",
    "https://www.kaggle.com/c/facial-keypoints-detection"
   ]
  },
  {
   "cell_type": "code",
   "execution_count": 1,
   "metadata": {
    "collapsed": true,
    "scrolled": true
   },
   "outputs": [],
   "source": [
    "%matplotlib inline\n",
    "import matplotlib.pyplot as plt\n",
    "import numpy as np\n",
    "from pandas.io.parsers import read_csv\n",
    "from random import randrange\n",
    "from time import time\n",
    "\n",
    "import torch\n",
    "import torch.nn.functional as F\n",
    "from torch.autograd import Variable\n",
    "from torch.utils.data import Dataset, DataLoader\n",
    "from torchvision import transforms\n",
    "\n",
    "import sys\n",
    "sys.path.append('../')\n",
    "from pycoach.coach import Coach"
   ]
  },
  {
   "cell_type": "code",
   "execution_count": 2,
   "metadata": {},
   "outputs": [
    {
     "name": "stdout",
     "output_type": "stream",
     "text": [
      "Usando GPU: False\n"
     ]
    }
   ],
   "source": [
    "# verifica se a GPU esta disponivel\n",
    "use_gpu = torch.cuda.is_available()\n",
    "print(\"Usando GPU:\", use_gpu)"
   ]
  },
  {
   "cell_type": "markdown",
   "metadata": {},
   "source": [
    "## Carregando os dados"
   ]
  },
  {
   "cell_type": "code",
   "execution_count": null,
   "metadata": {
    "collapsed": true
   },
   "outputs": [],
   "source": [
    "def load(file, test=False, cols=None):\n",
    "    '''\n",
    "    Carrega o dataset.\n",
    "    \n",
    "    file: arquivo a ser carregado\n",
    "    test: indica se o arquivo contém dados de teste ou treino\n",
    "    cols: carrega algumas colunas específicas\n",
    "    '''\n",
    "\n",
    "    # carrega os dados como dataframe do pandas\n",
    "    df = read_csv(file)\n",
    "\n",
    "    # converte os dados para array numpy\n",
    "    df['Image'] = df['Image'].apply(lambda im: np.fromstring(im, sep = ' '))\n",
    "\n",
    "    # seleciona somente algumas colunas\n",
    "    if cols:\n",
    "        df = df[list(cols) + ['Image']]\n",
    "\n",
    "    # descarta linhas com dados faltando\n",
    "    df = df.dropna()\n",
    "\n",
    "    if not test:  # only FTRAIN has target columns\n",
    "        y = df[df.columns[:-1]].values\n",
    "    else:\n",
    "        y = np.zeros((df.shape[0],))\n",
    "\n",
    "    return (df, y)"
   ]
  },
  {
   "cell_type": "code",
   "execution_count": 3,
   "metadata": {},
   "outputs": [],
   "source": [
    "class FacialKeypointsDataset(Dataset):\n",
    "    \"\"\"Facial Keypoints dataset.\"\"\"\n",
    "\n",
    "    def __init__(self, csv_file, transform=None):\n",
    "        \"\"\"\n",
    "        csv_file (string): caminho para o csv com as anotações e imagens.\n",
    "        transform (callable, optional): Transformação opcional para aplicar na amostra\n",
    "        \"\"\"\n",
    "        # cria dataframe descartando amostras com dados faltando\n",
    "        self.facial_keypoints = read_csv(csv_file)\n",
    "        # descarta linhas com dados faltando\n",
    "        self.facial_keypoints = self.facial_keypoints.dropna()\n",
    "        # recria os índices\n",
    "        self.facial_keypoints = self.facial_keypoints.reset_index(drop=True)\n",
    "        self.transform = transform\n",
    "\n",
    "    def __len__(self):\n",
    "        return len(self.facial_keypoints)\n",
    "\n",
    "    def __getitem__(self, idx):\n",
    "        # carrega imagem\n",
    "        image = self.facial_keypoints['Image'][idx]\n",
    "        # converte string para imagem\n",
    "        image = np.fromstring(image, sep=' ')\n",
    "        # carrega keypoints como matriz\n",
    "        keypoints = self.facial_keypoints.iloc[idx, :-1].as_matrix().astype('float')\n",
    "        # dicionário com a imagen e os keypoints\n",
    "        sample = {'image': image, 'keypoints': keypoints}\n",
    "\n",
    "        # aplica transformação\n",
    "        if self.transform:\n",
    "            sample = self.transform(sample)\n",
    "\n",
    "        return sample"
   ]
  },
  {
   "cell_type": "code",
   "execution_count": 4,
   "metadata": {
    "collapsed": true
   },
   "outputs": [],
   "source": [
    "train_file = 'data/training.csv'\n",
    "test_file = 'data/test.csv'"
   ]
  },
  {
   "cell_type": "code",
   "execution_count": null,
   "metadata": {
    "collapsed": true
   },
   "outputs": [],
   "source": [
    "X, y = load(train_file)"
   ]
  },
  {
   "cell_type": "code",
   "execution_count": null,
   "metadata": {},
   "outputs": [],
   "source": [
    "X['Image'].values"
   ]
  },
  {
   "cell_type": "code",
   "execution_count": null,
   "metadata": {
    "collapsed": true,
    "scrolled": true
   },
   "outputs": [],
   "source": [
    "X_test, y_test = load(test_file, test=True)"
   ]
  },
  {
   "cell_type": "markdown",
   "metadata": {},
   "source": [
    "## Classes de transformações dos dados"
   ]
  },
  {
   "cell_type": "code",
   "execution_count": 5,
   "metadata": {
    "collapsed": true
   },
   "outputs": [],
   "source": [
    "class ToTensor(object):\n",
    "    \"\"\"\n",
    "    Converte amostra de ndarrays para Tensors.\n",
    "    \"\"\"\n",
    "    def __call__(self, sample):\n",
    "        image, keypoints = sample['image'], sample['keypoints']\n",
    "\n",
    "        # imagem numpy: H x W x C\n",
    "        # imagem torch: C X H X W\n",
    "        image = image.transpose((2, 0, 1))\n",
    "        return {'image': torch.from_numpy(image),\n",
    "                'keypoints': torch.from_numpy(keypoints)}"
   ]
  },
  {
   "cell_type": "code",
   "execution_count": 6,
   "metadata": {
    "collapsed": true
   },
   "outputs": [],
   "source": [
    "class Normalize(object):\n",
    "    \"\"\"\n",
    "    Normaliza amostra\n",
    "    \"\"\"\n",
    "    def __call__(self, sample, image_size=96, channels=1):\n",
    "        \"\"\"\n",
    "        sample: amostra para normalização\n",
    "        image_size: tamanho da imagem\n",
    "        channels: canais para conversão\n",
    "        \"\"\"\n",
    "        image, keypoints = sample['image'], sample['keypoints']\n",
    "        image = np.vstack(image) / 255.\n",
    "        image = image.astype(np.float32)\n",
    "        image = image.reshape(image_size, image_size, channels)\n",
    "\n",
    "        # aplica transformação somente no conjunto de treino\n",
    "        if keypoints.shape[0] > 1:\n",
    "            keypoints = (keypoints - 48) / 48  # coloca os dados entre [-1, 1]\n",
    "            keypoints = keypoints.astype(np.float32)\n",
    "\n",
    "        return {'image': image, 'keypoints': keypoints}"
   ]
  },
  {
   "cell_type": "code",
   "execution_count": 72,
   "metadata": {
    "collapsed": true
   },
   "outputs": [],
   "source": [
    "class Flip(object):\n",
    "    \"\"\"\n",
    "    Gira amostra.\n",
    "    \"\"\"\n",
    "    def __init__(self, chance=0.5):\n",
    "        self.flip_indices = [\n",
    "            (0, 2), (1, 3),\n",
    "            (4, 8), (5, 9), (6, 10), (7, 11),\n",
    "            (12, 16), (13, 17), (14, 18), (15, 19),\n",
    "            (22, 24), (23, 25),\n",
    "        ]\n",
    "        self.chance = chance\n",
    "\n",
    "    def __call__(self, sample):\n",
    "        \"\"\"\n",
    "        sample: amostra para girar\n",
    "        chance: chance da imagem sofrer transformação\n",
    "        \"\"\"\n",
    "        image, keypoints = sample['image'], sample['keypoints']\n",
    "        if np.random.random() < self.chance:\n",
    "            # gira a imagem\n",
    "            image = image[:, ::-1, :]\n",
    "            # gira os keypoints horizontais\n",
    "            keypoints[::2] = keypoints[::2] * -1\n",
    "            # ajusta colunas\n",
    "            for a, b in self.flip_indices:\n",
    "                keypoints[a], keypoints[b] = (keypoints[b], keypoints[a])\n",
    "            \n",
    "        return {'image': image, 'keypoints': keypoints}"
   ]
  },
  {
   "cell_type": "code",
   "execution_count": null,
   "metadata": {
    "collapsed": true
   },
   "outputs": [],
   "source": [
    "def normalize(X, y=None, image_size=96, channels=1):\n",
    "    '''\n",
    "    Normaliza os dados\n",
    "    \n",
    "    X: imagens para normalização\n",
    "    y: labels para normalização\n",
    "    image_size: tamanho da imagem\n",
    "    channels: canais para conversão\n",
    "    '''\n",
    "    \n",
    "    X = np.vstack(X['Image'].values) / 255.  # scale pixel values to [0, 1]\n",
    "    X = X.astype(np.float32)\n",
    "    X = X.reshape(-1, channels, image_size, image_size)\n",
    "\n",
    "    if y is not None:\n",
    "        y = (y - 48) / 48  # scale target coordinates to [-1, 1]\n",
    "        y = y.astype(np.float32)\n",
    "        \n",
    "    return (X, y)"
   ]
  },
  {
   "cell_type": "code",
   "execution_count": null,
   "metadata": {},
   "outputs": [],
   "source": [
    "channels = 1\n",
    "image_size = 96\n",
    "\n",
    "X, y = normalize(X, y, image_size, channels)\n",
    "X_test, _ = normalize(X_test, image_size=image_size, channels=channels)\n",
    "\n",
    "print(X.shape)\n",
    "print(y.shape)\n",
    "print(X_test.shape)"
   ]
  },
  {
   "cell_type": "code",
   "execution_count": 87,
   "metadata": {},
   "outputs": [],
   "source": [
    "facial_dataset = FacialKeypointsDataset(train_file, \n",
    "                                       transform=transforms.Compose([\n",
    "                                           Normalize(),\n",
    "                                           Flip(0.7),\n",
    "                                           #ToTensor(),\n",
    "                                       ]))"
   ]
  },
  {
   "cell_type": "markdown",
   "metadata": {},
   "source": [
    "## Plotando alguns exemplos"
   ]
  },
  {
   "cell_type": "code",
   "execution_count": 90,
   "metadata": {
    "collapsed": true
   },
   "outputs": [],
   "source": [
    "def plot_image(x, y):\n",
    "    '''\n",
    "    Plota uma imagem com os keypoints\n",
    "\n",
    "    x: imagem\n",
    "    y: keypoints\n",
    "    '''\n",
    "    img = x.reshape(96, 96)\n",
    "    plt.imshow(img, cmap='gray')\n",
    "    plt.scatter(y[0::2] * 48 + 48, y[1::2] * 48 + 48, c='cyan', marker='o', s=10)"
   ]
  },
  {
   "cell_type": "code",
   "execution_count": 91,
   "metadata": {},
   "outputs": [
    {
     "data": {
      "image/png": "[encoded data removed]",
      "text/plain": [
       "<matplotlib.figure.Figure at 0x7f5ff80c12b0>"
      ]
     },
     "metadata": {},
     "output_type": "display_data"
    }
   ],
   "source": [
    "fig = plt.figure(figsize=(20,7))\n",
    "\n",
    "for i in range(4):\n",
    "    img = randrange(0, len(facial_dataset))\n",
    "    sample = facial_dataset[img]\n",
    "\n",
    "    ax = plt.subplot(1, 4, i + 1)\n",
    "    plt.tight_layout()\n",
    "    ax.set_title('Amostra #{}'.format(img))\n",
    "    ax.axis('off')\n",
    "    plot_image(sample['image'], sample['keypoints'])\n",
    "\n",
    "plt.show()"
   ]
  },
  {
   "cell_type": "code",
   "execution_count": null,
   "metadata": {
    "collapsed": true
   },
   "outputs": [],
   "source": [
    "def plot_image(x, y, ax):\n",
    "    '''\n",
    "    Plota uma imagem com os keypoints\n",
    "\n",
    "    x: imagem\n",
    "    y: keypoints\n",
    "    ax: matplotlib axis\n",
    "    '''\n",
    "    img = x.reshape(96, 96)\n",
    "    ax.imshow(img, cmap='gray')\n",
    "    ax.scatter(y[0::2] * 48 + 48, y[1::2] * 48 + 48, c='cyan', marker='o', s=10)"
   ]
  },
  {
   "cell_type": "code",
   "execution_count": null,
   "metadata": {},
   "outputs": [],
   "source": [
    "fig = plt.figure(figsize=(20,20))\n",
    "fig.subplots_adjust(left=0, right=1, bottom=0, top=1, hspace=0.05, wspace=0.05)\n",
    "for i in range(9):\n",
    "    img = randrange(0, X.shape[0])\n",
    "    ax = fig.add_subplot(3, 3, i + 1, xticks=[], yticks=[])\n",
    "    plot_image(X[img], y[img], ax)"
   ]
  },
  {
   "cell_type": "code",
   "execution_count": 92,
   "metadata": {
    "collapsed": true
   },
   "outputs": [],
   "source": [
    "del facial_dataset\n",
    "\n",
    "facial_dataset_train = FacialKeypointsDataset(train_file, \n",
    "                                       transform=transforms.Compose([\n",
    "                                           Normalize(),\n",
    "                                           Flip(1),\n",
    "                                           ToTensor(),\n",
    "                                       ]))\n",
    "\n",
    "facial_dataset_validate = FacialKeypointsDataset(train_file, \n",
    "                                       transform=transforms.Compose([\n",
    "                                           Normalize(),\n",
    "                                           ToTensor(),\n",
    "                                       ]))"
   ]
  },
  {
   "cell_type": "markdown",
   "metadata": {},
   "source": [
    "## Divisão dos dados em treino e validação"
   ]
  },
  {
   "cell_type": "code",
   "execution_count": null,
   "metadata": {},
   "outputs": [],
   "source": [
    "# numero de amostras\n",
    "nb_data = X.shape[0]\n",
    "\n",
    "# semente fixa para dar reproducibilidade\n",
    "seed = 13\n",
    "np.random.seed(seed)\n",
    "\n",
    "msk = np.random.rand(nb_data) < 0.80\n",
    "X_train = X[msk]\n",
    "X_validate = X[~msk]\n",
    "y_train = y[msk]\n",
    "y_validate = y[~msk]\n",
    "\n",
    "print(X_train.shape)\n",
    "print(X_validate.shape)\n",
    "print(y_train.shape)\n",
    "print(y_validate.shape)"
   ]
  },
  {
   "cell_type": "markdown",
   "metadata": {},
   "source": [
    "## Cria DataLoader"
   ]
  },
  {
   "cell_type": "code",
   "execution_count": 8,
   "metadata": {
    "collapsed": true
   },
   "outputs": [],
   "source": [
    "train_loader = torch.utils.data.DataLoader(facial_dataset_train,\n",
    "                                          batch_size=10,\n",
    "                                          shuffle=True,\n",
    "                                          num_workers=2)\n",
    "\n",
    "validate_loader = torch.utils.data.DataLoader(facial_dataset_validate,\n",
    "                                          batch_size=10,\n",
    "                                          shuffle=False,\n",
    "                                          num_workers=2)\n",
    "\n",
    "#test = torch.utils.data.TensorDataset(X_test, y_test)\n",
    "\n",
    "#test_loader = torch.utils.data.DataLoader(test,\n",
    "#                                         batch_size=10,\n",
    "#                                         shuffle=False,\n",
    "#                                         num_workers=2)"
   ]
  },
  {
   "cell_type": "code",
   "execution_count": null,
   "metadata": {
    "collapsed": true
   },
   "outputs": [],
   "source": [
    "X_train = torch.from_numpy(X_train).type(torch.FloatTensor)\n",
    "y_train = torch.from_numpy(y_train).type(torch.FloatTensor)\n",
    "\n",
    "X_validate = torch.from_numpy(X_validate).type(torch.FloatTensor)\n",
    "y_validate = torch.from_numpy(y_validate).type(torch.FloatTensor)\n",
    "\n",
    "X_test = torch.from_numpy(X_test).type(torch.FloatTensor)\n",
    "y_test = torch.from_numpy(y_test).type(torch.FloatTensor)\n",
    "\n",
    "train = torch.utils.data.TensorDataset(X_train, y_train)\n",
    "\n",
    "train_loader = torch.utils.data.DataLoader(train,\n",
    "                                          batch_size=10,\n",
    "                                          shuffle=True,\n",
    "                                          num_workers=2)\n",
    "\n",
    "validate = torch.utils.data.TensorDataset(X_validate, y_validate)\n",
    "\n",
    "validate_loader = torch.utils.data.DataLoader(validate,\n",
    "                                          batch_size=10,\n",
    "                                          shuffle=True,\n",
    "                                          num_workers=2)\n",
    "\n",
    "test = torch.utils.data.TensorDataset(X_test, y_test)\n",
    "\n",
    "test_loader = torch.utils.data.DataLoader(test,\n",
    "                                         batch_size=10,\n",
    "                                         shuffle=False,\n",
    "                                         num_workers=2)"
   ]
  },
  {
   "cell_type": "markdown",
   "metadata": {},
   "source": [
    "## Construindo o modelo"
   ]
  },
  {
   "cell_type": "code",
   "execution_count": 9,
   "metadata": {
    "collapsed": true
   },
   "outputs": [],
   "source": [
    "class Net(torch.nn.Module):\n",
    "    def __init__(self):\n",
    "        super(Net, self).__init__()\n",
    "        \n",
    "        self.conv1 = torch.nn.Conv2d(1, 32, 3)\n",
    "        self.conv2 = torch.nn.Conv2d(32, 64, 3)\n",
    "        self.pool1 = torch.nn.MaxPool2d(2, 2)\n",
    "        self.drop1 = torch.nn.Dropout(0.25)\n",
    "        \n",
    "        self.conv3 = torch.nn.Conv2d(64, 48, 3)\n",
    "        self.pool2 = torch.nn.MaxPool2d(2, 2)\n",
    "        self.drop2 = torch.nn.Dropout(0.25)\n",
    "        \n",
    "        self.dense1 = torch.nn.Linear(48 * 22 * 22, 512)\n",
    "        self.drop3 = torch.nn.Dropout(0.2)\n",
    "        self.dense2 = torch.nn.Linear(512, 30)\n",
    "\n",
    "    def forward(self, x):\n",
    "        x = F.relu(self.conv1(x))\n",
    "        x = F.relu(self.conv2(x))\n",
    "        x = self.pool1(x)\n",
    "        x = self.drop1(x)\n",
    "        \n",
    "        x = F.relu(self.conv3(x))\n",
    "        x = self.pool2(x)\n",
    "        x = self.drop2(x)\n",
    "        \n",
    "        x = x.view(-1, 48 * 22 * 22)\n",
    "        x = F.relu(self.dense1(x))\n",
    "        x = self.drop3(x)\n",
    "        x = self.dense2(x)\n",
    "        return x"
   ]
  },
  {
   "cell_type": "code",
   "execution_count": 10,
   "metadata": {},
   "outputs": [
    {
     "name": "stdout",
     "output_type": "stream",
     "text": [
      "Net (\n",
      "  (conv1): Conv2d(1, 32, kernel_size=(3, 3), stride=(1, 1))\n",
      "  (conv2): Conv2d(32, 64, kernel_size=(3, 3), stride=(1, 1))\n",
      "  (pool1): MaxPool2d (size=(2, 2), stride=(2, 2), dilation=(1, 1))\n",
      "  (drop1): Dropout (p = 0.25)\n",
      "  (conv3): Conv2d(64, 48, kernel_size=(3, 3), stride=(1, 1))\n",
      "  (pool2): MaxPool2d (size=(2, 2), stride=(2, 2), dilation=(1, 1))\n",
      "  (drop2): Dropout (p = 0.25)\n",
      "  (dense1): Linear (23232 -> 512)\n",
      "  (drop3): Dropout (p = 0.2)\n",
      "  (dense2): Linear (512 -> 30)\n",
      ")\n"
     ]
    }
   ],
   "source": [
    "net = Net()\n",
    "\n",
    "if use_gpu:\n",
    "    net.cuda()\n",
    "\n",
    "print(net)"
   ]
  },
  {
   "cell_type": "markdown",
   "metadata": {},
   "source": [
    "## Compilando e treinando"
   ]
  },
  {
   "cell_type": "code",
   "execution_count": 11,
   "metadata": {},
   "outputs": [],
   "source": [
    "loaders = {'train': train_loader, 'validate': validate_loader}\n",
    "optimizer = torch.optim.Adam(net.parameters())\n",
    "loss_fn = torch.nn.MSELoss()\n",
    "epochs = 3"
   ]
  },
  {
   "cell_type": "code",
   "execution_count": 12,
   "metadata": {
    "collapsed": true
   },
   "outputs": [],
   "source": [
    "coach = Coach(net, loaders, optimizer, loss_fn)"
   ]
  },
  {
   "cell_type": "code",
   "execution_count": 13,
   "metadata": {
    "scrolled": true
   },
   "outputs": [
    {
     "name": "stdout",
     "output_type": "stream",
     "text": [
      "Epoch: 0 - 174.0 s \t train loss: 0.01217 \t val loss: 0.0243\n",
      "Loss improved, saving model from epoch 0\n",
      "Epoch: 1 - 178.0 s \t train loss: 0.00525 \t val loss: 0.01022\n",
      "Loss improved, saving model from epoch 1\n",
      "Epoch: 2 - 185.0 s \t train loss: 0.00418 \t val loss: 0.00449\n",
      "Loss improved, saving model from epoch 2\n",
      "Training completed!\n"
     ]
    }
   ],
   "source": [
    "coach.train(epochs)"
   ]
  },
  {
   "cell_type": "markdown",
   "metadata": {},
   "source": [
    "## Salva modelo"
   ]
  },
  {
   "cell_type": "code",
   "execution_count": 14,
   "metadata": {
    "collapsed": true
   },
   "outputs": [],
   "source": [
    "coach.save('./net.pytorch')"
   ]
  },
  {
   "cell_type": "markdown",
   "metadata": {},
   "source": [
    "## Visualizando o erro de treinamento e validação"
   ]
  },
  {
   "cell_type": "code",
   "execution_count": null,
   "metadata": {},
   "outputs": [],
   "source": [
    "plt.title('Train - Loss')\n",
    "plt.xlabel('epochs')\n",
    "plt.ylabel('loss')\n",
    "plt.plot(range(epochs), coach.train_loss, '-', label='Train')\n",
    "plt.plot(range(epochs), coach.val_loss, '--', label='Validation')\n",
    "plt.legend()\n",
    "plt.show()"
   ]
  },
  {
   "cell_type": "markdown",
   "metadata": {},
   "source": [
    "## Avaliando a rede no conjunto de testes"
   ]
  },
  {
   "cell_type": "code",
   "execution_count": null,
   "metadata": {
    "collapsed": true
   },
   "outputs": [],
   "source": [
    "coach.load('./net.pytorch')"
   ]
  },
  {
   "cell_type": "code",
   "execution_count": null,
   "metadata": {
    "collapsed": true
   },
   "outputs": [],
   "source": [
    "#y_test = coach.predict(test_loader)\n",
    "y_predicted = coach.predict(test_loader)"
   ]
  },
  {
   "cell_type": "code",
   "execution_count": null,
   "metadata": {},
   "outputs": [],
   "source": [
    "y_predicted.size()"
   ]
  },
  {
   "cell_type": "markdown",
   "metadata": {},
   "source": [
    "## Visualizando algumas previsões"
   ]
  },
  {
   "cell_type": "code",
   "execution_count": null,
   "metadata": {},
   "outputs": [],
   "source": [
    "fig = plt.figure(figsize=(20,20))\n",
    "fig.subplots_adjust(left=0, right=1, bottom=0, top=1, hspace=0.05, wspace=0.05)\n",
    "for i in range(9):\n",
    "    img = randrange(0, X_test.size()[0])\n",
    "    ax = fig.add_subplot(3, 3, i + 1, xticks=[], yticks=[])\n",
    "    plot_image(X_test[img].numpy(), y_predicted[img].numpy(), ax)"
   ]
  },
  {
   "cell_type": "code",
   "execution_count": null,
   "metadata": {
    "collapsed": true
   },
   "outputs": [],
   "source": []
  }
 ],
 "metadata": {
  "kernelspec": {
   "display_name": "Python 3",
   "language": "python",
   "name": "python3"
  },
  "language_info": {
   "codemirror_mode": {
    "name": "ipython",
    "version": 3
   },
   "file_extension": ".py",
   "mimetype": "text/x-python",
   "name": "python",
   "nbconvert_exporter": "python",
   "pygments_lexer": "ipython3",
   "version": "3.6.2"
  }
 },
 "nbformat": 4,
 "nbformat_minor": 2
}
