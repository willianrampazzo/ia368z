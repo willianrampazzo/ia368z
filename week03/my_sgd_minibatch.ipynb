{
 "cells": [
  {
   "cell_type": "markdown",
   "metadata": {
    "deletable": true,
    "editable": true
   },
   "source": [
    "# Implementar o batch gradient descent"
   ]
  },
  {
   "cell_type": "markdown",
   "metadata": {
    "deletable": true,
    "editable": true
   },
   "source": [
    "Desenvolva aqui o seu código para realizar o *batch gradient descent* a partir dos códigos [Gradiente Descendente por Lote](#gdl) (batch) e [Gradiente Descendente Estocástico](#gde), que fazem parte do notebook <a \"href=https://t-adessowiki.fee.unicamp.br/user/lrittner/notebooks/ia368z_2s2017/aluno/week03/Regressao-Linear.ipynb\">Regressao-Linear.ipynb</a>. A ideia é que o tamanho do lote possa assumir qualquer valor entre 1 e o número total de amostras. "
   ]
  },
  {
   "cell_type": "markdown",
   "metadata": {
    "deletable": true,
    "editable": true
   },
   "source": [
    "## Entrega do exercício\n",
    "\n",
    "A entrega do exercício consiste do notebook com o seu código e a [figura salva conforme código abaixo](#figura). A figura deve ser composta por 3 plotagens do erro ao longo das iterações considerando um tam_lote = 1, tam_lote = T e tam_lote = num_amostras. Escolha T de tal forma que num_amostras/T não seja inteiro.\n",
    "\n",
    "**Não altere o nome do notebook, o nome da figura salva, nem as dimensões da figura e o arranjo do subplot, pois estes parâmetros são necessários para facilitar a correção.**"
   ]
  },
  {
   "cell_type": "code",
   "execution_count": 1,
   "metadata": {
    "collapsed": true,
    "deletable": true,
    "editable": true
   },
   "outputs": [],
   "source": [
    "%matplotlib inline\n",
    "import matplotlib.pyplot as plt\n",
    "import numpy as np\n",
    "from sklearn.datasets import load_iris"
   ]
  },
  {
   "cell_type": "markdown",
   "metadata": {
    "deletable": true,
    "editable": true
   },
   "source": [
    "### Carregando dados e normalizando"
   ]
  },
  {
   "cell_type": "code",
   "execution_count": 2,
   "metadata": {
    "collapsed": true,
    "deletable": true,
    "editable": true
   },
   "outputs": [],
   "source": [
    "iris = load_iris()\n",
    "\n",
    "data = iris.data[iris.target==1,::2]  # comprimento das sépalas e pétalas, indices 0 e 2\n",
    "\n",
    "x = data[:,0:1]\n",
    "y = data[:,1:2]\n",
    "\n",
    "x -= x.min()\n",
    "x /= x.max()    # normalização\n",
    "y -= y.min()\n",
    "y /= y.max()"
   ]
  },
  {
   "cell_type": "markdown",
   "metadata": {
    "deletable": true,
    "editable": true
   },
   "source": [
    "### Gradiente Descendente por Mini Lote (mini-batch)"
   ]
  },
  {
   "cell_type": "code",
   "execution_count": 3,
   "metadata": {
    "collapsed": true,
    "deletable": true,
    "editable": true
   },
   "outputs": [],
   "source": [
    "def mini_batch_gradient_descent(X, y, w_init, b, lr, n_epochs):\n",
    "    '''\n",
    "    Perform mini batch gradient descent to learn w\n",
    "    by taking n_epochs times size of mini batch\n",
    "    gradient steps with learning rate lr\n",
    "    Dados rotulados: X.shape:(M, 2) e y.shape:(M,1)\n",
    "    Parâmetro inicial: w_init.shape:(1,2) e b:(int)\n",
    "    '''\n",
    "    \n",
    "    # abordagem inicial, mas custosa computacionalmente:\n",
    "    # concatena a entrada com a saída esperada \n",
    "    # *** ATENÇÃO *** : gera uma nova matriz (copia elementos)\n",
    "    #ALL_random = np.concatenate((X_bias, y), axis=1)\n",
    "    # cria a view dos dados de entrada\n",
    "    #X_bias2 = ALL_random[:, :X_bias.size//len(X_bias)]    \n",
    "    # cria a view da saída esperada\n",
    "    #y2 = ALL_random[:, X_bias.size//len(X_bias)]\n",
    "    \n",
    "    # quantidade de blocos\n",
    "    M = int(y.size/b)\n",
    "    # amostras restantes\n",
    "    tail = y.size%b\n",
    "    # hostórico de pesos\n",
    "    w_history = np.zeros((2,(M*n_epochs)+1))\n",
    "    # peso inicial\n",
    "    wT = w_init.T\n",
    "    # salva peso inicial no histórico\n",
    "    w_history[:,0] = wT[:,0]\n",
    "    \n",
    "    for i in range(n_epochs):\n",
    "        # embaralha os dados antes de uma nova época\n",
    "        # abordagem inicial\n",
    "        #np.random.shuffle(ALL_random)\n",
    "        # pega o estado atual que será usado na \n",
    "        # próxima chamado do shuffle\n",
    "        rng_state = np.random.get_state()\n",
    "        # embaralha X\n",
    "        np.random.shuffle(X)\n",
    "        # seta o estado atual para o mesmo\n",
    "        # usado no shuffle de X\n",
    "        np.random.set_state(rng_state)\n",
    "        # embaralha y\n",
    "        np.random.shuffle(y)\n",
    "        \n",
    "        # inicial épocas\n",
    "        for j in range(M):\n",
    "            # elemento inicial do mini lote\n",
    "            elemento_i = (j*b)\n",
    "            # elemento final +1 do mini lote\n",
    "            elemento_f = (j*b)+b\n",
    "            # view do mini lote em X\n",
    "            X_ = X[elemento_i:elemento_f]\n",
    "            # view do mini lote em Y\n",
    "            y_ = y[elemento_i:elemento_f]\n",
    "            \n",
    "            wT = wT - lr * (2.0 / b) * (X_.T).dot(X_.dot(wT) - y_)\n",
    "            w_history[:,j+(i*M)+1] = wT[:,0]\n",
    "\n",
    "        # caso o número de blocos não seja exato,\n",
    "        # tratamos o último lote separadamente\n",
    "        if (tail > 0):\n",
    "            # view do último mini lote em X\n",
    "            X_ = X[-tail:]\n",
    "            # view do último mini lote em Y\n",
    "            y_ = y[-tail:]\n",
    "\n",
    "            wT = wT - lr * (2.0 / tail) * (X_.T).dot(X_.dot(wT) - y_)\n",
    "            w_history[:,j+(i*M)+1] = wT[:,0]\n",
    "            \n",
    "    return w_history.T"
   ]
  },
  {
   "cell_type": "markdown",
   "metadata": {
    "deletable": true,
    "editable": true
   },
   "source": [
    "### Minimização via gradiente descendente por mini lote"
   ]
  },
  {
   "cell_type": "code",
   "execution_count": 4,
   "metadata": {
    "collapsed": true,
    "deletable": true,
    "editable": true
   },
   "outputs": [],
   "source": [
    "# Parâmetros do gradiente descendente: número de iterações e taxa de aprendizagem\n",
    "iterations = 100\n",
    "lr = 0.1\n",
    "\n",
    "n_samples = y.shape[0]\n",
    "\n",
    "#Montagem da matriz X agora com os elementos 1 na primeira coluna\n",
    "X_bias = np.hstack([np.ones(shape=(n_samples,1)), x])\n",
    "w_init = np.zeros(shape=(1,2))\n",
    "\n",
    "tam_lote = 1\n",
    "w_history_1 = mini_batch_gradient_descent(X_bias, y, w_init, tam_lote, lr, iterations)\n",
    "\n",
    "tam_lote = 9\n",
    "w_history_T = mini_batch_gradient_descent(X_bias, y, w_init, tam_lote, lr, iterations)\n",
    "\n",
    "tam_lote = 50\n",
    "w_history_M = mini_batch_gradient_descent(X_bias, y, w_init, tam_lote, lr, iterations)"
   ]
  },
  {
   "cell_type": "code",
   "execution_count": 5,
   "metadata": {
    "collapsed": true,
    "deletable": true,
    "editable": true
   },
   "outputs": [],
   "source": [
    "def Jview(X_bias, y, w_history, w_opt, plt, ax):\n",
    "\n",
    "    # parâmetros da função\n",
    "    # quantos pesos gerar\n",
    "    all = 100\n",
    "    # valor mínimo do grid\n",
    "    min = -0.45\n",
    "    # valor máximo do grid\n",
    "    max = 1.0\n",
    "    \n",
    "    # Cálculo da matriz bidimensional de parâmetros\n",
    "    X, Y = np.meshgrid(np.linspace(min, max, all), \n",
    "                         np.linspace(min, max, all))\n",
    "    wT = np.c_[X.ravel(), Y.ravel()].T\n",
    "    \n",
    "    # calculo do custo gerando uma matriz (all,all)\n",
    "    #e = X_bias.dot(wT) - y\n",
    "    #J = ((e * e).mean(axis=0)).reshape(all,all)\n",
    "    J = compute_cost(X_bias, y, wT).reshape(all,all)\n",
    "    \n",
    "    # plotagem do espaço de parâmetros\n",
    "    CS = plt.contourf(X, Y, J, 30, cmap=plt.cm.Blues_r)\n",
    "\n",
    "    # plotagem do histórico dos pesos durante o treinamento\n",
    "    w0 = w_history[0:,0]\n",
    "    w1 = w_history[0:,1]\n",
    "    plt.scatter(w0, w1, marker='o', c='r')\n",
    "\n",
    "    # plotagem do da solução analítica\n",
    "    plt.plot(w_opt[0], w_opt[1], 'wx')\n",
    "\n",
    "    #plt.title('Visualização do treinamento de w na função de Custo J')\n",
    "    \n",
    "    #plt.savefig('fig_custo.png')\n",
    "    \n",
    "    #plt.show()"
   ]
  },
  {
   "cell_type": "code",
   "execution_count": 6,
   "metadata": {
    "collapsed": false,
    "deletable": true,
    "editable": true
   },
   "outputs": [],
   "source": [
    "def compute_cost(X_b, y, wT):\n",
    "    '''\n",
    "    Compute cost for linear regression\n",
    "    (X,y): amostras rotuladas X(n_samples,2) e y(n_samples,)\n",
    "    wT: vetor coluna de parâmetros (já transposto)\n",
    "       aceita tanto shape (2,1) Para um caso como (2,n_history) para n_history casos\n",
    "    '''\n",
    "    e = X_b.dot(wT) - y\n",
    "    J = (e * e).mean(axis=0)\n",
    "    return J\n",
    "\n",
    "w_opt = (np.linalg.inv((X_bias.T).dot(X_bias)).dot(X_bias.T)).dot(y)"
   ]
  },
  {
   "cell_type": "markdown",
   "metadata": {
    "deletable": true,
    "editable": true
   },
   "source": [
    "### Gerando a figura para correção automática\n",
    "\n",
    "<a id='figura'></a>"
   ]
  },
  {
   "cell_type": "code",
   "execution_count": 7,
   "metadata": {
    "collapsed": false,
    "deletable": true,
    "editable": true
   },
   "outputs": [
    {
     "data": {
      "image/png": "[encoded data removed]",
      "text/plain": [
       "<matplotlib.figure.Figure at 0x7fb0b090c0b8>"
      ]
     },
     "metadata": {},
     "output_type": "display_data"
    }
   ],
   "source": [
    "fig = plt.figure(figsize=(20,5))\n",
    "plt.suptitle('Visualizacão do erro')\n",
    "\n",
    "ax = fig.add_subplot(131)\n",
    "plt.title(\"Batch size 1\")\n",
    "Jview(X_bias, y, w_history_1, w_opt, plt, ax)\n",
    "#ax.plot(J_history_stochastic)\n",
    "\n",
    "ay = fig.add_subplot(132)\n",
    "plt.title(\"Batch size T\")\n",
    "Jview(X_bias, y, w_history_T, w_opt, plt, ay)\n",
    "#ay.plot(J_history)\n",
    "\n",
    "az = fig.add_subplot(133)\n",
    "plt.title(\"Batch size num_amostras\")\n",
    "Jview(X_bias, y, w_history_M, w_opt, plt, az)\n",
    "#az.plot(J_history)\n",
    "\n",
    "plt.savefig('my_sgd_minibatch.png')"
   ]
  },
  {
   "cell_type": "markdown",
   "metadata": {
    "deletable": true,
    "editable": true
   },
   "source": [
    "### Gradiente Descendente por Lote (*batch*)\n",
    "\n",
    "<a id='gdl'></a>"
   ]
  },
  {
   "cell_type": "code",
   "execution_count": 1,
   "metadata": {
    "collapsed": true,
    "deletable": true,
    "editable": true
   },
   "outputs": [],
   "source": [
    "def batch_gradient_descent(X, y, w_init, lr, n_epochs):\n",
    "    '''\n",
    "    Perform batch gradient descent to learn w\n",
    "    by taking n_epochs gradient steps with learning\n",
    "    rate lr\n",
    "    Dados rotulados: X.shape:(M,2) e y.shape:(M,1)\n",
    "    Parâmetro inicial: w_init.shape:(1,2)\n",
    "    output: w_history:(num_epochs+1,2)\n",
    "    '''\n",
    "    M = y.size\n",
    "    w_history = np.zeros((2,n_epochs+1))\n",
    "    wT = w_init.T\n",
    "    w_history[:,0] = wT[:,0]\n",
    "\n",
    "    for i in range(n_epochs):\n",
    "        wT = wT - lr * (2.0 / M) * (X.T).dot(X.dot(wT) - y)\n",
    "        w_history[:,i+1]=wT[:,0]\n",
    "    return w_history.T"
   ]
  },
  {
   "cell_type": "markdown",
   "metadata": {
    "deletable": true,
    "editable": true
   },
   "source": [
    "### Gradiente Descendente Estocástico\n",
    "\n",
    "<a id='gde'></a>"
   ]
  },
  {
   "cell_type": "code",
   "execution_count": 2,
   "metadata": {
    "collapsed": true,
    "deletable": true,
    "editable": true
   },
   "outputs": [],
   "source": [
    "def stochastic_gradient_descent(X, y, w_init, lr, n_epochs):\n",
    "    '''\n",
    "    Perform stochastic gradient descent to learn w\n",
    "    by taking n_epochs times number of samples \n",
    "    gradient steps with learning rate lr\n",
    "    Dados rotulados: X.shape:(M,2) e y.shape:(M,1)\n",
    "    Parâmetro inicial: w_init.shape:(1,2)\n",
    "    output: w_history:(num_epochs+1,2)\n",
    "    '''\n",
    "    M = y.size\n",
    "    w_history = np.zeros((2,(M*n_epochs)+1))\n",
    "    wT = w_init.T\n",
    "    w_history[:,0] = wT[:,0]\n",
    "\n",
    "    for i in range(n_epochs):\n",
    "        for jj in range(M):\n",
    "            j = np.random.randint(M)\n",
    "            wT = wT - lr * 2.0 * (X[j:j+1,:].T).dot(X[j:j+1,:].dot(wT) - y[j:j+1])\n",
    "            w_history[:,jj+(i*M)+1] = wT[:,0]\n",
    "    return w_history.T"
   ]
  },
  {
   "cell_type": "code",
   "execution_count": null,
   "metadata": {
    "collapsed": true,
    "deletable": true,
    "editable": true
   },
   "outputs": [],
   "source": []
  }
 ],
 "metadata": {
  "kernelspec": {
   "display_name": "Python 3",
   "language": "python",
   "name": "python3"
  },
  "language_info": {
   "codemirror_mode": {
    "name": "ipython",
    "version": 3
   },
   "file_extension": ".py",
   "mimetype": "text/x-python",
   "name": "python",
   "nbconvert_exporter": "python",
   "pygments_lexer": "ipython3",
   "version": "3.6.0"
  }
 },
 "nbformat": 4,
 "nbformat_minor": 2
}
