{
 "cells": [
  {
   "cell_type": "markdown",
   "metadata": {
    "deletable": true,
    "editable": true
   },
   "source": [
    "# Mapa de atributos, 3 classes Iris, caso 2D"
   ]
  },
  {
   "cell_type": "markdown",
   "metadata": {
    "deletable": true,
    "editable": true
   },
   "source": [
    "Desenvolva aqui o seu exercício de classificação supervisionada usando a base de dados Iris. O que queremos principalmente é a visualização das regiões do classificador no espaço de atributos. Você encontrará a figura que deve ser gerada nos dois notebooks: <a \"href=https://t-adessowiki.fee.unicamp.br/user/lrittner/notebooks/ia368z_2s2017/aluno/week03/Regressao-Logistica-matricial.ipynb\">Regressao-Logistica-matricial.ipynb</a> e <a \"href=https://t-adessowiki.fee.unicamp.br/user/lrittner/notebooks/ia368z_2s2017/aluno/week03/Regressao-Logistica-Keras.ipynb\">Regressao-Logistica-Keras.ipynb</a>. Aproveite para se familiarizar com as duas abordagens. \n",
    "\n",
    "Coloque outras coisas que você acha interessante como exercício didático.\n"
   ]
  },
  {
   "cell_type": "markdown",
   "metadata": {
    "deletable": true,
    "editable": true
   },
   "source": [
    "## Entrega do exercício\n",
    "\n",
    "Coloque o seu código aqui neste notebook como entrega do exercício. **Não altere o nome deste notebook**. \n",
    "\n",
    "Depois de rodar o notebook, salve a visualização gerada como *my_mapa_atributos.png*. Use o trecho do [código abaixo](#figura) para gerar a figura do **tamanho adequado** e com o **nome certo**, para permitir a correção automática. "
   ]
  },
  {
   "cell_type": "markdown",
   "metadata": {
    "deletable": true,
    "editable": true
   },
   "source": [
    "## Visualização do mapa de atributos\n",
    "\n",
    "<a id='figura'></a>\n"
   ]
  },
  {
   "cell_type": "code",
   "execution_count": 1,
   "metadata": {
    "collapsed": true,
    "deletable": true,
    "editable": true
   },
   "outputs": [],
   "source": [
    "%matplotlib inline\n",
    "import matplotlib.pyplot as plt\n",
    "import numpy as np\n",
    "from sklearn.datasets import load_iris"
   ]
  },
  {
   "cell_type": "code",
   "execution_count": 2,
   "metadata": {
    "collapsed": true,
    "deletable": true,
    "editable": true
   },
   "outputs": [],
   "source": [
    "def oneHotIt(Y,n_classes):\n",
    "    n_samples = Y.size # número de amostras\n",
    "    i = np.arange(n_samples)\n",
    "    Y_oh = np.zeros(shape=(n_samples,n_classes))\n",
    "    Y_oh[i,Y] = 1\n",
    "    return Y_oh\n",
    "\n",
    "def softmax(Z):\n",
    "    # computes softmax for all samples, normalize among classes (columns)\n",
    "    # input Z: scores; shape: samples rows x classes columns\n",
    "    # output S: same shape of input\n",
    "    EZ = np.exp(Z)\n",
    "    S = EZ / EZ.sum(axis=1,keepdims=True) # normaliza nas classes - colunas\n",
    "    return S\n",
    "\n",
    "def predict(X,WT):\n",
    "    Y_hat_oh = softmax(X.dot(WT))\n",
    "    # escolhe a maior probabilidade entre as classes\n",
    "    Y_hat = np.argmax(Y_hat_oh, axis=1)\n",
    "    return Y_hat"
   ]
  },
  {
   "cell_type": "code",
   "execution_count": 3,
   "metadata": {
    "collapsed": true,
    "deletable": true,
    "editable": true
   },
   "outputs": [],
   "source": [
    "# carrega os dados\n",
    "iris = load_iris()\n",
    "X = iris.data[:,::2]  # comprimento das sépalas e pétalas, indices 0 e 2\n",
    "Y = iris.target\n",
    "\n",
    "# normalização dos dados\n",
    "X_c = X - X.min(axis=0,keepdims=True)\n",
    "X_c /= X_c.max(axis=0,keepdims=True)\n",
    "\n",
    "Y_oh = oneHotIt(Y,3)\n",
    "\n",
    "X_bias = np.hstack([np.ones((150,1)),X_c])\n",
    "\n",
    "n_samples = X_bias.shape[0] # number of training examples\n",
    "n_features = X_bias.shape[1] # number of attributes (features + 1(bias))\n",
    "n_classes = 3          # number of classes\n",
    "WT = np.zeros((n_features,n_classes)) # n. de linhas é igual a número de atributos (features, pixels)\n",
    "iterations = 10000\n",
    "learningRate = 0.15\n",
    "\n",
    "losses = []\n",
    "for i in range(iterations):\n",
    "    scores = X_bias.dot(WT)\n",
    "    Y_hat_oh = softmax(scores)\n",
    "    loss = (-1. / n_samples) * np.sum(Y_oh * np.log(Y_hat_oh))\n",
    "    Grad = (-1. / n_samples) * (X_bias.T).dot(Y_oh - Y_hat_oh) \n",
    "    WT = WT - (learningRate * Grad)\n",
    "    losses.append(loss)\n",
    "    \n",
    "Y_hat = predict(X_bias,WT)"
   ]
  },
  {
   "cell_type": "code",
   "execution_count": 4,
   "metadata": {
    "collapsed": true,
    "deletable": true,
    "editable": true
   },
   "outputs": [],
   "source": [
    "def FSView(X_bias, Y, WT):\n",
    "    \n",
    "    # parâmetros da função\n",
    "    # número de elementos\n",
    "    all = 500\n",
    "    # menor valor de X\n",
    "    minX = X_bias[1].min()-0.1\n",
    "    # menor valor de Y\n",
    "    minY = X_bias[2].min()-0.1\n",
    "    # maior valor de X\n",
    "    maxX = X_bias[1].max()+0.1\n",
    "    # maior valor de Y\n",
    "    maxY = X_bias[2].max()+0.1\n",
    "    \n",
    "    # Cálculo da matriz bidimensional de atributos\n",
    "    SL, PL = np.meshgrid(np.linspace(minX, maxX, all), \n",
    "                         np.linspace(minY, maxY, all))\n",
    "    X_guessed = np.c_[SL.ravel(), PL.ravel()]\n",
    "    \n",
    "    # adição do bias\n",
    "    X_bias_guessed = np.hstack([np.ones((X_guessed.shape[0],1)),X_guessed])\n",
    "    \n",
    "    # predição dos dados\n",
    "    Y_hat = predict(X_bias_guessed,WT)\n",
    "    \n",
    "    # cria a figura do tamanho adequado para a correção automática\n",
    "    fig = plt.figure(figsize=(8,5))\n",
    "    \n",
    "    # plota regiões de predição\n",
    "    plt.pcolormesh(SL, PL, Y_hat.reshape(all,all), cmap=plt.cm.PuBu)\n",
    "    \n",
    "    # plota dados originais\n",
    "    colors = np.array(['r','y','b'])\n",
    "    plt.scatter(X_bias[:, 1], X_bias[:, 2], c=colors[Y])\n",
    "    plt.title('Visualizacão do mapa de atributos')\n",
    "    plt.xlabel('Comprimento sepalas')\n",
    "    plt.ylabel('Comprimento petalas')\n",
    "    plt.savefig('my_mapa_atributos.png')\n",
    "    plt.show()"
   ]
  },
  {
   "cell_type": "code",
   "execution_count": 5,
   "metadata": {
    "collapsed": false,
    "deletable": true,
    "editable": true
   },
   "outputs": [
    {
     "data": {
      "image/png": "[encoded data removed]",
      "text/plain": [
       "<matplotlib.figure.Figure at 0x7f494e80a438>"
      ]
     },
     "metadata": {},
     "output_type": "display_data"
    }
   ],
   "source": [
    "FSView(X_bias,Y,WT)"
   ]
  },
  {
   "cell_type": "code",
   "execution_count": null,
   "metadata": {
    "collapsed": true,
    "deletable": true,
    "editable": true
   },
   "outputs": [],
   "source": []
  }
 ],
 "metadata": {
  "kernelspec": {
   "display_name": "Python 3",
   "language": "python",
   "name": "python3"
  },
  "language_info": {
   "codemirror_mode": {
    "name": "ipython",
    "version": 3
   },
   "file_extension": ".py",
   "mimetype": "text/x-python",
   "name": "python",
   "nbconvert_exporter": "python",
   "pygments_lexer": "ipython3",
   "version": "3.6.0"
  }
 },
 "nbformat": 4,
 "nbformat_minor": 2
}
